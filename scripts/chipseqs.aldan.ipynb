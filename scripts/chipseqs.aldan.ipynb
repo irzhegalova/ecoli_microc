{
 "cells": [
  {
   "cell_type": "code",
   "execution_count": 3,
   "id": "26b9958f-3438-4c78-80d1-8a30cf5d810d",
   "metadata": {},
   "outputs": [],
   "source": [
    "#!chromosight quantify --pattern hairpins --threads=12 data/hairpins_25.bedpe data/wt.combined.MG1655.mapq30.25.cool hairpins.AGav"
   ]
  },
  {
   "cell_type": "code",
   "execution_count": null,
   "id": "a714de71-b6c0-4124-9318-1108fb2d5ca8",
   "metadata": {},
   "outputs": [],
   "source": [
    "# !chromosight detect --pattern hairpins --threads=4 --min-separation=200 data/wt.combined.MG1655.mapq30.25.mcool::/resolutions/25 data/hairpins_25 "
   ]
  },
  {
   "cell_type": "code",
   "execution_count": 1,
   "id": "3a43dac8-3bc4-44b8-81cc-c8328d7f2ac6",
   "metadata": {},
   "outputs": [],
   "source": [
    "import pandas as pd\n",
    "import cooler\n",
    "import cooltools\n",
    "import bioframe as bf\n",
    "import os\n",
    "import matplotlib.pyplot as plt\n",
    "import numpy as np\n",
    "from scipy.stats import bootstrap\n",
    "import seaborn as sns\n",
    "os.chdir('/home/izhegalova/ecoli_microc')\n",
    "from textwrap import wrap\n",
    "from matplotlib import font_manager\n",
    "font_dirs = [\"/home/izhegalova/fonts/\"]  # The path to the custom font file.\n",
    "font_files = font_manager.findSystemFonts(fontpaths=font_dirs)\n",
    "for font_file in font_files:\n",
    "    font_manager.fontManager.addfont(font_file)\n",
    "susielu = [\"#b84873\", \"#6dbc5f\",\"#5a3789\",\"#bdab3d\",\"#6d80d8\",\"#bd7635\",\"#bf68b8\",\"#46c19a\",\"#ba4b41\",\"#71883b\"]\n",
    "sns.set_theme(context=\"paper\", style='whitegrid', palette=susielu, font=\"Arial\")"
   ]
  },
  {
   "cell_type": "code",
   "execution_count": 2,
   "id": "f3ac334a-bdad-4c50-a6c0-df6897256760",
   "metadata": {},
   "outputs": [],
   "source": [
    "# colors\n",
    "# Create an array with the colors you want to use\n",
    "susielu = [\"#b84873\", \"#6dbc5f\",\"#5a3789\",\"#bdab3d\",\"#6d80d8\",\"#bd7635\",\"#bf68b8\",\"#46c19a\",\"#ba4b41\",\"#71883b\"] # Set your custom color palette\n",
    "# susielu_pal = sns.set_palette(sns.color_palette(susielu))\n",
    "susielu_greyscale = [\"#636363\", \"#a4a4a4\",\"#444444\", \"#a7a7a7\", \"#828282\",] # Set your custom color palette\n",
    "# susielu_greyscale_pal = sns.set_palette(sns.color_palette(susielu_greyscale))\n",
    "susielu_accent = [\"#636363\", \"#b84873\", \"#a4a4a4\",\"#444444\", \"#a7a7a7\", \"#828282\",] \n",
    "sns.set_theme(context=\"paper\", style='whitegrid', palette=susielu) #, font=\"Arial\"\n",
    "cm = 1/2.54  # centimeters in inches"
   ]
  },
  {
   "cell_type": "code",
   "execution_count": 3,
   "id": "3301c349-6322-4415-be99-66e916094799",
   "metadata": {},
   "outputs": [],
   "source": [
    "# %% create bins\n",
    "resolution = 10\n",
    "clr = cooler.Cooler('data/wt.combined.MG1655.mapq30.10.mcool::resolutions/' + str(resolution))\n",
    "df_chromsizes = clr.chromsizes\n",
    "bins = cooler.binnify(df_chromsizes, 25)\n",
    "bins.chrom = bins.chrom.astype(str)\n",
    "fasta_records = bf.load_fasta('data/genome.fasta')\n",
    "view_df_chromsizes = clr.chromsizes.reset_index()\n",
    "view_df_chromsizes.columns = ['chrom', 'end']\n",
    "view_df_chromsizes['start'] = 0\n",
    "view_df_chromsizes['name'] = 'NC_000913.3'\n",
    "view_df_chromsizes = view_df_chromsizes[['chrom', 'start', 'end', 'name']]"
   ]
  },
  {
   "cell_type": "markdown",
   "id": "a49e7d82-1444-4102-9e2a-bf401db55197",
   "metadata": {
    "jp-MarkdownHeadingCollapsed": true,
    "tags": []
   },
   "source": [
    "# preprocess feature annotation"
   ]
  },
  {
   "cell_type": "code",
   "execution_count": 20,
   "id": "1e66f329-7034-4ae6-acb7-4bb73587367a",
   "metadata": {},
   "outputs": [
    {
     "data": {
      "text/html": [
       "<div>\n",
       "<style scoped>\n",
       "    .dataframe tbody tr th:only-of-type {\n",
       "        vertical-align: middle;\n",
       "    }\n",
       "\n",
       "    .dataframe tbody tr th {\n",
       "        vertical-align: top;\n",
       "    }\n",
       "\n",
       "    .dataframe thead th {\n",
       "        text-align: right;\n",
       "    }\n",
       "</style>\n",
       "<table border=\"1\" class=\"dataframe\">\n",
       "  <thead>\n",
       "    <tr style=\"text-align: right;\">\n",
       "      <th></th>\n",
       "      <th>chrom</th>\n",
       "      <th>start</th>\n",
       "      <th>end</th>\n",
       "    </tr>\n",
       "  </thead>\n",
       "  <tbody>\n",
       "    <tr>\n",
       "      <th>0</th>\n",
       "      <td>NC_000913.3</td>\n",
       "      <td>29400</td>\n",
       "      <td>29450</td>\n",
       "    </tr>\n",
       "    <tr>\n",
       "      <th>1</th>\n",
       "      <td>NC_000913.3</td>\n",
       "      <td>42325</td>\n",
       "      <td>42375</td>\n",
       "    </tr>\n",
       "    <tr>\n",
       "      <th>2</th>\n",
       "      <td>NC_000913.3</td>\n",
       "      <td>75650</td>\n",
       "      <td>75700</td>\n",
       "    </tr>\n",
       "    <tr>\n",
       "      <th>3</th>\n",
       "      <td>NC_000913.3</td>\n",
       "      <td>75900</td>\n",
       "      <td>75950</td>\n",
       "    </tr>\n",
       "    <tr>\n",
       "      <th>4</th>\n",
       "      <td>NC_000913.3</td>\n",
       "      <td>76150</td>\n",
       "      <td>76200</td>\n",
       "    </tr>\n",
       "  </tbody>\n",
       "</table>\n",
       "</div>"
      ],
      "text/plain": [
       "         chrom  start    end\n",
       "0  NC_000913.3  29400  29450\n",
       "1  NC_000913.3  42325  42375\n",
       "2  NC_000913.3  75650  75700\n",
       "3  NC_000913.3  75900  75950\n",
       "4  NC_000913.3  76150  76200"
      ]
     },
     "execution_count": 20,
     "metadata": {},
     "output_type": "execute_result"
    }
   ],
   "source": [
    "df = pd.read_excel('data/hairpins_Gavrilov.xlsx')\n",
    "\n",
    "hairpins_df_bedpe = pd.DataFrame({\n",
    "    'chrom1': 'NC_000913.3',\n",
    "    'start1': df.wt_left//25*25,\n",
    "    'end1': (df.wt_left//25+1)*25,\n",
    "    'chrom2': 'NC_000913.3',\n",
    "    'start2': df.wt_right//25*25,\n",
    "    'end2': (df.wt_right//25+1)*25,\n",
    "})\n",
    "\n",
    "hairpins_df_bed = pd.DataFrame({\n",
    "    'chrom': 'NC_000913.3',\n",
    "    'start': df.wt_left//25*25,\n",
    "    'end': (df.wt_right//25+1)*25,\n",
    "})\n",
    "# hairpins_df_bedpe.to_csv('data/hairpins_25.bedpe', sep='\\t', \n",
    "# index=False, header=False)\n",
    "# hairpins_df_bed.to_csv('data/hairpins_25.bed', sep='\\t', index=False, header=False)\n",
    "\n",
    "hairpins_df_Pseudobedpe = pd.DataFrame({\n",
    "    'chrom1': 'NC_000913.3',\n",
    "    'start1': df.wt_middle//25*25,\n",
    "    'end1': (df.wt_middle//25+1)*25,\n",
    "    'chrom2': 'NC_000913.3',\n",
    "    'start2': df.wt_middle//25*25,\n",
    "    'end2': (df.wt_middle//25+1)*25,\n",
    "})\n",
    "\n",
    "hairpinsMiddle_df =pd.DataFrame({\n",
    "    'chrom': 'NC_000913.3',\n",
    "    'start': df.wt_middle//25*25,\n",
    "    'end': (df.wt_middle//25+1)*25,\n",
    "})\n",
    "\n",
    "\n",
    "hairpins_df_middleOfShouldes = pd.DataFrame({\n",
    "    'chrom1': 'NC_000913.3',\n",
    "    'start1': (df.wt_left+df.wt_right)/4//25*25,\n",
    "    'end1': (df.wt_left+df.wt_right)/4//25*25+25,\n",
    "    'chrom2': 'NC_000913.3',\n",
    "    'start2': (df.wt_right-(df.wt_right-df.wt_left)/4)//25*25,\n",
    "    'end2': (df.wt_right-(df.wt_right-df.wt_left)/4)//25*25+25,\n",
    "})\n",
    "hairpins_df_middleOfShouldes.to_csv('data/hairpins_25.middleOfShouldes.bedpe', sep='\\t', index=False, header=False)\n",
    "\n",
    "\n",
    "hairpins_df_middleOfShouldes_50 = pd.DataFrame({\n",
    "    'chrom1': 'NC_000913.3',\n",
    "    'start1': (df.wt_left+df.wt_right)/4//25*25,\n",
    "    'end1': (df.wt_left+df.wt_right)/4//25*25+50,\n",
    "    'chrom2': 'NC_000913.3',\n",
    "    'start2': (df.wt_right-(df.wt_right-df.wt_left)/4)//25*25,\n",
    "    'end2': (df.wt_right-(df.wt_right-df.wt_left)/4)//25*25+50,\n",
    "})\n",
    "tmp1 = pd.DataFrame({\n",
    "    'chrom': 'NC_000913.3',\n",
    "    'start': (df.wt_left+df.wt_right)/4//25*25,\n",
    "    'end': (df.wt_left+df.wt_right)/4//25*25+50\n",
    "})\n",
    "tmp2 = pd.DataFrame({\n",
    "    'chrom': 'NC_000913.3',\n",
    "    'start': (df.wt_right-(df.wt_right-df.wt_left)/4)//25*25,\n",
    "    'end': (df.wt_right-(df.wt_right-df.wt_left)/4)//25*25+50,\n",
    "})\n",
    "tmp = pd.concat([tmp1,tmp2])\n",
    "tmp.start = tmp.start.astype(int)\n",
    "tmp.end = tmp.end.astype(int)\n",
    "tmp.to_csv('data/hairpins_50.middleOfShouldes.bed', sep='\\t', index=False, header=False)\n",
    "hairpins_df_middleOfShouldes_50.to_csv('data/hairpins_50.middleOfShouldes.bedpe', sep='\\t', index=False, header=False)\n",
    "#hairpins_df_Pseudobedpe.to_csv('data/hairpins_25.pseudo.bedpe', sep='\\t', index=False, header=False)\n",
    "# hairpinsMiddle_df.to_csv('data/hairpins_25.middle.bed', sep='\\t', index=False, header=False)\n",
    "tmp.head()"
   ]
  },
  {
   "cell_type": "code",
   "execution_count": 5,
   "id": "2fa8142d-26d5-4743-ac84-4fc3f9baa8c3",
   "metadata": {},
   "outputs": [
    {
     "data": {
      "text/plain": [
       "2050.0"
      ]
     },
     "execution_count": 5,
     "metadata": {},
     "output_type": "execute_result"
    }
   ],
   "source": [
    "hairpins_df_bedpe['length'] = hairpins_df_bedpe.start2 - hairpins_df_bedpe.end1\n",
    "hairpins_df_bedpe.length.median()"
   ]
  },
  {
   "cell_type": "code",
   "execution_count": 4,
   "id": "80a40706-5384-41bc-86ae-a0c765f9cbda",
   "metadata": {},
   "outputs": [],
   "source": [
    "# df = pd.read_csv('data/TADs with hairpins - hptads.csv')\n",
    "df = pd.read_excel('data/hpTADs_counts_corrected.xlsx')\n",
    "df.head()\n",
    "hairpins_df_bedpe = pd.DataFrame({\n",
    "    'chrom1': 'NC_000913.3',\n",
    "    'start1': df.Start//25*25,\n",
    "    'end1': (df.Start//25+1)*25,\n",
    "    'chrom2': 'NC_000913.3',\n",
    "    'start2': df.End//25*25,\n",
    "    'end2': (df.End//25+1)*25,\n",
    "})\n",
    "# hairpins_df_bedpe.to_csv('data/hTADS_25.bedpe', sep='\\t', index=False, header=False)\n",
    "\n",
    "hairpins_df_bed = pd.DataFrame({\n",
    "    'chrom1': 'NC_000913.3',\n",
    "    'start1': df.Start//25*25,\n",
    "    'end2': (df.End//25+1)*25,\n",
    "})\n",
    "hairpins_df_bed.to_csv('data/hTADS_25.bed', sep='\\t', index=False, header=False)"
   ]
  },
  {
   "cell_type": "code",
   "execution_count": 7,
   "id": "0441c0f4-9334-4530-a0f6-efb243ef051f",
   "metadata": {},
   "outputs": [],
   "source": [
    "df = pd.read_csv('data/TADs count - tads.counts.csv')\n",
    "hairpins_df_bedpe = pd.DataFrame({\n",
    "    'chrom1': 'NC_000913.3',\n",
    "    'start1': df.start//25*25,\n",
    "    'end1': (df.start//25+1)*25,\n",
    "    'chrom2': 'NC_000913.3',\n",
    "    'start2': df.end//25*25,\n",
    "    'end2': (df.end//25+1)*25,\n",
    "})\n",
    "# hairpins_df_bedpe.to_csv('data/TADS_25.bedpe', sep='\\t', index=False, header=False)"
   ]
  },
  {
   "cell_type": "code",
   "execution_count": 5,
   "id": "ee7a0919-14f9-4055-aeba-a756e10ec78b",
   "metadata": {},
   "outputs": [],
   "source": [
    "# operons_df = pd.read_excel('data/operon_counts.xlsx', index_col=0)"
   ]
  },
  {
   "cell_type": "code",
   "execution_count": 9,
   "id": "b69b6e47-2680-40b6-a8b9-274b6d67fa67",
   "metadata": {},
   "outputs": [],
   "source": [
    "TU_df = pd.read_csv('data/Operon_TU_counts.tsv', sep='\\t', index_col=0)\n",
    "TU_df.columns = ['chrom', 'start', 'end', 'TU_name', 'strand', 'GeneID', 'genes', 'ngenes', \n",
    "                 'protein_codin', \n",
    "                 'sigma', 'nascent_wt',\n",
    "                 'totat_wt', 'nascent_wt44', 'totat_wt44']\n",
    "TU_df['chrom'] = 'NC_000913.3'\n",
    "TU_df = TU_df.query('protein_codin == True')\n",
    "TU_df['length'] = TU_df.end - TU_df.start\n",
    "bin_labels_4 = ['short', '25-50%', '50-75%', 'long']\n",
    "TU_df['length_group'] = pd.qcut(TU_df['length'], 4, labels=False)\n",
    "TU_df['lengthBool_group'] = np.where(TU_df['length'] > TU_df.length.median(), 'long', 'short')\n",
    "\n",
    "bin_labels_4 = ['bottom 50%', '50-75%', '75-90%', '>90%']\n",
    "TU_df['nascentCust_group'] = pd.qcut(TU_df['nascent_wt'], \n",
    "                                          q=[0, .5, .75, .9, 1],\n",
    "                                          labels=bin_labels_4)\n",
    "# bin_labels_nascent = ['0-33.3%', '33.3%-66.6%', '66.6-100%']\n",
    "# TU_df['nascent_group'] = pd.qcut(TU_df['nascent_wt'], 3, labels=bin_labels_nascent)\n",
    "TU_df.head()\n",
    "\n",
    "TU_df.loc[:,['chrom', 'start', 'end', 'TU_name', 'ngenes', 'strand']].to_csv(\n",
    "    'data/TUpc.bed', sep='\\t', index=False, header=False) \n",
    "TU_df.query('nascentCust_group == \">90%\"').loc[:,['chrom', 'start', 'end', 'TU_name', 'ngenes', 'strand']].to_csv(\n",
    "    'data/TUpc.nascTop10.bed', sep='\\t', index=False, header=False) \n",
    "TU_df.query('nascent_wt == 0').loc[:,['chrom', 'start', 'end', 'TU_name', 'ngenes', 'strand']].to_csv(\n",
    "    'data/TUpc.nascBot25.bed', sep='\\t', index=False, header=False) \n",
    "TU_df.query('nascent_wt > 0 and nascentCust_group != \">90%\"').loc[:,['chrom', 'start', 'end', 'TU_name', 'ngenes', 'strand']].to_csv(\n",
    "    'data/TUpc.average.bed', sep='\\t', index=False, header=False) "
   ]
  },
  {
   "cell_type": "markdown",
   "id": "d585cf1d-df1e-42bb-980f-022b8384bf3d",
   "metadata": {
    "tags": []
   },
   "source": [
    "# lifOver chain generation"
   ]
  },
  {
   "cell_type": "code",
   "execution_count": 91,
   "id": "f5a6f5ea-6917-43ae-95c9-156de09bfd6d",
   "metadata": {
    "tags": []
   },
   "outputs": [
    {
     "name": "stderr",
     "output_type": "stream",
     "text": [
      "[pyoverchain:2024-05-16 21:15:10.875007] Begin separating NC_000913.2 from sequence.NC_000913.2.fasta...\n",
      "[pyoverchain:2024-05-16 21:15:10.933341] Begin separating NC_000913.3 from genome.fasta...\n",
      "[pyoverchain:2024-05-16 21:15:10.977997] Begin building chains by 2 parallel tasks...\n",
      "Running: 1 chromosomes Finished (\u001b[38;2;0;255;0m100%\u001b[39m)|#########################|Time:  0:00:02\n",
      "[pyoverchain:2024-05-16 21:15:12.996310] Combining Results...\n"
     ]
    }
   ],
   "source": [
    "%%bash\n",
    "#NC_000913.2 -> NC_000913.3\n",
    "source ~/.bashrc\n",
    "source activate liftOver_env;\n",
    "cd data/\n",
    "pyoverchain sequence.NC_000913.2.fasta genome.fasta ../chr_map.2_3 -p 32"
   ]
  },
  {
   "cell_type": "code",
   "execution_count": 90,
   "id": "d74e758f-d79a-4160-aa6a-5be36e12ba08",
   "metadata": {},
   "outputs": [
    {
     "name": "stderr",
     "output_type": "stream",
     "text": [
      "[pyoverchain:2024-05-16 21:14:31.684910] Begin separating NC_007779.1 from sequence.W3110.fasta...\n",
      "[pyoverchain:2024-05-16 21:14:31.819591] Begin separating NC_000913.3 from genome.fasta...\n",
      "[pyoverchain:2024-05-16 21:14:31.865126] Begin building chains by 2 parallel tasks...\n",
      "Running: 1 chromosomes Finished (\u001b[38;2;0;255;0m100%\u001b[39m)|#########################|Time:  0:00:02\n",
      "[pyoverchain:2024-05-16 21:14:33.883978] Combining Results...\n"
     ]
    }
   ],
   "source": [
    "%%bash\n",
    "#W3110 -> NC_000913.3\n",
    "source ~/.bashrc\n",
    "source activate liftOver_env;\n",
    "cd data/\n",
    "pyoverchain sequence.W3110.fasta genome.fasta ../chr_map -p 32"
   ]
  },
  {
   "cell_type": "code",
   "execution_count": 4,
   "id": "168e9b9e-b86a-4378-b68a-8cebd66cabe9",
   "metadata": {},
   "outputs": [
    {
     "name": "stderr",
     "output_type": "stream",
     "text": [
      "[pyoverchain:2024-06-11 17:41:24.928398] Begin separating NC_007779.1_w3110_Mu from E_coli_w3110_G_Mu.fasta...\n",
      "[pyoverchain:2024-06-11 17:41:24.961247] Begin separating NC_000913.3 from genome.fasta...\n",
      "[pyoverchain:2024-06-11 17:41:24.991414] Begin building chains by 2 parallel tasks...\n",
      "Running: 1 chromosomes Finished (\u001b[38;2;0;255;0m100%\u001b[39m)|#########################|Time:  0:00:02\n",
      "[pyoverchain:2024-06-11 17:41:27.007395] Combining Results...\n"
     ]
    }
   ],
   "source": [
    "%%bash\n",
    "#W3110 -> NC_000913.3\n",
    "# wget https://ftp.ncbi.nlm.nih.gov/geo/series/GSE117nnn/GSE117186/suppl/GSE117186%5FE%5Fcoli%5Fw3110%5FG%5FMu%2Efasta%2Egz\n",
    "source ~/.bashrc\n",
    "source activate liftOver_env;\n",
    "cd ../data/\n",
    "pyoverchain E_coli_w3110_G_Mu.fasta genome.fasta ../chr_map_Wmu -p 8"
   ]
  },
  {
   "cell_type": "markdown",
   "id": "47ade9a5-6ef7-4ace-a450-1e62f7a9ab85",
   "metadata": {
    "tags": []
   },
   "source": [
    "# TopoI"
   ]
  },
  {
   "cell_type": "code",
   "execution_count": 212,
   "id": "fa75a814-6340-48d3-9485-7d3ec4fcb5dc",
   "metadata": {},
   "outputs": [
    {
     "name": "stderr",
     "output_type": "stream",
     "text": [
      "--2024-06-15 11:16:16--  https://ftp.ncbi.nlm.nih.gov/geo/samples/GSM5529nnn/GSM5529908/suppl/GSM5529908%5FTopoI%5FAra%5FIP%5F2%5FN3E%5FF%2Ewig%2Egz\n",
      "Resolving proxy (proxy)... 10.64.2.122\n",
      "Connecting to proxy (proxy)|10.64.2.122|:3128... connected.\n",
      "Proxy request sent, awaiting response... 200 OK\n",
      "Length: 1720584 (1.6M) [application/x-gzip]\n",
      "Saving to: ‘GSM5529908_TopoI_Ara_IP_2_N3E_F.wig.gz’\n",
      "\n",
      "     0K .......... .......... .......... .......... ..........  2% 1.26K 21m34s\n",
      "    50K .......... .......... .........."
     ]
    },
    {
     "name": "stdout",
     "output_type": "stream",
     "text": [
      "Process is interrupted.\n"
     ]
    }
   ],
   "source": [
    "%%bash\n",
    "cd data/topoI\n",
    "#wget https://ftp.ncbi.nlm.nih.gov/geo/samples/GSM5529nnn/GSM5529907/suppl/GSM5529907%5FTopoI%5FAra%5FIP%5F1%5FN3E%5FF%2Ewig%2Egz\n",
    "#wget https://ftp.ncbi.nlm.nih.gov/geo/samples/GSM5529nnn/GSM5529907/suppl/GSM5529907%5FTopoI%5FAra%5FIP%5F1%5FN3E%5FR%2Ewig%2Egz\n",
    "#wget https://ftp.ncbi.nlm.nih.gov/geo/samples/GSM5529nnn/GSM5529907/suppl/GSM5529907%5FTopoI%5FAra%5FIP%5F1%5Fdepth%2Ewig%2Egz\n",
    "\n",
    "wget https://ftp.ncbi.nlm.nih.gov/geo/samples/GSM5529nnn/GSM5529908/suppl/GSM5529908%5FTopoI%5FAra%5FIP%5F2%5FN3E%5FF%2Ewig%2Egz\n",
    "wget https://ftp.ncbi.nlm.nih.gov/geo/samples/GSM5529nnn/GSM5529908/suppl/GSM5529908%5FTopoI%5FAra%5FIP%5F2%5FN3E%5FR%2Ewig%2Egz\n",
    "wget https://ftp.ncbi.nlm.nih.gov/geo/samples/GSM5529nnn/GSM5529908/suppl/GSM5529908%5FTopoI%5FAra%5FIP%5F2%5Fdepth%2Ewig%2Egz\n",
    "\n",
    "wget https://ftp.ncbi.nlm.nih.gov/geo/samples/GSM5529nnn/GSM5529909/suppl/GSM5529909%5FTopoI%5FAra%5FIP%5F3%5FN3E%5FF%2Ewig%2Egz\n",
    "wget https://ftp.ncbi.nlm.nih.gov/geo/samples/GSM5529nnn/GSM5529909/suppl/GSM5529909%5FTopoI%5FAra%5FIP%5F3%5FN3E%5FR%2Ewig%2Egz\n",
    "wget https://ftp.ncbi.nlm.nih.gov/geo/samples/GSM5529nnn/GSM5529909/suppl/GSM5529909%5FTopoI%5FAra%5FIP%5F3%5Fdepth%2Ewig%2Egz\n",
    "gunzip *.gz"
   ]
  },
  {
   "cell_type": "code",
   "execution_count": 197,
   "id": "6c8a936a-66ea-4aed-95c9-baf32f958fe8",
   "metadata": {},
   "outputs": [
    {
     "name": "stdout",
     "output_type": "stream",
     "text": [
      "GSM5529907_TopoI_Ara_IP_1_depth.wig\n",
      "GSM5529907_TopoI_Ara_IP_1_depth.wig.bg\n",
      "GSM5529907_TopoI_Ara_IP_1_depth.wig.MG1655.bg\n",
      "GSM5529907_TopoI_Ara_IP_1_depth.wig.MG1655.srt.bg\n",
      "GSM5529907_TopoI_Ara_IP_1_N3E_F.wig\n",
      "GSM5529907_TopoI_Ara_IP_1_N3E_F.wig.bg\n",
      "GSM5529907_TopoI_Ara_IP_1_N3E_F.wig.MG1655.bg\n",
      "GSM5529907_TopoI_Ara_IP_1_N3E_F.wig.MG1655.srt.bg\n",
      "GSM5529907_TopoI_Ara_IP_1_N3E_R.wig\n",
      "GSM5529907_TopoI_Ara_IP_1_N3E_R.wig.bg\n"
     ]
    }
   ],
   "source": [
    "%%bash\n",
    "source ~/.bashrc\n",
    "source activate liftOver_env;\n",
    "cd data/\n",
    "ls topoI/ | grep wig | head"
   ]
  },
  {
   "cell_type": "code",
   "execution_count": 200,
   "id": "2f7bbbc9-fb7b-49fd-958c-69541b92ac89",
   "metadata": {},
   "outputs": [],
   "source": [
    "%%bash\n",
    "#topoI -  W3110\n",
    "source ~/.bashrc\n",
    "source activate liftOver_env;\n",
    "cd data/\n",
    "for file in topoI/*.wig;\n",
    "do \n",
    "wig2bed < ${file} > ${file}.bg;\n",
    "liftOver ${file}.bg sequence.W3110.fasta.to.genome.fasta.over.chain \\\n",
    "${file}.MG1655.bg tmp; \n",
    "# head ${file}.MG1655.bg \n",
    "sort -k1,1 -k2,2n ${file}.MG1655.bg | bedtools merge -d -1 -c 5 -o sum -i \\\n",
    "stdin > ${file}.MG1655.srt.bg;\n",
    "bedGraphToBigWig ${file}.MG1655.srt.bg genome.chrom.sizes \\\n",
    "${file}.bw;\n",
    "rm ${file}.MG1655.bg;\n",
    "rm ${file}.bg;\n",
    "rm ${file}.MG1655.srt.bg;\n",
    "done\n",
    "mv topoI/*.bw bw/\n",
    "# topo-seq/Un_IP_Mu_1_edt_for_rev_depth.wig - W3110"
   ]
  },
  {
   "cell_type": "code",
   "execution_count": 73,
   "id": "721629cd-ed55-4779-8786-2b600cc021fd",
   "metadata": {},
   "outputs": [
    {
     "name": "stdout",
     "output_type": "stream",
     "text": [
      "GSM5514277_EcTopoI_1_peaks.narrowPeak.MG1655.srt.np\n",
      "GSM5514278_EcTopoI_2_peaks.narrowPeak.MG1655.srt.np\n",
      "GSM5514279_EcTopoI_3_peaks.narrowPeak.MG1655.srt.np\n",
      "GSM5514289_EcTopoI_Rif_1_peaks.narrowPeak.MG1655.srt.np\n",
      "GSM5514290_EcTopoI_Rif_2_peaks.narrowPeak.MG1655.srt.np\n",
      "GSM5514291_EcTopoI_Rif_3_peaks.narrowPeak.MG1655.srt.np\n"
     ]
    }
   ],
   "source": [
    "%%bash\n",
    "ls data/topoI/ | grep \"srt.np\""
   ]
  },
  {
   "cell_type": "code",
   "execution_count": 80,
   "id": "1c6af67e-e19b-4309-85c9-f10c950d9db5",
   "metadata": {},
   "outputs": [],
   "source": [
    "topoi_dic = {89:'Rif_1', 90:'Rif_2', 91:'Rif_3', \n",
    "             77:'1', 78:'2', 79:'3'}\n",
    "for id in topoi_dic.keys():\n",
    "    chipseq_df = pd.read_csv(\n",
    "        \"data/topoI/GSM55142%s_EcTopoI_%s_peaks.narrowPeak.MG1655.srt.np\" % (id, topoi_dic[id]), \n",
    "        header=None, sep='\\t')\n",
    "    chipseq_df.columns = ['chrom', 'start', 'end']\n",
    "    chipseq_df_cov = bf.coverage(bins, chipseq_df)\n",
    "    chipseq_df_cov['frac'] = chipseq_df_cov.coverage*100 / 25\n",
    "\n",
    "    bf.to_bigwig(df=chipseq_df_cov.loc[:,['chrom', 'start', 'end', 'frac']], chromsizes=df_chromsizes,\n",
    "                            outpath='data/bw/EcTopoI_%s.25.bw' % topoi_dic[id],\n",
    "                            path_to_binary='/home/izhegalova/.conda/envs/liftOver_env/bin/bedGraphToBigWig')"
   ]
  },
  {
   "cell_type": "markdown",
   "id": "b88016b3-26e6-4fec-ab78-4bd7c2198fd0",
   "metadata": {
    "tags": []
   },
   "source": [
    "# Topo-seq"
   ]
  },
  {
   "cell_type": "code",
   "execution_count": 36,
   "id": "991f8b0f-a0c3-49cc-ba00-9a84f8e359d1",
   "metadata": {},
   "outputs": [
    {
     "name": "stdout",
     "output_type": "stream",
     "text": [
      "TopoI_Ara_N3E_F_masked_scaled_av_123_mock_subtr.wig\n",
      "TopoI_Ara_N3E_F_masked_scaled_av_123_subtr_mock_subtr_no_Ara.wig\n",
      "TopoI_Ara_N3E_R_masked_scaled_av_123_mock_subtr.wig\n",
      "TopoI_Ara_N3E_R_masked_scaled_av_123_subtr_mock_subtr_no_Ara.wig\n",
      "TopoI_N3E_F_masked_scaled_av_123_mock_subtr.wig\n",
      "TopoI_N3E_R_masked_scaled_av_123_mock_subtr.wig\n",
      "Un_IN_3_edt_for_rev_depth.wig\n",
      "Un_IN_3_edt_N3E.wig\n",
      "Un_IN_Mu_1_edt_for_rev_depth.wig\n",
      "Un_IN_Mu_1_edt_N3E.wig\n"
     ]
    }
   ],
   "source": [
    "%%bash\n",
    "cd data/\n",
    "#wget https://ftp.ncbi.nlm.nih.gov/geo/series/GSE182nnn/GSE182473/suppl/GSE182473%5FFinal%5Fprocessed%5Ftracks%5Fwig%2Etar%2Egz\n",
    "# tar xvf GSE182473_Final_processed_tracks_wig.tar.gz\n",
    "# mv TopoI* topo-seq/\n",
    "ls topo-seq/ | grep wig | head\n",
    "#4648001"
   ]
  },
  {
   "cell_type": "code",
   "execution_count": 32,
   "id": "94d51db8-9726-4a77-ad09-b179cf1db029",
   "metadata": {},
   "outputs": [
    {
     "name": "stderr",
     "output_type": "stream",
     "text": [
      "bash: line 4: cd: ../data/: No such file or directory\n",
      "rm: cannot remove 'topo-seq/TopoI*.wig.MG1655.bg': No such file or directory\n",
      "rm: cannot remove 'topo-seq/TopoI*.wig.bg': No such file or directory\n",
      "rm: cannot remove 'topo-seq/TopoI*.wig.MG1655.srt.bg': No such file or directory\n",
      "mv: cannot stat 'topo-seq/*.bw': No such file or directory\n"
     ]
    },
    {
     "ename": "CalledProcessError",
     "evalue": "Command 'b\"#topo-seq - W3110\\nsource ~/.bashrc\\nsource activate liftOver_env;\\ncd ../data/\\nfor file in topo-seq/TopoI*.wig;\\ndo \\n# wig2bed < ${file} > ${file}.bg; #| sed 's/_w3110_Mu//g'\\n# liftOver ${file}.bg E_coli_w3110_G_Mu.fasta.to.genome.fasta.over.chain \\\\\\n# ${file}.MG1655.bg tmp; \\n# sort -k1,1 -k2,2n ${file}.MG1655.bg | bedtools merge -i \\\\\\n# stdin -d -1 -c 5 -o sum  > ${file}.MG1655.srt.bg;\\n# bedGraphToBigWig ${file}.MG1655.srt.bg genome.chrom.sizes \\\\\\n#  ${file}.bw;\\nrm ${file}.MG1655.bg;\\nrm ${file}.bg;\\nrm ${file}.MG1655.srt.bg;\\ndone\\n\\nmv topo-seq/*.bw bw/\\n\"' returned non-zero exit status 1.",
     "output_type": "error",
     "traceback": [
      "\u001b[0;31m---------------------------------------------------------------------------\u001b[0m",
      "\u001b[0;31mCalledProcessError\u001b[0m                        Traceback (most recent call last)",
      "Cell \u001b[0;32mIn[32], line 1\u001b[0m\n\u001b[0;32m----> 1\u001b[0m \u001b[43mget_ipython\u001b[49m\u001b[43m(\u001b[49m\u001b[43m)\u001b[49m\u001b[38;5;241;43m.\u001b[39;49m\u001b[43mrun_cell_magic\u001b[49m\u001b[43m(\u001b[49m\u001b[38;5;124;43m'\u001b[39;49m\u001b[38;5;124;43mbash\u001b[39;49m\u001b[38;5;124;43m'\u001b[39;49m\u001b[43m,\u001b[49m\u001b[43m \u001b[49m\u001b[38;5;124;43m'\u001b[39;49m\u001b[38;5;124;43m'\u001b[39;49m\u001b[43m,\u001b[49m\u001b[43m \u001b[49m\u001b[38;5;124;43m\"\u001b[39;49m\u001b[38;5;124;43m#topo-seq - W3110\u001b[39;49m\u001b[38;5;130;43;01m\\n\u001b[39;49;00m\u001b[38;5;124;43msource ~/.bashrc\u001b[39;49m\u001b[38;5;130;43;01m\\n\u001b[39;49;00m\u001b[38;5;124;43msource activate liftOver_env;\u001b[39;49m\u001b[38;5;130;43;01m\\n\u001b[39;49;00m\u001b[38;5;124;43mcd ../data/\u001b[39;49m\u001b[38;5;130;43;01m\\n\u001b[39;49;00m\u001b[38;5;124;43mfor file in topo-seq/TopoI*.wig;\u001b[39;49m\u001b[38;5;130;43;01m\\n\u001b[39;49;00m\u001b[38;5;124;43mdo \u001b[39;49m\u001b[38;5;130;43;01m\\n\u001b[39;49;00m\u001b[38;5;124;43m# wig2bed < $\u001b[39;49m\u001b[38;5;132;43;01m{file}\u001b[39;49;00m\u001b[38;5;124;43m > $\u001b[39;49m\u001b[38;5;132;43;01m{file}\u001b[39;49;00m\u001b[38;5;124;43m.bg; #| sed \u001b[39;49m\u001b[38;5;124;43m'\u001b[39;49m\u001b[38;5;124;43ms/_w3110_Mu//g\u001b[39;49m\u001b[38;5;124;43m'\u001b[39;49m\u001b[38;5;130;43;01m\\n\u001b[39;49;00m\u001b[38;5;124;43m# liftOver $\u001b[39;49m\u001b[38;5;132;43;01m{file}\u001b[39;49;00m\u001b[38;5;124;43m.bg E_coli_w3110_G_Mu.fasta.to.genome.fasta.over.chain \u001b[39;49m\u001b[38;5;130;43;01m\\\\\u001b[39;49;00m\u001b[38;5;130;43;01m\\n\u001b[39;49;00m\u001b[38;5;124;43m# $\u001b[39;49m\u001b[38;5;132;43;01m{file}\u001b[39;49;00m\u001b[38;5;124;43m.MG1655.bg tmp; \u001b[39;49m\u001b[38;5;130;43;01m\\n\u001b[39;49;00m\u001b[38;5;124;43m# sort -k1,1 -k2,2n $\u001b[39;49m\u001b[38;5;132;43;01m{file}\u001b[39;49;00m\u001b[38;5;124;43m.MG1655.bg | bedtools merge -i \u001b[39;49m\u001b[38;5;130;43;01m\\\\\u001b[39;49;00m\u001b[38;5;130;43;01m\\n\u001b[39;49;00m\u001b[38;5;124;43m# stdin -d -1 -c 5 -o sum  > $\u001b[39;49m\u001b[38;5;132;43;01m{file}\u001b[39;49;00m\u001b[38;5;124;43m.MG1655.srt.bg;\u001b[39;49m\u001b[38;5;130;43;01m\\n\u001b[39;49;00m\u001b[38;5;124;43m# bedGraphToBigWig $\u001b[39;49m\u001b[38;5;132;43;01m{file}\u001b[39;49;00m\u001b[38;5;124;43m.MG1655.srt.bg genome.chrom.sizes \u001b[39;49m\u001b[38;5;130;43;01m\\\\\u001b[39;49;00m\u001b[38;5;130;43;01m\\n\u001b[39;49;00m\u001b[38;5;124;43m#  $\u001b[39;49m\u001b[38;5;132;43;01m{file}\u001b[39;49;00m\u001b[38;5;124;43m.bw;\u001b[39;49m\u001b[38;5;130;43;01m\\n\u001b[39;49;00m\u001b[38;5;124;43mrm $\u001b[39;49m\u001b[38;5;132;43;01m{file}\u001b[39;49;00m\u001b[38;5;124;43m.MG1655.bg;\u001b[39;49m\u001b[38;5;130;43;01m\\n\u001b[39;49;00m\u001b[38;5;124;43mrm $\u001b[39;49m\u001b[38;5;132;43;01m{file}\u001b[39;49;00m\u001b[38;5;124;43m.bg;\u001b[39;49m\u001b[38;5;130;43;01m\\n\u001b[39;49;00m\u001b[38;5;124;43mrm $\u001b[39;49m\u001b[38;5;132;43;01m{file}\u001b[39;49;00m\u001b[38;5;124;43m.MG1655.srt.bg;\u001b[39;49m\u001b[38;5;130;43;01m\\n\u001b[39;49;00m\u001b[38;5;124;43mdone\u001b[39;49m\u001b[38;5;130;43;01m\\n\u001b[39;49;00m\u001b[38;5;130;43;01m\\n\u001b[39;49;00m\u001b[38;5;124;43mmv topo-seq/*.bw bw/\u001b[39;49m\u001b[38;5;130;43;01m\\n\u001b[39;49;00m\u001b[38;5;124;43m\"\u001b[39;49m\u001b[43m)\u001b[49m\n",
      "File \u001b[0;32m~/.conda/envs/ecoli_microc/lib/python3.10/site-packages/IPython/core/interactiveshell.py:2541\u001b[0m, in \u001b[0;36mInteractiveShell.run_cell_magic\u001b[0;34m(self, magic_name, line, cell)\u001b[0m\n\u001b[1;32m   2539\u001b[0m \u001b[38;5;28;01mwith\u001b[39;00m \u001b[38;5;28mself\u001b[39m\u001b[38;5;241m.\u001b[39mbuiltin_trap:\n\u001b[1;32m   2540\u001b[0m     args \u001b[38;5;241m=\u001b[39m (magic_arg_s, cell)\n\u001b[0;32m-> 2541\u001b[0m     result \u001b[38;5;241m=\u001b[39m \u001b[43mfn\u001b[49m\u001b[43m(\u001b[49m\u001b[38;5;241;43m*\u001b[39;49m\u001b[43margs\u001b[49m\u001b[43m,\u001b[49m\u001b[43m \u001b[49m\u001b[38;5;241;43m*\u001b[39;49m\u001b[38;5;241;43m*\u001b[39;49m\u001b[43mkwargs\u001b[49m\u001b[43m)\u001b[49m\n\u001b[1;32m   2543\u001b[0m \u001b[38;5;66;03m# The code below prevents the output from being displayed\u001b[39;00m\n\u001b[1;32m   2544\u001b[0m \u001b[38;5;66;03m# when using magics with decorator @output_can_be_silenced\u001b[39;00m\n\u001b[1;32m   2545\u001b[0m \u001b[38;5;66;03m# when the last Python token in the expression is a ';'.\u001b[39;00m\n\u001b[1;32m   2546\u001b[0m \u001b[38;5;28;01mif\u001b[39;00m \u001b[38;5;28mgetattr\u001b[39m(fn, magic\u001b[38;5;241m.\u001b[39mMAGIC_OUTPUT_CAN_BE_SILENCED, \u001b[38;5;28;01mFalse\u001b[39;00m):\n",
      "File \u001b[0;32m~/.conda/envs/ecoli_microc/lib/python3.10/site-packages/IPython/core/magics/script.py:155\u001b[0m, in \u001b[0;36mScriptMagics._make_script_magic.<locals>.named_script_magic\u001b[0;34m(line, cell)\u001b[0m\n\u001b[1;32m    153\u001b[0m \u001b[38;5;28;01melse\u001b[39;00m:\n\u001b[1;32m    154\u001b[0m     line \u001b[38;5;241m=\u001b[39m script\n\u001b[0;32m--> 155\u001b[0m \u001b[38;5;28;01mreturn\u001b[39;00m \u001b[38;5;28;43mself\u001b[39;49m\u001b[38;5;241;43m.\u001b[39;49m\u001b[43mshebang\u001b[49m\u001b[43m(\u001b[49m\u001b[43mline\u001b[49m\u001b[43m,\u001b[49m\u001b[43m \u001b[49m\u001b[43mcell\u001b[49m\u001b[43m)\u001b[49m\n",
      "File \u001b[0;32m~/.conda/envs/ecoli_microc/lib/python3.10/site-packages/IPython/core/magics/script.py:315\u001b[0m, in \u001b[0;36mScriptMagics.shebang\u001b[0;34m(self, line, cell)\u001b[0m\n\u001b[1;32m    310\u001b[0m \u001b[38;5;28;01mif\u001b[39;00m args\u001b[38;5;241m.\u001b[39mraise_error \u001b[38;5;129;01mand\u001b[39;00m p\u001b[38;5;241m.\u001b[39mreturncode \u001b[38;5;241m!=\u001b[39m \u001b[38;5;241m0\u001b[39m:\n\u001b[1;32m    311\u001b[0m     \u001b[38;5;66;03m# If we get here and p.returncode is still None, we must have\u001b[39;00m\n\u001b[1;32m    312\u001b[0m     \u001b[38;5;66;03m# killed it but not yet seen its return code. We don't wait for it,\u001b[39;00m\n\u001b[1;32m    313\u001b[0m     \u001b[38;5;66;03m# in case it's stuck in uninterruptible sleep. -9 = SIGKILL\u001b[39;00m\n\u001b[1;32m    314\u001b[0m     rc \u001b[38;5;241m=\u001b[39m p\u001b[38;5;241m.\u001b[39mreturncode \u001b[38;5;129;01mor\u001b[39;00m \u001b[38;5;241m-\u001b[39m\u001b[38;5;241m9\u001b[39m\n\u001b[0;32m--> 315\u001b[0m     \u001b[38;5;28;01mraise\u001b[39;00m CalledProcessError(rc, cell)\n",
      "\u001b[0;31mCalledProcessError\u001b[0m: Command 'b\"#topo-seq - W3110\\nsource ~/.bashrc\\nsource activate liftOver_env;\\ncd ../data/\\nfor file in topo-seq/TopoI*.wig;\\ndo \\n# wig2bed < ${file} > ${file}.bg; #| sed 's/_w3110_Mu//g'\\n# liftOver ${file}.bg E_coli_w3110_G_Mu.fasta.to.genome.fasta.over.chain \\\\\\n# ${file}.MG1655.bg tmp; \\n# sort -k1,1 -k2,2n ${file}.MG1655.bg | bedtools merge -i \\\\\\n# stdin -d -1 -c 5 -o sum  > ${file}.MG1655.srt.bg;\\n# bedGraphToBigWig ${file}.MG1655.srt.bg genome.chrom.sizes \\\\\\n#  ${file}.bw;\\nrm ${file}.MG1655.bg;\\nrm ${file}.bg;\\nrm ${file}.MG1655.srt.bg;\\ndone\\n\\nmv topo-seq/*.bw bw/\\n\"' returned non-zero exit status 1."
     ]
    }
   ],
   "source": [
    "%%bash\n",
    "#topo-seq - W3110\n",
    "source ~/.bashrc\n",
    "source activate liftOver_env;\n",
    "cd data/\n",
    "for file in topo-seq/TopoI*.wig;\n",
    "do \n",
    "# wig2bed < ${file} > ${file}.bg; #| sed 's/_w3110_Mu//g'\n",
    "# liftOver ${file}.bg E_coli_w3110_G_Mu.fasta.to.genome.fasta.over.chain \\\n",
    "# ${file}.MG1655.bg tmp; \n",
    "# sort -k1,1 -k2,2n ${file}.MG1655.bg | bedtools merge -i \\\n",
    "# stdin -d -1 -c 5 -o sum  > ${file}.MG1655.srt.bg;\n",
    "# bedGraphToBigWig ${file}.MG1655.srt.bg genome.chrom.sizes \\\n",
    "#  ${file}.bw;\n",
    "rm ${file}.MG1655.bg;\n",
    "rm ${file}.bg;\n",
    "rm ${file}.MG1655.srt.bg;\n",
    "done\n",
    "\n",
    "mv topo-seq/*.bw bw/\n"
   ]
  },
  {
   "cell_type": "markdown",
   "id": "6f035bfc-44a5-4fd2-be84-9fc3c7f0fa18",
   "metadata": {
    "jp-MarkdownHeadingCollapsed": true,
    "tags": []
   },
   "source": [
    "# GyrA"
   ]
  },
  {
   "cell_type": "code",
   "execution_count": 70,
   "id": "d8d56ade-508e-4051-9780-0e23196a3673",
   "metadata": {},
   "outputs": [
    {
     "name": "stdout",
     "output_type": "stream",
     "text": [
      "/home/izhegalova/ecoli_microc\n",
      "GSE117186_RAW\n",
      "GSE117186_RAW.zip\n",
      "GSM5511056_gyra_expo_1.gff\n",
      "GSM5511057_gyra_expo_2.gff\n",
      "GSM5511058_gyrb_expo_1.gff\n",
      "GSM5511059_gyrb_expo_2.gff\n"
     ]
    }
   ],
   "source": [
    "%%bash\n",
    "pwd\n",
    "cd data/gyrA/\n",
    "ls\n",
    "#wget https://ftp.ncbi.nlm.nih.gov/geo/samples/GSM3273nnn/GSM3273139/suppl/GSM3273139%5FCfx%5FIP%5FMu%5F10mkM%5F1%2Etar%2Egz\n",
    "# unzip *.zip\n",
    "mv */*.wig ."
   ]
  },
  {
   "cell_type": "code",
   "execution_count": 79,
   "id": "6e6970ee-4fa7-4e7d-99a0-ed864dc4955b",
   "metadata": {},
   "outputs": [],
   "source": [
    "%%bash\n",
    "#E. coli w3110 MuSGS\n",
    "source ~/.bashrc\n",
    "source activate liftOver_env;\n",
    "cd data/\n",
    "# for file in gyrA/*_IP_*.wig;\n",
    "# do \n",
    "# # sed -i \"s/\\t\\t/\\t/g\" ${file}\n",
    "# # wig2bed < ${file} > ${file}.bg;\n",
    "# # liftOver ${file}.bg E_coli_w3110_G_Mu.fasta.to.genome.fasta.over.chain \\\n",
    "# # ${file}.MG1655.bg tmp; \n",
    "# # head ${file}.MG1655.bg\n",
    "# sort -k1,1 -k2,2n ${file}.MG1655.bg | bedtools merge -i \\\n",
    "# stdin -d -1 -c 5 -o sum  > ${file}.MG1655.srt.bg;\n",
    "# # head ${file}.MG1655.srt.bg\n",
    "# bedGraphToBigWig ${file}.MG1655.srt.bg genome.chrom.sizes \\\n",
    "# ${file}.bw;\n",
    "# # rm ${file}.MG1655.bg;\n",
    "# # rm ${file}.bg;\n",
    "# # rm ${file}.MG1655.srt.bg;\n",
    "# done\n",
    "\n",
    "mv gyrA/*.bw bw/"
   ]
  },
  {
   "cell_type": "code",
   "execution_count": 20,
   "id": "50e44ef4-4ff5-4c89-81aa-9311e5f516bb",
   "metadata": {},
   "outputs": [
    {
     "name": "stdout",
     "output_type": "stream",
     "text": [
      "NC_000913.3\t\tgyrb_expo_1.bam_(+)\t40\t40\t1.00\t+\t.\t.\n",
      "NC_000913.3\t\tgyrb_expo_1.bam_(+)\t41\t41\t1.00\t+\t.\t.\n",
      "NC_000913.3\t\tgyrb_expo_1.bam_(+)\t42\t42\t1.00\t+\t.\t.\n",
      "NC_000913.3\t\tgyrb_expo_1.bam_(+)\t43\t43\t1.00\t+\t.\t.\n",
      "NC_000913.3\t\tgyrb_expo_1.bam_(+)\t44\t44\t1.00\t+\t.\t.\n",
      "NC_000913.3\t\tgyrb_expo_1.bam_(+)\t45\t45\t1.00\t+\t.\t.\n",
      "NC_000913.3\t\tgyrb_expo_1.bam_(+)\t46\t46\t1.00\t+\t.\t.\n",
      "NC_000913.3\t\tgyrb_expo_1.bam_(+)\t47\t47\t1.00\t+\t.\t.\n",
      "NC_000913.3\t\tgyrb_expo_1.bam_(+)\t48\t48\t1.00\t+\t.\t.\n",
      "NC_000913.3\t\tgyrb_expo_1.bam_(+)\t49\t49\t1.00\t+\t.\t.\n"
     ]
    }
   ],
   "source": [
    "%%bash\n",
    "cd data/gyrA/\n",
    "#wget ftp://ftp.ncbi.nlm.nih.gov/geo/samples/GSM5511nnn/GSM5511056/suppl/GSM5511056%5Fgyra%5Fexpo%5F1%2Egff%2Egz\n",
    "#wget ftp://ftp.ncbi.nlm.nih.gov/geo/samples/GSM5511nnn/GSM5511057/suppl/GSM5511057%5Fgyra%5Fexpo%5F2%2Egff%2Egz\n",
    "#wget ftp://ftp.ncbi.nlm.nih.gov/geo/samples/GSM5511nnn/GSM5511058/suppl/GSM5511058%5Fgyrb%5Fexpo%5F1%2Egff%2Egz\n",
    "#wget ftp://ftp.ncbi.nlm.nih.gov/geo/samples/GSM5511nnn/GSM5511059/suppl/GSM5511059%5Fgyrb%5Fexpo%5F2%2Egff%2Egz\n",
    "# gunzip *.gff.gz\n",
    "head GSM5511058_gyrb_expo_1.gff"
   ]
  },
  {
   "cell_type": "code",
   "execution_count": 50,
   "id": "01bf5cb7-730b-48a9-af71-17e5193cddde",
   "metadata": {},
   "outputs": [],
   "source": [
    "%%bash\n",
    "# E.coli genome (NC_000913.3)\n",
    "source ~/.bashrc\n",
    "source activate liftOver_env;\n",
    "cd data/\n",
    "# gff2bed --do-not-sort < gyrA/GSM5511057_gyra_expo_2.gff #> gyrA/GSM5511057_gyra_expo_2.gff.bg\n",
    "# head gyrA/GSM5511057_gyra_expo_2.gff.bg\n",
    "# for file in gyrA/*gyr*.gff;\n",
    "# do \n",
    "# # sed -i \"s/gyra_expo_[12].//g\" ${file}\n",
    "# #sed -i \"s/\\t\\t/\\t/g\" ${file}\n",
    "# # gff2bed < ${file} | cut -f1-6 > ${file}.bg;\n",
    "# # cut -f1,3,4,5 ${file} > ${file}.bg;\n",
    "# sort -k1,1 -k2,2n ${file}.bg > ${file}.srt.bg;\n",
    "# head ${file}.srt.bg\n",
    "# bedGraphToBigWig ${file}.srt.bg genome.chrom.sizes \\\n",
    "# ${file}.bw;\n",
    "# # rm ${file}.bg;\n",
    "# # rm ${file}.srt.bg;\n",
    "# done\n",
    "# mv gyrA/*.bw bw/ "
   ]
  },
  {
   "cell_type": "code",
   "execution_count": 17,
   "id": "dc6352e4-7fbf-49f6-a9a6-2fef58a48779",
   "metadata": {},
   "outputs": [],
   "source": [
    "rpo_dic = {'GSM5511056_gyra_expo_1': 'GSM5511056_gyra_expo_1',\n",
    "           'GSM5511057_gyra_expo_2': 'GSM5511057_gyra_expo_2',\n",
    "           'GSM5511058_gyrb_expo_1': 'GSM5511058_gyrb_expo_1',\n",
    "           'GSM5511059_gyrb_expo_2': 'GSM5511059_gyrb_expo_2',\n",
    "           }\n",
    "for id in rpo_dic.keys():\n",
    "    chipseq_df = pd.read_csv(\n",
    "        \"data/gyrA/%s.gff\" % (rpo_dic[id]), \n",
    "        header=None, sep='\\t')\n",
    "    chipseq_df.columns = ['chrom', 'source', 'start', 'end', 'value', 'strand','id','summit']\n",
    "    chipseq_df['end'] = chipseq_df.end + 1\n",
    "    \n",
    "    chipseq_df_sum = chipseq_df.groupby(['chrom','start','end'])['value'].sum().reset_index()\n",
    "    bf.to_bigwig(df=chipseq_df_sum.sort_values(['chrom', 'start']).loc[:,['chrom', 'start', 'end', 'value']], \n",
    "                 chromsizes=df_chromsizes,\n",
    "                 outpath='data/bw/%s.bw' % rpo_dic[id],\n",
    "                 path_to_binary='/home/izhegalova/.conda/envs/liftOver_env/bin/bedGraphToBigWig')"
   ]
  },
  {
   "cell_type": "markdown",
   "id": "e416614b-c547-45ce-9554-aecb325096e7",
   "metadata": {
    "tags": []
   },
   "source": [
    "# SMC"
   ]
  },
  {
   "cell_type": "code",
   "execution_count": 162,
   "id": "2068c1fc-ca82-4cf8-9424-facd44ac88d6",
   "metadata": {},
   "outputs": [
    {
     "name": "stdout",
     "output_type": "stream",
     "text": [
      "chr\tstart\tend\tlength\tabs_summit\tpileup\t-LOG10(pvalue)\tfold_enrichment\t-LOG10(qvalue)\tname\n",
      "chr\t12098\t15791\t3694\t13827\t3064\t352.17303\t2.27983\t350.19562\tMukB_37deg_20r_WTCTRL_peak_1\n"
     ]
    }
   ],
   "source": [
    "! head -n 2 data/smc/GSE67221_MukB_37deg_20r_WTCTRL_peaks.txt"
   ]
  },
  {
   "cell_type": "code",
   "execution_count": 103,
   "id": "ceae7171-b839-49e9-83a7-cac1f7c11d34",
   "metadata": {},
   "outputs": [
    {
     "data": {
      "text/plain": [
       "CompletedProcess(args=['/home/izhegalova/.conda/envs/omics_env/bin/bedGraphToBigWig', '/scratch/tmp7oitgsgd.bg', '/scratch/tmp_o7kum6u.chrom.sizes', 'data/bw/smc.25.bw'], returncode=0, stdout=b'', stderr=b'')"
      ]
     },
     "execution_count": 103,
     "metadata": {},
     "output_type": "execute_result"
    }
   ],
   "source": [
    "chipseq_df = pd.read_csv('data/smc/GSE67221_MukB_37deg_20r_WTCTRL_peaks.txt', comment='#', sep=\"\\t\")\n",
    "chipseq_df['chrom'] = 'NC_000913.3'\n",
    "# chipseq_df['start'] = chipseq_df.Peak_start\n",
    "# chipseq_df['end'] = chipseq_df.Peak_end\n",
    "chipseq_df_cov = bf.coverage(bins, chipseq_df)\n",
    "# chipseq_df_cov['frac'] = chipseq_df_cov.coverage / 25\n",
    "\n",
    "bf.to_bigwig(df=chipseq_df_cov, chromsizes=df_chromsizes,\n",
    "                        outpath='data/bw/%s.25.bw' % 'smc',\n",
    "                        path_to_binary='/home/izhegalova/.conda/envs/omics_env/bin/bedGraphToBigWig')"
   ]
  },
  {
   "cell_type": "markdown",
   "id": "3a893782-1e0a-4c30-9929-ad5aa7f8a7d6",
   "metadata": {
    "jp-MarkdownHeadingCollapsed": true,
    "tags": []
   },
   "source": [
    "# GapR"
   ]
  },
  {
   "cell_type": "code",
   "execution_count": 224,
   "id": "7c95ea15-f9fd-4cc3-b108-39523931819d",
   "metadata": {},
   "outputs": [
    {
     "name": "stderr",
     "output_type": "stream",
     "text": [
      "Warning: If your Wiggle data is a significant portion of available system memory, use the --max-mem and --sort-tmpdir options, or use --do-not-sort to disable post-conversion sorting. See --help for more information.\n",
      "Reading liftover chains\n",
      "Mapping coordinates\n",
      "Warning: If your Wiggle data is a significant portion of available system memory, use the --max-mem and --sort-tmpdir options, or use --do-not-sort to disable post-conversion sorting. See --help for more information.\n",
      "Reading liftover chains\n",
      "Mapping coordinates\n",
      "Warning: If your Wiggle data is a significant portion of available system memory, use the --max-mem and --sort-tmpdir options, or use --do-not-sort to disable post-conversion sorting. See --help for more information.\n",
      "Reading liftover chains\n",
      "Mapping coordinates\n",
      "Warning: If your Wiggle data is a significant portion of available system memory, use the --max-mem and --sort-tmpdir options, or use --do-not-sort to disable post-conversion sorting. See --help for more information.\n",
      "Reading liftover chains\n",
      "Mapping coordinates\n"
     ]
    }
   ],
   "source": [
    "%%bash\n",
    "#gapR - NC_000913_2\n",
    "source ~/.bashrc\n",
    "source activate liftOver_env;\n",
    "cd data/\n",
    "for file in gapR/*.wig;\n",
    "do \n",
    "wig2bed < ${file} | sed 's/_2/.2/g' | cut -f1,2,3,5 | \\\n",
    "awk -v OFS='\\t' '{ print \"NC_000913.2\", $3, $3+1, $4}' > ${file}.bg;\n",
    "liftOver ${file}.bg sequence.NC_000913.2.fasta.to.genome.fasta.over.chain \\\n",
    "${file}.MG1655.bg tmp ; \n",
    "sort -k1,1 -k2,2n ${file}.MG1655.bg | bedtools merge -i \\\n",
    "stdin -d -1 -c 4 -o sum  > ${file}.MG1655.srt.bg;\n",
    "bedGraphToBigWig ${file}.MG1655.srt.bg genome.chrom.sizes \\\n",
    "${file}.bw;\n",
    "rm ${file}.MG1655.bg;\n",
    "rm ${file}.bg;\n",
    "rm ${file}.MG1655.srt.bg;\n",
    "done\n",
    "\n",
    "mv gapR/*.bw bw/"
   ]
  },
  {
   "cell_type": "code",
   "execution_count": 111,
   "id": "cecf4b6f-cb62-4cd0-a36f-e66e0e33dc66",
   "metadata": {},
   "outputs": [],
   "source": [
    "%%bash\n",
    "cd data/gapR/\n",
    "#wget ftp://ftp.ncbi.nlm.nih.gov/geo/samples/GSM4628nnn/GSM4628314/suppl/GSM4628314%5FD19%2D11570%2D4278G%5FMG1655%5Fnorm%2Ewig%2Egz\n",
    "#gunzip *.gz\n",
    "#wget https://ftp.ncbi.nlm.nih.gov/geo/samples/GSM4628nnn/GSM4628312/suppl/GSM4628312%5FD19%2D11573%2D4278G%5FMG1655%5Fnorm%2Ewig%2Egz\n",
    "#wget https://ftp.ncbi.nlm.nih.gov/geo/samples/GSM4628nnn/GSM4628313/suppl/GSM4628313%5FD18%2D11475%2D3531L%5Fnorm%2Ewig%2Egz"
   ]
  },
  {
   "cell_type": "code",
   "execution_count": 102,
   "id": "48c0b216-c718-415b-a597-d8cee1a2b7fd",
   "metadata": {},
   "outputs": [],
   "source": [
    "# import sys\n",
    "# sys.path.append('/home/fox/projects/dicty/hic_loop_study/scripts/functions/modules/')\n",
    "# from functions import plot_around_loop, wrapper_stackup\n",
    "# # %%\n",
    "# nbins=81\n",
    "# i=0\n",
    "# j=0\n",
    "# fig, axs = plt.subplots(10, 10,figsize=(20,20), \n",
    "# sharex='all', sharey='all')\n",
    "# for id in range(242, 337): #337\n",
    "#     chipseq_df = pd.read_csv('data/chipseq/RHTECOLIBSD00%s.csv' % id, index_col=0)\n",
    "#     s_list, order = plot_around_loop(\n",
    "#         path_bw='data/bw/%s.25.bw' % chipseq_df['TF_name*'][0],\n",
    "#         plot_name=chipseq_df['TF_name*'][0],\n",
    "#         nbins=81,\n",
    "#         resolution=25,\n",
    "#         chrom_file=df_chromsizes,\n",
    "#         window=1000,\n",
    "#         mode=\"mean\",\n",
    "#         ymin=0,\n",
    "#         ymax=25,\n",
    "#         vmin=0,\n",
    "#         vmax=25,\n",
    "#         norm=False,\n",
    "#         fill=True,\n",
    "#         how_far_from_edge=40,\n",
    "#         bed_list=[\n",
    "#             \"data/hairpins_25.bedpe\",\n",
    "#         ],\n",
    "#         pic_path='results/',\n",
    "#         return_matrix=True\n",
    "#     )\n",
    "#     upper_median = np.nanmedian(s_list[0][order, :], axis=0)\n",
    "#     # tmp = sliding_window(seq=np.mean(s_list[i][order, :], axis=0), half_window_size=2)\n",
    "#     axs[i,j].set_title(chipseq_df['TF_name*'][0])\n",
    "#     axs[i,j].plot(upper_median)\n",
    "#     axs[i,j].set(xticklabels=[])\n",
    "#     axs[i,j].set_ylim([-1, 10])\n",
    "#     # err_style\n",
    "#     to_bootstrap = (s_list[0][order, :],)\n",
    "#     rng = np.random.default_rng()\n",
    "#     res = bootstrap(\n",
    "#     to_bootstrap,\n",
    "#     np.nanstd,\n",
    "#     n_resamples=100,\n",
    "#     confidence_level=0.9,  # vectorized=True,\n",
    "#     axis=0,\n",
    "#     random_state=rng,\n",
    "#     method=\"basic\",\n",
    "#     )\n",
    "#     dyfit = res.standard_error\n",
    "\n",
    "#     axs[i,j].fill_between(\n",
    "#         range(nbins),\n",
    "#         upper_median - dyfit,\n",
    "#         upper_median + dyfit,\n",
    "#         color=\"blue\",\n",
    "#         alpha=0.3,\n",
    "#     )\n",
    "#     i += 1\n",
    "#     if i == 10:\n",
    "#         i = 0\n",
    "#         j += 1\n",
    "# fig.savefig('results/chipseq.map_mean.pdf', dpi=100, bbox_inches='tight')\n",
    "# fig.show()\n",
    "# fig.clf()"
   ]
  },
  {
   "cell_type": "code",
   "execution_count": 19,
   "id": "44f3cedb-8c8a-4aba-88ab-30a0635b79e8",
   "metadata": {},
   "outputs": [],
   "source": [
    "%%bash\n",
    "source ~/.bashrc\n",
    "source activate liftOver_env;\n",
    "# cd data/gapR/\n",
    "# wget https://ftp.ncbi.nlm.nih.gov/geo/samples/GSM6569nnn/GSM6569550/suppl/GSM6569550%5FCC%5Fchip16%2Ebw\n",
    "# wget https://ftp.ncbi.nlm.nih.gov/geo/samples/GSM6569nnn/GSM6569551/suppl/GSM6569551%5FCC%5Fchip18%2Ebw\n",
    "# wget https://ftp.ncbi.nlm.nih.gov/geo/samples/GSM6569nnn/GSM6569552/suppl/GSM6569552%5FCC%5Fchip19%2Ebw\n",
    "# wget https://ftp.ncbi.nlm.nih.gov/geo/samples/GSM6569nnn/GSM6569553/suppl/GSM6569553%5FCC%5Fchip20%2Ebw\n",
    "# wget https://ftp.ncbi.nlm.nih.gov/geo/samples/GSM6569nnn/GSM6569554/suppl/GSM6569554%5FCC%5Fchip21%2Ebw\n",
    "# wget https://ftp.ncbi.nlm.nih.gov/geo/samples/GSM6569nnn/GSM6569555/suppl/GSM6569555%5FCC%5Fchip17%2Ebw\n",
    "for file in $(ls data/gapR/*.bw)\n",
    "do\n",
    "bigWigToBedGraph ${file} ${file}.bg;\n",
    "awk -v OFS='\\t' '{ print \"NC_000913.3\", $2, $3, $4}' ${file}.bg > ${file}.chrName.bg\n",
    "bedGraphToBigWig ${file}.chrName.bg data/genome.chrom.sizes ${file}.bigWig\n",
    "done"
   ]
  },
  {
   "cell_type": "code",
   "execution_count": 9,
   "id": "ef57c578-a04e-42bd-b568-db4881f4dc25",
   "metadata": {},
   "outputs": [],
   "source": [
    "%%bash\n",
    "source ~/.bashrc\n",
    "source activate liftOver_env;\n",
    "for file in $(ls data/redC/*.bw)\n",
    "do\n",
    "bigWigToBedGraph ${file} ${file}.bg;\n",
    "awk -v OFS='\\t' '{ print \"NC_000913.3\", $2, $3, $4}' ${file}.bg > ${file}.chrName.bg\n",
    "bedGraphToBigWig ${file}.chrName.bg data/genome.chrom.sizes ${file}.bigWig\n",
    "done"
   ]
  },
  {
   "cell_type": "markdown",
   "id": "4ef99f2c-5007-43a9-a4b5-485fd8c6f53a",
   "metadata": {
    "tags": []
   },
   "source": [
    "# H-NS"
   ]
  },
  {
   "cell_type": "code",
   "execution_count": 20,
   "id": "b1472737-3a41-4bf7-8c8d-863367b3d515",
   "metadata": {},
   "outputs": [],
   "source": [
    "# H-NS peaks\n",
    "hns_dic = {1:'4', 2:'7'}\n",
    "for id in hns_dic:\n",
    "    chipseq_df = pd.read_csv('data/h-ns/GSM476908%s_NegRif_HNS%s_peaks.bed' % \n",
    "                             (hns_dic[id], id), \n",
    "                             comment='#', header=None,\n",
    "                             sep=\"\\t\")\n",
    "    chipseq_df.columns = ['chrom', 'start', 'end', 'name', 'score']\n",
    "    chipseq_df['chrom'] = 'NC_000913.3'\n",
    "    # chipseq_df['start'] = chipseq_df.Peak_start\n",
    "    # chipseq_df['end'] = chipseq_df.Peak_end\n",
    "    chipseq_df_cov = bf.coverage(bins, chipseq_df)\n",
    "    chipseq_df_cov['frac'] = chipseq_df_cov.coverage / 25\n",
    "\n",
    "    bf.to_bigwig(df=chipseq_df_cov, chromsizes=df_chromsizes,\n",
    "                            outpath='data/bw/H-NS%s_cov.25.bw' % id,\n",
    "                            path_to_binary='/home/izhegalova/.conda/envs/omics_env/bin/bedGraphToBigWig')"
   ]
  },
  {
   "cell_type": "code",
   "execution_count": 255,
   "id": "5f5e6410-8906-4e2d-92de-12c5fb2d9bd6",
   "metadata": {},
   "outputs": [],
   "source": [
    "%%bash\n",
    "cd data/\n",
    "tail -n +2 h-ns/GSM4769087_NegRif_HNS2_quantNorm.bedgraph \\\n",
    "> h-ns/HNS2_quantNorm.noHeader.bg\n",
    "tail -n +2 h-ns/GSM4769084_NegRif_HNS1_quantNorm.bedgraph \\\n",
    "> h-ns/HNS1_quantNorm.noHeader.bg\n",
    "\n",
    "tail -n +2 h-ns/GSM4769090_PosRif_HNS1_quantNorm.bedgraph \\\n",
    "> h-ns/HNS1+Rif_quantNorm.noHeader.bg\n",
    "tail -n +2 h-ns/GSM4769093_PosRif_HNS2_quantNorm.bedgraph \\\n",
    "> h-ns/HNS2+Rif_quantNorm.noHeader.bg\n",
    "\n",
    "tail -n +2 h-ns/GSM4769109_50S1_subtractQ.bedgraph \\\n",
    "> h-ns/StpA1_50mg_quantNorm.noHeader.bg\n",
    "tail -n +2 h-ns/GSM4769110_50S2_subtractQ.bedgraph \\\n",
    "> h-ns/StpA2_50mg_quantNorm.noHeader.bg\n",
    "tail -n +2 h-ns/GSM4769111_50S3_subtractQ.bedgraph \\\n",
    "> h-ns/StpA3_50mg_quantNorm.noHeader.bg\n",
    "\n",
    "tail -n +2 h-ns/GSM4769112_100S1_subtractQ.bedgraph \\\n",
    "> h-ns/StpA1_100mg_quantNorm.noHeader.bg\n",
    "tail -n +2 h-ns/GSM4769113_100S2_subtractQ.bedgraph \\\n",
    "> h-ns/StpA2_100mg_quantNorm.noHeader.bg\n",
    "tail -n +2 h-ns/GSM4769114_100S3_subtractQ.bedgraph \\\n",
    "> h-ns/StpA3_100mg_quantNorm.noHeader.bg"
   ]
  },
  {
   "cell_type": "code",
   "execution_count": 256,
   "id": "157dc442-66c9-4def-8ee1-71f5f4ef8d38",
   "metadata": {},
   "outputs": [
    {
     "name": "stdout",
     "output_type": "stream",
     "text": [
      "h-ns/HNS1_quantNorm.noHeader.bg\n",
      "h-ns/HNS1+Rif_quantNorm.noHeader.bg\n",
      "h-ns/HNS2_quantNorm.noHeader.bg\n",
      "h-ns/HNS2+Rif_quantNorm.noHeader.bg\n",
      "h-ns/StpA1_100mg_quantNorm.noHeader.bg\n",
      "h-ns/StpA1_50mg_quantNorm.noHeader.bg\n",
      "h-ns/StpA2_100mg_quantNorm.noHeader.bg\n",
      "h-ns/StpA2_50mg_quantNorm.noHeader.bg\n",
      "h-ns/StpA3_100mg_quantNorm.noHeader.bg\n",
      "h-ns/StpA3_50mg_quantNorm.noHeader.bg\n"
     ]
    }
   ],
   "source": [
    "%%bash\n",
    "source ~/.bashrc\n",
    "source activate liftOver_env;\n",
    "cd data/\n",
    "for file in $(ls -1 h-ns/*.noHeader.bg)\n",
    "do\n",
    "echo ${file}\n",
    "bedGraphToBigWig ${file} \\\n",
    "genome.chrom.sizes ${file}.bw\n",
    "done\n",
    "mv h-ns/*.bw bw/"
   ]
  },
  {
   "cell_type": "code",
   "execution_count": 109,
   "id": "965af5ef-5939-4a3a-bfc6-0485f7456e99",
   "metadata": {},
   "outputs": [
    {
     "name": "stderr",
     "output_type": "stream",
     "text": [
      "Reading liftover chains\n",
      "Mapping coordinates\n",
      "Reading liftover chains\n",
      "Mapping coordinates\n",
      "Reading liftover chains\n",
      "Mapping coordinates\n",
      "Reading liftover chains\n",
      "Mapping coordinates\n"
     ]
    }
   ],
   "source": [
    "%%bash\n",
    "# NC_000913.2 4639675\n",
    "# !wc -l data/h-ns/HnsB.blat.basecount.pruned\n",
    "source ~/.bashrc\n",
    "source activate liftOver_env;\n",
    "cd data/\n",
    "for file in h-ns/*.pruned;\n",
    "do \n",
    "awk -v OFS='\\t' '{ print \"NC_000913.2\", $1, $1+1, $2}' ${file} > ${file}.bg\n",
    "liftOver ${file}.bg sequence.NC_000913.2.fasta.to.genome.fasta.over.chain \\\n",
    "${file}.MG1655.bg tmp; \n",
    "sort -k1,1 -k2,2n ${file}.MG1655.bg | bedtools merge -i \\\n",
    "stdin -d -1 -c 4 -o sum  > ${file}.MG1655.srt.bg;\n",
    "bedGraphToBigWig ${file}.MG1655.srt.bg genome.chrom.sizes \\\n",
    "${file}.bw;\n",
    "rm ${file}.MG1655.bg;\n",
    "rm ${file}.bg;\n",
    "rm ${file}.MG1655.srt.bg;\n",
    "done\n",
    "\n",
    "mv h-ns/*.bw bw/"
   ]
  },
  {
   "cell_type": "markdown",
   "id": "b8b10590-fcc5-4269-bdef-2fe758c69200",
   "metadata": {
    "jp-MarkdownHeadingCollapsed": true,
    "tags": []
   },
   "source": [
    "# Fis"
   ]
  },
  {
   "cell_type": "code",
   "execution_count": 237,
   "id": "19f4d013-1d15-41a7-b112-f4c9825158cd",
   "metadata": {},
   "outputs": [
    {
     "name": "stdout",
     "output_type": "stream",
     "text": [
      "GSM4769106_12F1_subtractQ.bedgraph\n",
      "GSM4769106_12F1_subtractQ.bedgraph.noHeader.bg\n",
      "GSM4769106_12F3_subtractQ.noHeader.bg\n",
      "GSM4769107_12F2_subtractQ.bedgraph\n",
      "GSM4769107_12F2_subtractQ.noHeader.bg\n",
      "GSM4769108_12F3_subtractQ.bedgraph\n",
      "GSM4769108_12F3_subtractQ.noHeader.bg\n"
     ]
    }
   ],
   "source": [
    "%%bash\n",
    "cd data/\n",
    "ls h-ns/ | grep F\n",
    "#gunzip h-ns/*.gz"
   ]
  },
  {
   "cell_type": "code",
   "execution_count": 243,
   "id": "b956391c-cc92-43d4-92ee-b87b0359716c",
   "metadata": {},
   "outputs": [],
   "source": [
    "%%bash\n",
    "cd data/\n",
    "tail -n +2 h-ns/GSM4769106_12F1_subtractQ.bedgraph \\\n",
    "> h-ns/GSM4769106_12F1_subtractQ.noHeader.bg\n",
    "tail -n +2 h-ns/GSM4769107_12F2_subtractQ.bedgraph \\\n",
    "> h-ns/GSM4769107_12F2_subtractQ.noHeader.bg\n",
    "tail -n +2 h-ns/GSM4769108_12F3_subtractQ.bedgraph \\\n",
    "> h-ns/GSM4769108_12F3_subtractQ.noHeader.bg\n",
    "\n",
    "source ~/.bashrc\n",
    "source activate liftOver_env;\n",
    "bedGraphToBigWig h-ns/GSM4769106_12F1_subtractQ.noHeader.bg \\\n",
    "genome.chrom.sizes bw/Fis1.bw\n",
    "bedGraphToBigWig h-ns/GSM4769107_12F2_subtractQ.noHeader.bg \\\n",
    "genome.chrom.sizes bw/Fis2.bw\n",
    "bedGraphToBigWig h-ns/GSM4769108_12F3_subtractQ.noHeader.bg \\\n",
    "genome.chrom.sizes bw/Fis3.bw"
   ]
  },
  {
   "cell_type": "code",
   "execution_count": 119,
   "id": "34e921d9-c5b6-4c9f-a18f-c068b21e0222",
   "metadata": {},
   "outputs": [
    {
     "name": "stderr",
     "output_type": "stream",
     "text": [
      "Reading liftover chains\n",
      "Mapping coordinates\n",
      "Reading liftover chains\n",
      "Mapping coordinates\n"
     ]
    }
   ],
   "source": [
    "%%bash\n",
    "# NC_000913.2 4639675\n",
    "# !wc -l data/h-ns/HnsB.blat.basecount.pruned\n",
    "source ~/.bashrc\n",
    "source activate liftOver_env;\n",
    "cd data/\n",
    "for file in fis/*.pruned;\n",
    "do \n",
    "awk -v OFS='\\t' '{ print \"NC_000913.2\", $1, $1+1, $2}' ${file} > ${file}.bg\n",
    "liftOver ${file}.bg sequence.NC_000913.2.fasta.to.genome.fasta.over.chain \\\n",
    "${file}.MG1655.bg tmp; \n",
    "sort -k1,1 -k2,2n ${file}.MG1655.bg | bedtools merge -i \\\n",
    "stdin -d -1 -c 4 -o sum  > ${file}.MG1655.srt.bg;\n",
    "bedGraphToBigWig ${file}.MG1655.srt.bg genome.chrom.sizes \\\n",
    "${file}.bw;\n",
    "rm ${file}.MG1655.bg;\n",
    "rm ${file}.bg;\n",
    "rm ${file}.MG1655.srt.bg;\n",
    "done\n",
    "\n",
    "mv fis/*.bw bw/"
   ]
  },
  {
   "cell_type": "markdown",
   "id": "f0ffe7b9-c7f3-4cbd-81d6-48a75719e448",
   "metadata": {
    "jp-MarkdownHeadingCollapsed": true,
    "tags": []
   },
   "source": [
    "# Sigma 70 (RpoD)"
   ]
  },
  {
   "cell_type": "code",
   "execution_count": 21,
   "id": "93d4176f-deb9-414d-a8e1-8c7c8ecd9192",
   "metadata": {},
   "outputs": [],
   "source": [
    "%%bash\n",
    "cd data/sigma70_beta/\n",
    "# wget https://ftp.ncbi.nlm.nih.gov/geo/series/GSE147nnn/GSE147611/suppl/GSE147611%5Fbetaprime%5FWT%5FRNET%2Dseq%5Frep1%5F5prime%5FR1%5Fnegative%5Fstrand%2Ewig%2Egz\n",
    "# wget https://ftp.ncbi.nlm.nih.gov/geo/series/GSE147nnn/GSE147611/suppl/GSE147611%5Fbetaprime%5FWT%5FRNET%2Dseq%5Frep1%5F5prime%5FR1%5Fpositive%5Fstrand%2Ewig%2Egz\n",
    "#wget https://ftp.ncbi.nlm.nih.gov/geo/series/GSE147nnn/GSE147611/suppl/GSE147611%5Fsigma70WT%5FRNET%2Dseq%5Frep1%5F5prime%5FR1%5Fnegative%5Fstrand%2Ewig%2Egz\n",
    "# wget https://ftp.ncbi.nlm.nih.gov/geo/series/GSE147nnn/GSE147611/suppl/GSE147611%5Fsigma70WT%5FRNET%2Dseq%5Frep1%5F5prime%5FR1%5Fpositive%5Fstrand%2Ewig%2Egz\n",
    "#gunzip *.gz"
   ]
  },
  {
   "cell_type": "code",
   "execution_count": null,
   "id": "83a752c2-777c-4c12-990d-a66745c9a125",
   "metadata": {},
   "outputs": [
    {
     "name": "stderr",
     "output_type": "stream",
     "text": [
      "Warning: If your Wiggle data is a significant portion of available system memory, use the --max-mem and --sort-tmpdir options, or use --do-not-sort to disable post-conversion sorting. See --help for more information.\n",
      "Reading liftover chains\n",
      "Mapping coordinates\n",
      "Warning: If your Wiggle data is a significant portion of available system memory, use the --max-mem and --sort-tmpdir options, or use --do-not-sort to disable post-conversion sorting. See --help for more information.\n",
      "Reading liftover chains\n",
      "Mapping coordinates\n"
     ]
    }
   ],
   "source": [
    "%%bash\n",
    "#topo-seq - W3110\n",
    "source ~/.bashrc\n",
    "source activate liftOver_env;\n",
    "cd data/\n",
    "for file in sigma70_beta/GSE147611_sigma70WT*.wig;\n",
    "do \n",
    "# sed -i '1 i\\fixedStep chrom=NC_007779.1 start=1 step=1' ${file}\n",
    "wig2bed < ${file} > ${file}.bg;\n",
    "liftOver ${file}.bg sequence.W3110.fasta.to.genome.fasta.over.chain \\\n",
    "${file}.MG1655.bg tmp; \n",
    "sort -k1,1 -k2,2n ${file}.MG1655.bg | bedtools merge -i \\\n",
    "stdin -d -1 -c 5 -o sum  > ${file}.MG1655.srt.bg;\n",
    "bedGraphToBigWig ${file}.MG1655.srt.bg genome.chrom.sizes \\\n",
    "${file}.bw;\n",
    "# rm ${file}.MG1655.bg;\n",
    "# rm ${file}.bg;\n",
    "# rm ${file}.MG1655.srt.bg;\n",
    "done\n",
    "\n",
    "mv sigma70_beta/*.bw bw/"
   ]
  },
  {
   "cell_type": "markdown",
   "id": "2d928700-1049-4582-b021-452dc559ef1d",
   "metadata": {
    "jp-MarkdownHeadingCollapsed": true,
    "tags": []
   },
   "source": [
    "# Rnap"
   ]
  },
  {
   "cell_type": "code",
   "execution_count": 37,
   "id": "e618144f-c1f5-40b7-88dc-3dfc5a6325ba",
   "metadata": {},
   "outputs": [
    {
     "name": "stdout",
     "output_type": "stream",
     "text": [
      "GSM5696104_17253_RpoD_MHS_i5006_DY330_rep1.gff.gz\n",
      "GSM5696105_17269_RpoD_MHS_i5006_DY330_rep2.gff.gz\n"
     ]
    }
   ],
   "source": [
    "%%bash\n",
    "cd data/nhs_rnap\n",
    "tar xvf GSE189206_RAW.tar\n",
    "gunzip *.gz"
   ]
  },
  {
   "cell_type": "code",
   "execution_count": 38,
   "id": "07b78787-7aa8-4188-a186-1594543aba06",
   "metadata": {},
   "outputs": [
    {
     "name": "stderr",
     "output_type": "stream",
     "text": [
      "Warning: If your Wiggle data is a significant portion of available system memory, use the --max-mem and --sort-tmpdir options, or use --do-not-sort to disable post-conversion sorting. See --help for more information.\n",
      "Reading liftover chains\n",
      "Mapping coordinates\n",
      "Warning: If your Wiggle data is a significant portion of available system memory, use the --max-mem and --sort-tmpdir options, or use --do-not-sort to disable post-conversion sorting. See --help for more information.\n",
      "Reading liftover chains\n",
      "Mapping coordinates\n"
     ]
    }
   ],
   "source": [
    "%%bash\n",
    "# W3110\n",
    "source ~/.bashrc\n",
    "source activate liftOver_env;\n",
    "cd data/\n",
    "for file in nhs_rnap/*RpoD*.gff;\n",
    "do \n",
    "# sed -i '1 i\\fixedStep chrom=NC_007779.1 start=1 step=1' ${file}\n",
    "gff2bed < ${file} | sed 's/ec2/NC_007779.1/g' | cut -f1-6 > ${file}.bg;\n",
    "liftOver ${file}.bg sequence.W3110.fasta.to.genome.fasta.over.chain \\\n",
    "${file}.MG1655.bg tmp; \n",
    "# sort -k1,1 -k2,2n ${file}.MG1655.bg | bedtools merge -i \\\n",
    "# stdin -d -1 -c 5 -o sum  > ${file}.MG1655.srt.bg;\n",
    "# bedGraphToBigWig ${file}.MG1655.srt.bg genome.chrom.sizes \\\n",
    "# ${file}.bw;\n",
    "# rm ${file}.MG1655.bg;\n",
    "# rm ${file}.bg;\n",
    "# rm ${file}.MG1655.srt.bg;\n",
    "done\n",
    "\n",
    "# mv sigma70_beta/*.bw bw/"
   ]
  },
  {
   "cell_type": "code",
   "execution_count": 39,
   "id": "48675019-4a87-4908-9819-e7230fcb9b59",
   "metadata": {},
   "outputs": [],
   "source": [
    "# peaks\n",
    "import glob\n",
    "for id in glob.glob('data/nhs_rnap/*RpoD*.MG1655.bg'):\n",
    "    \n",
    "    chipseq_df = pd.read_csv(id, \n",
    "                             comment='#', header=None,\n",
    "                             sep=\"\\t\")\n",
    "    chipseq_df.columns = ['chrom', 'start', 'end', 'name', 'score', 'strand']\n",
    "    chipseq_df['chrom'] = 'NC_000913.3'\n",
    "    # chipseq_df['start'] = chipseq_df.Peak_start\n",
    "    # chipseq_df['end'] = chipseq_df.Peak_end\n",
    "    chipseq_df_cov = bf.coverage(bins, chipseq_df)\n",
    "    chipseq_df_cov['frac'] = chipseq_df_cov.coverage / 25\n",
    "\n",
    "    bf.to_bigwig(df=chipseq_df_cov, chromsizes=df_chromsizes,\n",
    "                            outpath='data/bw/%s_cov.25.bw' % os.path.basename(id),\n",
    "                            path_to_binary='/home/izhegalova/.conda/envs/omics_env/bin/bedGraphToBigWig')"
   ]
  },
  {
   "cell_type": "code",
   "execution_count": null,
   "id": "ccd2bc94-2d40-44bd-87ea-4a6b88607d7b",
   "metadata": {},
   "outputs": [],
   "source": [
    "%%bash\n",
    "#topo-seq - W3110\n",
    "source ~/.bashrc\n",
    "source activate liftOver_env;\n",
    "cd data/\n",
    "for file in sigma70_beta/GSE147611_betaprime*.wig;\n",
    "do \n",
    "# sed -i '1 i\\fixedStep chrom=NC_007779.1 start=1 step=1' ${file}\n",
    "wig2bed < ${file} > ${file}.bg;\n",
    "liftOver ${file}.bg sequence.W3110.fasta.to.genome.fasta.over.chain \\\n",
    "${file}.MG1655.bg tmp; \n",
    "sort -k1,1 -k2,2n ${file}.MG1655.bg | bedtools merge -i \\\n",
    "stdin -d -1 -c 5 -o sum  > ${file}.MG1655.srt.bg;\n",
    "bedGraphToBigWig ${file}.MG1655.srt.bg genome.chrom.sizes \\\n",
    "${file}.bw;\n",
    "# rm ${file}.MG1655.bg;\n",
    "# rm ${file}.bg;\n",
    "# rm ${file}.MG1655.srt.bg;\n",
    "done\n",
    "\n",
    "mv sigma70_beta/*.bw bw/"
   ]
  },
  {
   "cell_type": "markdown",
   "id": "880fc700-8352-4b1a-8185-e60736ffa15e",
   "metadata": {
    "jp-MarkdownHeadingCollapsed": true,
    "tags": []
   },
   "source": [
    "# RpoD & RpoB"
   ]
  },
  {
   "cell_type": "code",
   "execution_count": null,
   "id": "b97ad833-6a2e-4cfd-9f19-f167d00d0a73",
   "metadata": {},
   "outputs": [],
   "source": [
    "%%bash\n",
    "cd data/\n",
    "# gunzip rnap/*.gz\n",
    "tail -n +2 rnap/GSM4769083_NegRif_Beta1_subtractQ.bedgraph \\\n",
    "> rnap/GSM4769083_NegRif_Beta1_subtractQ.noHeader.bg\n",
    "tail -n +2 rnap/GSM4769086_NegRif_Beta2_subtractQ.bedgraph \\\n",
    "> rnap/GSM4769086_NegRif_Beta2_subtractQ.noHeader.bg\n",
    "\n",
    "source ~/.bashrc\n",
    "source activate liftOver_env;\n",
    "bedGraphToBigWig rnap/GSM4769083_NegRif_Beta1_subtractQ.noHeader.bg \\\n",
    "genome.chrom.sizes bw/Beta1_quantNorm.bw\n",
    "bedGraphToBigWig rnap/GSM4769086_NegRif_Beta2_subtractQ.noHeader.bg \\\n",
    "genome.chrom.sizes bw/Beta2_quantNorm.bw"
   ]
  },
  {
   "cell_type": "code",
   "execution_count": 39,
   "id": "27dd9b81-19f6-4eff-8c59-fb4134d9cf44",
   "metadata": {},
   "outputs": [
    {
     "name": "stdout",
     "output_type": "stream",
     "text": [
      "NC_000913\t\tmg1655_rpob1.bam_(-)\t4639663\t4639663\t7.00\t-\t.\t.\n",
      "NC_000913\t\tmg1655_rpob1.bam_(-)\t4639664\t4639664\t7.00\t-\t.\t.\n",
      "NC_000913\t\tmg1655_rpob1.bam_(-)\t4639665\t4639665\t7.00\t-\t.\t.\n",
      "NC_000913\t\tmg1655_rpob1.bam_(-)\t4639666\t4639666\t7.00\t-\t.\t.\n",
      "NC_000913\t\tmg1655_rpob1.bam_(-)\t4639667\t4639667\t5.00\t-\t.\t.\n",
      "NC_000913\t\tmg1655_rpob1.bam_(-)\t4639668\t4639668\t5.00\t-\t.\t.\n",
      "NC_000913\t\tmg1655_rpob1.bam_(-)\t4639669\t4639669\t5.00\t-\t.\t.\n",
      "NC_000913\t\tmg1655_rpob1.bam_(-)\t4639670\t4639670\t5.00\t-\t.\t.\n",
      "NC_000913\t\tmg1655_rpob1.bam_(-)\t4639671\t4639671\t4.00\t-\t.\t.\n",
      "NC_000913\t\tmg1655_rpob1.bam_(-)\t4639672\t4639672\t3.00\t-\t.\t.\n"
     ]
    }
   ],
   "source": [
    "%%bash\n",
    "cd data/rpoD_rpoB\n",
    "#wget https://ftp.ncbi.nlm.nih.gov/geo/samples/GSM5519nnn/GSM5519061/suppl/GSM5519061%5FRpoD%5F1%2Egff%2Egz\n",
    "#wget ftp://ftp.ncbi.nlm.nih.gov/geo/samples/GSM5519nnn/GSM5519062/suppl/GSM5519062%5Frpod%5F2%2Egff%2Egz\n",
    "#wget ftp://ftp.ncbi.nlm.nih.gov/geo/samples/GSM5526nnn/GSM5526772/suppl/GSM5526772%5Frpob%5F1%2Egff%2Egz\n",
    "#wget ftp://ftp.ncbi.nlm.nih.gov/geo/samples/GSM5526nnn/GSM5526773/suppl/GSM5526773%5Frpob%5F2%2Egff%2Egz\n",
    "#wget https://ftp.ncbi.nlm.nih.gov/geo/samples/GSM4844nnn/GSM4844461/suppl/GSM4844461%5Fmg1655%5FrpoD1%2Egff%2Egz\n",
    "#wget https://ftp.ncbi.nlm.nih.gov/geo/samples/GSM4844nnn/GSM4844462/suppl/GSM4844462%5Fmg1655%5FrpoD2%2Egff%2Egz\n",
    "# gunzip *.gz\n",
    "#mv *.gff data/rpoD_rpoB\n",
    "tail GSM5526772_rpob_1.gff"
   ]
  },
  {
   "cell_type": "code",
   "execution_count": 38,
   "id": "7838e7c5-720a-458a-b892-eb7d0c9a64e7",
   "metadata": {},
   "outputs": [],
   "source": [
    "%%bash\n",
    "# NC_000913.2\n",
    "source ~/.bashrc\n",
    "source activate liftOver_env;\n",
    "cd data/\n",
    "for file in rpoD_rpoB/*mg1655_rpo*.gff;\n",
    "do \n",
    "awk -v OFS='\\t' '{ print \"NC_000913.2\", $4, $4+1, $5}' ${file} > ${file}.bg;\n",
    "liftOver ${file}.bg sequence.NC_000913.2.fasta.to.genome.fasta.over.chain \\\n",
    "${file}.MG1655.bg tmp ; \n",
    "sort -k1,1 -k2,2n ${file}.MG1655.bg | bedtools merge -i \\\n",
    "stdin -d -1 -c 4 -o sum  > ${file}.MG1655.srt.bg;\n",
    "bedGraphToBigWig ${file}.MG1655.srt.bg genome.chrom.sizes \\\n",
    "${file}.bw;\n",
    "rm ${file}.MG1655.bg;\n",
    "rm ${file}.bg;\n",
    "rm ${file}.MG1655.srt.bg;\n",
    "done\n",
    "\n",
    "mv rpoD_rpoB/*.bw bw/\n",
    "#4639675"
   ]
  },
  {
   "cell_type": "code",
   "execution_count": 41,
   "id": "2cc07027-9476-43aa-bae1-f7121e5a3b25",
   "metadata": {},
   "outputs": [],
   "source": [
    "%%bash\n",
    "# NC_000913.2\n",
    "source ~/.bashrc\n",
    "source activate liftOver_env;\n",
    "cd data/\n",
    "# for file in rpoD_rpoB/*rpob*.gff;\n",
    "# do \n",
    "# awk -v OFS='\\t' '{ print \"NC_000913.2\", $4, $4+1, $5}' ${file} > ${file}.bg;\n",
    "# liftOver ${file}.bg sequence.NC_000913.2.fasta.to.genome.fasta.over.chain \\\n",
    "# ${file}.MG1655.bg tmp ; \n",
    "# sort -k1,1 -k2,2n ${file}.MG1655.bg | bedtools merge -i \\\n",
    "# stdin -d -1 -c 4 -o sum  > ${file}.MG1655.srt.bg;\n",
    "# bedGraphToBigWig ${file}.MG1655.srt.bg genome.chrom.sizes \\\n",
    "# ${file}.bw;\n",
    "# rm ${file}.MG1655.bg;\n",
    "# rm ${file}.bg;\n",
    "# rm ${file}.MG1655.srt.bg;\n",
    "# done\n",
    "mv rpoD_rpoB/*.bw bw/"
   ]
  },
  {
   "cell_type": "code",
   "execution_count": 56,
   "id": "74752e25-6a67-440c-a66e-5fcb69ddd558",
   "metadata": {},
   "outputs": [],
   "source": [
    "# NC_000913.3\n",
    "rpo_dic = {'GSM5519061_rpod_1': 'GSM5519061_rpod_1',\n",
    "           'GSM5519062_rpod_2': 'GSM5519062_rpod_2',\n",
    "           }\n",
    "for id in rpo_dic.keys():\n",
    "    chipseq_df = pd.read_csv(\n",
    "        \"data/rpoD_rpoB/%s.gff\" % (rpo_dic[id]), \n",
    "        header=None, sep='\\t')\n",
    "    chipseq_df.columns = ['chrom', 'source', 'id', 'start', 'end', 'value', 'strand','summit', 'color']\n",
    "    chipseq_df['chrom'] = 'NC_000913.3'\n",
    "    chipseq_df_sum = chipseq_df.groupby(['chrom','start','end'])['value'].sum().reset_index()\n",
    "    chipseq_df_sum['end'] = chipseq_df_sum.start + 1\n",
    "    bf.to_bigwig(df=chipseq_df_sum.sort_values(['chrom', 'start']).loc[:,['chrom', 'start', 'end', 'value']], \n",
    "                 chromsizes=df_chromsizes,\n",
    "                 outpath='data/bw/%s.bw' % rpo_dic[id],\n",
    "                 path_to_binary='/home/izhegalova/.conda/envs/liftOver_env/bin/bedGraphToBigWig')"
   ]
  },
  {
   "cell_type": "code",
   "execution_count": 63,
   "id": "b0265652-814c-4465-bbef-39af29042212",
   "metadata": {},
   "outputs": [],
   "source": [
    "# %%bash\n",
    "# #topo-seq - W3110\n",
    "# source ~/.bashrc\n",
    "# source activate liftOver_env;\n",
    "# cd ../data/\n",
    "# for file in rpoD_rpoB/*.gff;\n",
    "# do \n",
    "# # sed -i '1 i\\fixedStep chrom=NC_007779.1 start=1 step=1' ${file}\n",
    "# gff2bed < ${file} | sed 's/gi\\|49175990\\|ref\\|NC_000913.2\\|/NC_007779.1/g' | \\\n",
    "# cut -f1-6 > ${file}.bg;\n",
    "# sort -k1,1 -k2,2n ${file}.bg | bedtools merge -i \\\n",
    "# stdin -d -1 -c 5 -o sum  > ${file}.srt.bg;\n",
    "# bedGraphToBigWig ${file}.srt.bg genome.chrom.sizes \\\n",
    "# ${file}.bw;\n",
    "# # rm ${file}.MG1655.bg;\n",
    "# # rm ${file}.bg;\n",
    "# # rm ${file}.MG1655.srt.bg;\n",
    "# done\n",
    "\n",
    "# mv sigma70_beta/*.bw bw/"
   ]
  },
  {
   "cell_type": "markdown",
   "id": "8489c216-f8dd-4e25-9919-c5e612198cb9",
   "metadata": {
    "jp-MarkdownHeadingCollapsed": true,
    "tags": []
   },
   "source": [
    "# E. coli K-12 MG1655, using ChIP-exo technology"
   ]
  },
  {
   "cell_type": "code",
   "execution_count": 131,
   "id": "7b2dbe14-45e9-4ec0-84d7-df2980c508d2",
   "metadata": {},
   "outputs": [],
   "source": [
    "%%bash\n",
    "source ~/.bashrc\n",
    "source activate liftOver_env;\n",
    "cd data/\n",
    "for file in chip_exo/*.gff;\n",
    "do \n",
    "sed -i \"s/\\t\\t/\\t/g\" ${file};\n",
    "done"
   ]
  },
  {
   "cell_type": "code",
   "execution_count": 153,
   "id": "166df24c-6dac-4afd-8657-c74fcf7f0c3d",
   "metadata": {},
   "outputs": [],
   "source": [
    "# GSE181767\n",
    "import glob\n",
    "exo_dic = glob.glob('data/chip_exo/*.gff')\n",
    "for exo_id in exo_dic:\n",
    "    chipseq_df = pd.read_csv(exo_id, header=None, sep='\\t')\n",
    "    chipseq_df.columns = ['chrom', 'source', 'start', 'end', 'value', 'strand', 'id', 'summit']\n",
    "    chipseq_df['end'] = chipseq_df.end + 1\n",
    "    chipseq_df_sum = chipseq_df.groupby(['chrom','start','end'])['value'].sum().reset_index()\n",
    "    bf.to_bigwig(df=chipseq_df_sum.sort_values(['chrom', 'start']).loc[:,['chrom', 'start', 'end', 'value']], \n",
    "                 chromsizes=df_chromsizes,\n",
    "                 outpath='%s.bw' % exo_id,\n",
    "                 path_to_binary='/home/izhegalova/.conda/envs/liftOver_env/bin/bedGraphToBigWig')"
   ]
  },
  {
   "cell_type": "markdown",
   "id": "8d158906-2121-431f-80d4-99880ab6ff5d",
   "metadata": {
    "tags": []
   },
   "source": [
    "# Bigwig average replicates"
   ]
  },
  {
   "cell_type": "code",
   "execution_count": 28,
   "id": "f930b09e-a44a-4171-960c-9f87d0e37596",
   "metadata": {},
   "outputs": [],
   "source": [
    "%%bash\n",
    "source ~/.bashrc\n",
    "source activate ecoli_microc;\n",
    "cd data/bw/\n",
    "# bigwigAverage -b TopoI_Ara_N3E_F_masked_scaled_av_123_mock_subtr.wig.bw TopoI_Ara_N3E_R_masked_scaled_av_123_mock_subtr.wig.bw \\\n",
    "# -o TopoI_merged_W3110Mu_GSE182473.bw -p 32 -bs 1\n",
    "# bigwigAverage -b GSM5511056_gyra_expo_1.bw GSM5511057_gyra_expo_2.bw \\\n",
    "# -o GyrA_merged_MG1655_GSE182079.bw -p 32 -bs 1\n",
    "\n",
    "# bigwigAverage -b GSM5511058_gyrb_expo_1.bw GSM5511059_gyrb_expo_2.bw \\\n",
    "# -o GyrB_merged_MG1655_GSE182079.bw -p 32 -bs 1\n",
    "\n",
    "# bigwigAverage -b HNS1_quantNorm.bw HNS2_quantNorm.bw \\\n",
    "# -o H-NS_merged_MG1655_GSE157512.bw -p 32 -bs 1\n",
    "\n",
    "# bigwigAverage -b ../chip_exo/GSM5511060_hns_expo_1.gff.bw ../chip_exo/GSM5511061_hns_expo_2.gff.bw \\\n",
    "# -o H-NS_merged_MG1655_GSE181767.bw -p 32 -bs 1\n",
    "\n",
    "# bigwigAverage -b ../chip_exo/GSM5511074_stpa_expo_1.gff.bw ../chip_exo/GSM5511075_stpa_expo_2.gff.bw \\\n",
    "# -o StpA_merged_MG1655_GSE181767.bw -p 32 -bs 1\n",
    "# bigwigAverage -b StpA1_50mg_quantNorm.noHeader.bg.bw StpA2_50mg_quantNorm.noHeader.bg.bw StpA3_50mg_quantNorm.noHeader.bg.bw \\\n",
    "# -o StpA_merged_MG1655_GSE157512.bw -p 32 -bs 1\n",
    "\n",
    "# bigwigAverage -b ../chip_exo/GSM5511068_mukb_expo_1.gff.bw ../chip_exo/GSM5511069_mukb_expo_2.gff.bw \\\n",
    "# -o MukB_merged_MG1655_GSE181767.bw -p 32 -bs 1\n",
    "\n",
    "# bigwigAverage -b ../chip_exo/GSM5511062_hupa_expo_1.gff.bw ../chip_exo/GSM5511063_hupa_expo_2.gff.bw \\\n",
    "# -o HupA_merged_MG1655_GSE181767.bw -p 32 -bs 1\n",
    "\n",
    "# bigwigAverage -b ../chip_exo/GSM5511064_hupb_expo_1.gff.bw ../chip_exo/GSM5511065_hupb_expo_2.gff.bw \\\n",
    "# -o HupB_merged_MG1655_GSE181767.bw -p 32 -bs 1\n",
    "\n",
    "# bigwigAverage -b Beta1_quantNorm.bw Beta2_quantNorm.bw \\\n",
    "# -o RNAPbeta_merged_MG1655_GSE157512.bw -p 32 -bs 1\n",
    "\n",
    "bigwigAverage -b GSM4628313_D18-11475-3531L_norm.wig.bw GSM4628314_D19-11570-4278G_MG1655_norm.wig.bw \\\n",
    "-o GapR_merged_MG1655_GSE152880.bw -p 32 -bs 1\n",
    "\n",
    "# bigwigAverage -b HNS1+Rif_quantNorm.noHeader.bg.bw HNS1+Rif_quantNorm.noHeader.bg.bw \\\n",
    "# -o H-NS+Rif_1_MG1655_GSE157512.bw -p 32 -bs 1"
   ]
  },
  {
   "cell_type": "code",
   "execution_count": 14,
   "id": "4de8dde9-3d2f-4610-808e-4999fc2ab854",
   "metadata": {},
   "outputs": [],
   "source": [
    "%%bash\n",
    "source ~/.bashrc\n",
    "source activate liftOver_env;\n",
    "for file in $(ls data/MG1655*.bw)\n",
    "do\n",
    "bigWigToBedGraph ${file} ${file}.bg;\n",
    "awk -v OFS='\\t' '{ print \"NC_000913.3\", $2, $3, $4}' ${file}.bg > ${file}.chrName.bg\n",
    "bedGraphToBigWig ${file}.chrName.bg data/genome.chrom.sizes ${file}.bigWig\n",
    "done\n",
    "# bf.read_bigwig('data/MG1655.GC.50bp.bw', chrom='NC_000913.3')"
   ]
  },
  {
   "cell_type": "markdown",
   "id": "e499a5c1-8bef-4422-b631-108a46a53406",
   "metadata": {
    "tags": []
   },
   "source": [
    "# PLOT"
   ]
  },
  {
   "cell_type": "code",
   "execution_count": 27,
   "id": "2697fd6c-299a-48bb-afb6-fb303745c98e",
   "metadata": {},
   "outputs": [],
   "source": [
    "# protein name_rep_strain_GEO\n",
    "bigwig_list = {#'topo-seq1': ['bw/Un_IP_Mu_1_edt_for_rev_depth.wig.bw', -100, 500, 0, 300],\n",
    "              # 'topo-seq2': ['bw/Un_IP_Mu_2_edt_for_rev_depth.wig.bw',-100, 700, 0, 500],\n",
    "              # 'Topo-SeqF+Ara-Mock_1_W3110Mu_GSE182473': ['bw/TopoI_Ara_N3E_F_masked_scaled_av_123_mock_subtr.wig.bw',-1,1,-0.5,0.5],\n",
    "              # 'Topo-SeqR+Ara-Mock_1_W3110Mu_GSE182473': ['bw/TopoI_Ara_N3E_R_masked_scaled_av_123_mock_subtr.wig.bw',-1,1,-0.5,0.5],\n",
    "              # 'TopoSeqF+Ara-Mock-noAra_1_W3110Mu_GSE182473': ['bw/TopoI_Ara_N3E_F_masked_scaled_av_123_subtr_mock_subtr_no_Ara.wig.bw', -1,1,-0.5,0.5],\n",
    "              # 'TopoSeqR+Ara-Mock-noAra_1_W3110Mu_GSE182473': ['bw/TopoI_Ara_N3E_R_masked_scaled_av_123_subtr_mock_subtr_no_Ara.wig.bw',-1,1,-0.5,0.5],\n",
    "              #'TopoSeqFshort_1_W3110Mu_GSE182473': ['bw/TopoI_N3E_F_masked_scaled_av_123_mock_subtr.wig.bw', -2,2,-0.5,0.5],\n",
    "              #'TopoSeqRshort_1_W3110Mu_GSE182473': ['bw/TopoI_N3E_R_masked_scaled_av_123_mock_subtr.wig.bw',-2,2,-0.5,0.5],\n",
    "                #the same as above, but replics separated.\n",
    "                #'topoI+AraDepth_1_W3110Mu_GSE182473': ['bw/GSM5529907_TopoI_Ara_IP_1_depth.wig.bw',0,1600,50,1000],\n",
    "                #'topoI+AraF_1_W3110_GSE182473': ['bw/GSM5529907_TopoI_Ara_IP_1_N3E_F.wig.bw', -2,10,-0.5,5],\n",
    "                #'topoI+AraR_1_W3110_GSE182473': ['bw/GSM5529907_TopoI_Ara_IP_1_N3E_R.wig.bw', -2,10,-0.5,5],\n",
    "                #'topoI+AraDepth_2_W3110Mu_GSE182473': ['bw/GSM5529908_TopoI_Ara_IP_2_depth.wig.bw',0,1600,50,1000],\n",
    "                #'topoI+AraF_2_W3110_GSE182473': ['bw/GSM5529908_TopoI_Ara_IP_2_N3E_F.wig.bw', -2,10,-0.5,5],\n",
    "                #'topoI+AraR_2_W3110_GSE182473': ['bw/GSM5529908_TopoI_Ara_IP_2_N3E_R.wig.bw', -2,10,-0.5,5],\n",
    "                #'topoI+AraDepth_3_W3110Mu_GSE182473': ['bw/GSM5529909_TopoI_Ara_IP_3_depth.wig.bw',0,2600,50,2000],\n",
    "                #'topoI+AraF_3_W3110_GSE182473': ['bw/GSM5529909_TopoI_Ara_IP_3_N3E_F.wig.bw', -2,10,-0.5,5],\n",
    "                #'topoI+AraR_3_W3110_GSE182473': ['bw/GSM5529909_TopoI_Ara_IP_3_N3E_R.wig.bw', -2,10,-0.5,5],\n",
    "#               'topoI_1_DY330_GSE181915': ['bw/EcTopoI_1.25.bw',-5,5,-2,2],\n",
    "#               'topoI_2_DY330_GSE181915': ['bw/EcTopoI_2.25.bw',-5,5,-2,2],\n",
    "#               'topoI_3_DY330_GSE181915': ['bw/EcTopoI_3.25.bw',-5,5,-2,2],\n",
    "#               'topoI+Rif_1_DY330_GSE181915': 'bw/EcTopoI_Rif_1.25.bw',\n",
    "#               'topoI+Rif_2_DY330_GSE181915': 'bw/EcTopoI_Rif_2.25.bw',\n",
    "#               'topoI+Rif_3_DY330_GSE181915': 'bw/EcTopoI_Rif_3.25.bw',\n",
    "#               'Topa_1_MG1655_GSE181767': ['chip_exo/GSM5511076_topa_expo_1.gff.bw',-100, 800, -50, 200],\n",
    "#               'Topa_2_MG1655_GSE181767': ['chip_exo/GSM5511077_topa_expo_2.gff.bw',-100, 800, -50, 200],\n",
    "    \n",
    "#               'GyrA_1_MG1655_GSE182079': ['bw/GSM5511056_gyra_expo_1.bw',0,20,-0.5,10],\n",
    "#               'GyrA_2_MG1655_GSE182079': ['bw/GSM5511057_gyra_expo_2.bw',0,20,-0.5,10],\n",
    "#               'GyrB_1_MG1655_GSE182079': ['bw/GSM5511058_gyrb_expo_1.bw',0,40,-0.5,20],\n",
    "#               'GyrB_2_MG1655_GSE182079': ['bw/GSM5511059_gyrb_expo_2.bw',0,40,-0.5,20],\n",
    "#               'GyrA+Cfx_1_DY330_GSE117186': ['bw/Cfx_IP_Mu_10mkM_1_edt_for_rev_depth.wig.bw',0,400,50,250],\n",
    "#               'GyrA+Cfx_2_DY330_GSE117186': ['bw/Cfx_IP_Mu_10mkM_2_edt_for_rev_depth.wig.bw',0,400,0,200],\n",
    "#               'GyrA+Cfx_3_DY330_GSE117186': ['bw/Cfx_IP_10mkM_3_edt_for_rev_depth.wig.bw',0,400,30,230],\n",
    "#               'GyrA+Microcin_1_DY330_GSE117186': ['bw/Microcin_IP_Mu_10mkM_1_edt_for_rev_depth.wig.bw',0,400,50,250],\n",
    "#               'GyrA+Microcin_2_DY330_GSE117186': ['bw/Microcin_IP_Mu_10mkM_2_edt_for_rev_depth.wig.bw',0,400,0,200],\n",
    "#               'GyrA+Oxo_1_DY330_GSE117186': ['bw/Oxo_IP_Mu_120mkM_1_edt_for_rev_depth.wig.bw',0,600,100,350],\n",
    "#               'GyrA+Oxo_2_DY330_GSE117186': ['bw/Oxo_IP_Mu_120mkM_2_edt_for_rev_depth.wig.bw',0,400,0,200],\n",
    "#               'GyrA+Oxo_3_DY330_GSE117186': ['bw/Oxo_IP_120mkM_3_edt_for_rev_depth.wig.bw',0,600,150,400],\n",
    "#               'GyrA+RifCfx_1_DY330_GSE117186': ['bw/RifCfx_IP_Mu_122mkM_10mkM_1_edt_for_rev_depth.wig.bw',0,400,-0.5,200], \n",
    "#               'GyrA+RifCfx_2_DY330_GSE117186': ['bw/RifCfx_IP_Mu_122mkM_10mkM_2_edt_for_rev_depth.wig.bw',0,400,-0.5,200], \n",
    "#               'GyrA+RifCfx_3_DY330_GSE117186': ['bw/RifCfx_IP_Mu_122mkM_10mkM_3_edt_for_rev_depth.wig.bw',0,400,50,250], \n",
    "              \n",
    "#               'HnsA_1_MG1655_E-MTAB-332': ['bw/HnsA.blat.basecount.pruned.bw',0,1600,100,1850], #early-exp\n",
    "#               'HnsB_1_MG1655_E-MTAB-332': ['bw/HnsB.blat.basecount.pruned.bw',0,1600,100,1850], #mid-exp\n",
    "#               'HnsC_1_MG1655_E-MTAB-332': ['bw/HnsC.blat.basecount.pruned.bw',0,1600,100,1850], #transition to stationary\n",
    "#               'HnsD_1_MG1655_E-MTAB-332': ['bw/HnsD.blat.basecount.pruned.bw',0,4000,100,3000], #stationary\n",
    "#               'H-NS_1_MG1655_GSE157512': ['bw/HNS1_quantNorm.bw',-5,10,-2,4],\n",
    "#               'H-NS_2_MG1655_GSE157512': ['bw/HNS2_quantNorm.bw',-5,10,-2,4],\n",
    "#               # 'H-NS-cov_1_MG1655_GSE157512': 'bw/H-NS1_cov.25.bw',\n",
    "#               # 'H-NS-cov_2_MG1655_GSE157512': 'bw/H-NS2_cov.25.bw', \n",
    "#               'H-NS_1_MG1655_GSE181767': ['chip_exo/GSM5511060_hns_expo_1.gff.bw',-100, 800, -50, 300],\n",
    "#               'H-NS_2_MG1655_GSE181767': ['chip_exo/GSM5511061_hns_expo_2.gff.bw',-100, 800, -50, 300],\n",
    "#               # 'H-NS_r1_prochipDB': ['bw/hns_expo_1.bw',-50,400,-2,200],#the same as above\n",
    "#               # 'H-NS_r2_prochipDB': ['bw/hns_expo_2.bw',-50,400,-2,180],#the same as above\n",
    "#               'Stpa_1_MG1655_GSE181767': ['chip_exo/GSM5511074_stpa_expo_1.gff.bw',-100, 800, -50, 500],\n",
    "#               'Stpa_2_MG1655_GSE181767': ['chip_exo/GSM5511075_stpa_expo_2.gff.bw',-100, 800, -50, 500],\n",
    "#               'StpA50mg_1_MG1655_GSE157512': ['bw/StpA1_50mg_quantNorm.noHeader.bg.bw',-5,8,-2,4],\n",
    "#               'StpA50mg_2_MG1655_GSE157512': ['bw/StpA2_50mg_quantNorm.noHeader.bg.bw',-5,8,-2,4],\n",
    "#               'StpA50mg_3_MG1655_GSE157512': ['bw/StpA3_50mg_quantNorm.noHeader.bg.bw',-5,8,-2,4],\n",
    "#               'StpA100mg_1_MG1655_GSE157512': ['bw/StpA1_100mg_quantNorm.noHeader.bg.bw',-5,10,-2,4],\n",
    "#               'StpA100mg_2_MG1655_GSE157512': ['bw/StpA2_100mg_quantNorm.noHeader.bg.bw',-5,10,-2,4],\n",
    "#               'StpA100mg_3_MG1655_GSE157512': ['bw/StpA3_100mg_quantNorm.noHeader.bg.bw',-5,10,-2,4],\n",
    "#               'H-NS+Rif_1_MG1655_GSE157512': ['bw/HNS1+Rif_quantNorm.noHeader.bg.bw',-5,10,-2,4],\n",
    "#               'H-NS+Rif_2_MG1655_GSE157512': ['bw/HNS1+Rif_quantNorm.noHeader.bg.bw',-5,10,-2,4],\n",
    "    \n",
    "#               'FisA_1_MG1655_E-MTAB-332': ['bw/FisA.blat.basecount.pruned.bw',0,600,100,300], #early-exponential\n",
    "#               'FisB_1_MG1655_E-MTAB-332': ['bw/FisB.blat.basecount.pruned.bw',0,600,100,300], #mid-exp\n",
    "#               'Fis_1_MG1655_GSE157512': ['bw/Fis1.bw',-5,5,-2,2],\n",
    "#               'Fis_2_MG1655_GSE157512': ['bw/Fis2.bw',-5,5,-2,2],\n",
    "#               'Fis_3_MG1655_GSE157512': ['bw/Fis3.bw',-5,5,-2,2],\n",
    "#               'Fis_r1': ['bw/GSM5696094_19780_Fis_MHS_i5006_DY330_rep1.gff.MG1655.bg_cov.25.bw',-5,50,-2,20],\n",
    "#               'Fis_r2': ['bw/GSM5696095_20234_Fis_MHS_i5006_DY330_rep1.gff.MG1655.bg_cov.25.bw',-5,50,-2,20],\n",
    "#               'Fis_1_MG1655_GSE181767': ['chip_exo/GSM5511054_fis_expo_1.gff.bw',-100, 300, -50, 100],\n",
    "#               'Fis_2_MG1655_GSE181767': ['chip_exo/GSM5511055_fis_expo_2.gff.bw',-100, 300, -50, 100],\n",
    "#               #'Fis_r1_GSE181767': ['bw/fis_expo_1.bw',-5,80,-2,40], the same as above\n",
    "#               #'Fis_r2_prochipDB': ['bw/fis_expo_2.bw',-5,80,-2,40],\n",
    "    \n",
    "#               # 'SMC_1_MG1655_GSE67221': ['bw/smc.25.bw',-5,10,-2,4],\n",
    "#               'mukb_1_MG1655_GSE181767': ['chip_exo/GSM5511068_mukb_expo_1.gff.bw',-100, 200, -20, 40],\n",
    "#               'mukb_2_MG1655_GSE181767': ['chip_exo/GSM5511069_mukb_expo_2.gff.bw',-100, 200, -20, 40],\n",
    "\n",
    "#               'infa_1_MG1655_GSE181767': ['chip_exo/GSM5511066_infa_expo_1.gff.bw',-100, 300, -50, 100],\n",
    "#               'infa_2_MG1655_GSE181767': ['chip_exo/GSM5511067_infa_expo_2.gff.bw',-100, 300, -50, 100],\n",
    "    \n",
    "#               'hupa_1_MG1655_GSE181767': ['chip_exo/GSM5511062_hupa_expo_1.gff.bw',-100, 300, -50, 100],\n",
    "#               'hupa_2_MG1655_GSE181767': ['chip_exo/GSM5511063_hupa_expo_2.gff.bw',-100, 300, -50, 100],\n",
    "#               'hupb_1_MG1655_GSE181767': ['chip_exo/GSM5511064_hupb_expo_1.gff.bw',-100, 300, -50, 100],\n",
    "#               'hupb_2_MG1655_GSE181767': ['chip_exo/GSM5511065_hupb_expo_2.gff.bw',-100, 300, -50, 100],\n",
    "#              # 'data/chip_exo/GSM5511052_dps_expo_1.gff.bw',\n",
    "#              # 'data/chip_exo/GSM5511053_dps_expo_2.gff.bw',\n",
    "#              # 'data/chip_exo/GSM5511070_rdgc_expo_1.gff.bw',\n",
    "#              # 'data/chip_exo/GSM5511071_rdgc_expo_2.gff.bw',\n",
    "#              # 'data/chip_exo/GSM5511078_tus_expo_1.gff.bw',\n",
    "#              # 'data/chip_exo/GSM5511079_tus_expo_2.gff.bw',\n",
    "#              # 'data/chip_exo/GSM5511072_rob_expo_1.gff.bw',\n",
    "#              # 'data/chip_exo/GSM5511073_rob_expo_2.gff.bw',\n",
    "#               # 'GapR_1_MG1655_GSE152880': ['bw/GSM4628311_D19-5504-3883G_norm.wig.bw',-2,2,-0.25,0.25],\n",
    "#               # 'GapR_2_MG1655_GSE152880': ['bw/GSM4628312_D19-11573-4278G_MG1655_norm.wig.bw',-2,2,-0.25,0.25],\n",
    "#               'GapR+FLAG_1_MG1655_GSE152880': ['bw/GSM4628313_D18-11475-3531L_norm.wig.bw',0,1,-0,0.6],\n",
    "#               'GapR+FLAG_2_MG1655_GSE152880': ['bw/GSM4628314_D19-11570-4278G_MG1655_norm.wig.bw',0,1,-0,0.6],\n",
    "#                 'GapR_1_MG1655_GSE213028': ['gapR/GSM6569550_CC_chip16.bw.bigWig',-100, 300, -50, 100],\n",
    "#                 'GapR_2_MG1655_GSE213028': ['gapR/GSM6569551_CC_chip18.bw.bigWig',-100, 300, -50, 100],\n",
    "#                 'GapR_3_MG1655_GSE213028': ['gapR/GSM6569552_CC_chip19.bw.bigWig',-100, 300, -50, 100],\n",
    "#                 'GapR_4_MG1655_GSE213028': ['gapR/GSM6569553_CC_chip20.bw.bigWig',-100, 300, -50, 100],\n",
    "#                 'GapR_5_MG1655_GSE213028': ['gapR/GSM6569554_CC_chip21.bw.bigWig',-100, 300, -50, 100],\n",
    "#                 'GapR_5_MG1655_GSE213028': ['gapR/GSM6569555_CC_chip17.bw.bigWig',-100, 300, -50, 100],\n",
    "    \n",
    "#               'Beta_1_MG1655_GSE157512': ['bw/Beta1_quantNorm.bw',-5,10,-2,2],\n",
    "#               'Beta_2_MG1655_GSE157512': ['bw/Beta2_quantNorm.bw',-5,10,-2,2],\n",
    "#                 'RpoC_1_MG1655_Nudler': ['bw/rpoc.bw',-2,8,-1.5,3],\n",
    "#                 'RapA_1_MG1655_Nudler': ['bw/RapA.bw',-2,32,-8,8],\n",
    "#                 'BetaPrimeNeg_1_DY330_GSE147611': ['bw/GSE147611_betaprime_WT_RNET-seq_rep1_5prime_R1_negative_strand.wig.bw',-5,5,-2,2],\n",
    "#                 'BetaPrimePos_1_DY330_GSE147611': ['bw/GSE147611_betaprime_WT_RNET-seq_rep1_5prime_R1_positive_strand.wig.bw',-5,5,-2,2],\n",
    "#                 'SigmaPos_1_DY330_GSE147611': ['bw/GSE147611_sigma70WT_RNET-seq_rep1_5prime_R1_positive_strand.wig.bw',-5,5,-2,2],\n",
    "#                 'SigmaNeg_1_DY330_GSE147611':['bw/GSE147611_sigma70WT_RNET-seq_rep1_5prime_R1_negative_strand.wig.bw',-5,5,-2,2],\n",
    "    \n",
    "#                 'HimD_1_DY330_GSE189206': ['bw/GSM5696122_20219_HimD_MHS_i5006_DY330_rep1.gff.MG1655.bg_cov.25.bw',-5,30,-2,15],\n",
    "#                 'HimD_2_DY330_GSE189206': ['bw/GSM5696123_20220_HimD_MHS_i5006_DY330_rep2.gff.MG1655.bg_cov.25.bw',-5,30,-2,15],\n",
    "#                 'HimD_3_DY330_GSE189206': ['bw/GSM5696124_21320_HimD_MHS_i5006_DY330_rep3.gff.MG1655.bg_cov.25.bw',-5,30,-2,15],\n",
    "\n",
    "#                 'RpoB_1_DY330_GSE189206': ['bw/GSM5696098_17252_RpoB_MHS_i5006_DY330_rep1.gff.MG1655.bg_cov.25.bw',-5,50,-2,20],\n",
    "#                 'RpoB_2_DY330_GSE189206': ['bw/GSM5696099_17268_RpoB_MHS_i5006_DY330_rep2.gff.MG1655.bg_cov.25.bw',-5,50,-2,20],\n",
    "#                 'RpoB_3_DY330_GSE189206': ['bw/GSM5696100_21315_RpoB_MHS_i5006_DY330_rep3.gff.MG1655.bg_cov.25.bw',-5,50,-2,20],\n",
    "#                 'RpoH_1_DY330_GSE189206': ['bw/GSM5696108_17257_RpoH_MHS_i5006_DY330_rep1.gff.MG1655.bg_cov.25.bw',-5,50,-2,20],\n",
    "#                 'RpoH_2_DY330_GSE189206': ['bw/GSM5696109_17273_RpoH_MHS_i5006_DY330_rep2.gff.MG1655.bg_cov.25.bw',-5,50,-2,20],\n",
    "#                 'RpoH_3_DY330_GSE189206': ['bw/GSM5696110_21305_RpoH_MHS_i5006_DY330_rep3.gff.MG1655.bg_cov.25.bw',-5,50,-2,20],\n",
    "#                 'RpoH_4_DY330_GSE189206': ['bw/GSM5696111_21306_RpoH_MHS_i5006_DY330_rep4.gff.MG1655.bg_cov.25.bw',-5,50,-2,20],\n",
    "#                 'RpoA_1_DY330_GSE189206': ['bw/GSM5696116_19784_RpoA_MHS_i5006_DY330_rep1.gff.MG1655.bg_cov.25.bw',-5,50,-2,20],\n",
    "#                 'RpoA_2_DY330_GSE189206': ['bw/GSM5696117_20236_RpoA_MHS_i5006_DY330_rep2.gff.MG1655.bg_cov.25.bw',-5,50,-2,20],\n",
    "#                 'RpoA_3_DY330_GSE189206': ['bw/GSM5696118_21299_RpoA_MHS_i5006_DY330_rep3.gff.MG1655.bg_cov.25.bw',-5,50,-2,20],\n",
    "#                 'RpoN_1_DY330_GSE189206': ['bw/GSM5696128_20221_RpoN_MHS_i5006_DY330_rep1.gff.MG1655.bg_cov.25.bw',-5,50,-2,20],\n",
    "#                 'RpoN_2_DY330_GSE189206': ['bw/GSM5696129_20222_RpoN_MHS_i5006_DY330_rep2.gff.MG1655.bg_cov.25.bw',-5,50,-2,20],\n",
    "#                 'RpoC_1_DY330_GSE189206': ['bw/GSM5696132_20223_RpoC_MHS_i5006_DY330_rep1.gff.MG1655.bg_cov.25.bw',-5,50,-2,20],\n",
    "#                 'RpoC_2_DY330_GSE189206': ['bw/GSM5696133_20224_RpoC_MHS_i5006_DY330_rep2.gff.MG1655.bg_cov.25.bw',-5,50,-2,20],\n",
    "#                 'RpoC_3_DY330_GSE189206': ['bw/GSM5696134_21316_RpoC_MHS_i5006_DY330_rep3.gff.MG1655.bg_cov.25.bw',-5,50,-2,20],\n",
    "#                 'RpoC_4_DY330_GSE189206': ['bw/GSM5696135_21317_RpoC_MHS_i5006_DY330_rep4.gff.MG1655.bg_cov.25.bw',-5,50,-2,20],\n",
    "#                 'RpoD_1_DY330_GSE189206': ['bw/GSM5696104_17253_RpoD_MHS_i5006_DY330_rep1.gff.MG1655.bg_cov.25.bw',-5,50,-2,20],\n",
    "#                 'RpoD_2_DY330_GSE189206': ['bw/GSM5696105_17269_RpoD_MHS_i5006_DY330_rep2.gff.MG1655.bg_cov.25.bw',-5,50,-2,20],\n",
    "                \n",
    "#                 'RpoD_r1_MG1655_GSE41195': ['bw/GSM1010221_Sigma70_IP_ChIP-seq_Aerobic_A_SET.bw',-5,5,-2,2],\n",
    "#                 'RpoD_r2_MG1655_GSE41195': ['bw/GSM1072326_Sigma70_IP_ChIP-seq_Aerobic_B_SET.bw',-5,5,-2,2],\n",
    "#                 'RpoD_1_MG1655_GSE182128': ['bw/GSM5519061_rpod_1.bw',-5,400,-2,200],\n",
    "#                 'RpoD_2_MG1655_GSE182128': ['bw/GSM5519062_rpod_2.bw',-5,400,-2,200],\n",
    "#                 'RpoB_1_MG1655_GSE182128': ['bw/GSM5526772_rpob_1.gff.bw',-5,200,-2,100],\n",
    "#                 'RpoB_2_MG1655_GSE182128': ['bw/GSM5526773_rpob_2.gff.bw',-5,200,-2,100],\n",
    "#                 'RpoD_1_MG1655_GSE182128': ['bw/GSM4844461_mg1655_rpoD1.gff.bw',-5,80,-2,50],\n",
    "#                 'RpoD_2_MG1655_GSE182128': ['bw/GSM4844462_mg1655_rpoD2.gff.bw',-5,80,-2,50],\n",
    "                #'RedC-nacscent_10kflank': ['bw/wt_44C_merged.rna1.10k.bw',0,50,-2,20],\n",
    "              }\n",
    "import sys\n",
    "sys.path.append('/home/izhegalova/ecoli_microc/scripts/')\n",
    "from functions import plot_around_loop, wrapper_stackup\n",
    "nbins=81\n",
    "for id in bigwig_list.keys(): #337\n",
    "    plot_around_loop(\n",
    "        path_bw='data/%s' % bigwig_list[id][0],\n",
    "        plot_name=id+'.pdf',\n",
    "        nbins=81,\n",
    "        resolution=25,\n",
    "        chrom_file=df_chromsizes,\n",
    "        window=500,\n",
    "        mode=\"median\",\n",
    "        vmin=bigwig_list[id][1],\n",
    "        vmax=bigwig_list[id][2],\n",
    "        ymin=bigwig_list[id][3],\n",
    "        ymax=bigwig_list[id][4],\n",
    "        norm=False,\n",
    "        fill=True,\n",
    "        how_far_from_edge=20,\n",
    "        bed_list=[\n",
    "            \"data/hairpins_25.bedpe\",\n",
    "            \"data/hTADS_25.bedpe\",\n",
    "            \"data/TADS_25.bedpe\",\n",
    "            \"data/TU.nascBot25.bed\",\n",
    "            'data/TU.average.bed',\n",
    "            'data/TU.nascTop10.bed'\n",
    "        ],\n",
    "        name_list=[\"hairpins,\\nn=250\",\n",
    "            \"hTADs,\\nn=25\",\n",
    "            \"TADs,\\nn=68\",\n",
    "            \"TU zero expr,\\nn= 975\",\n",
    "            \"TU, bottom 90%,\\nnot incl. zero expr,\\nn=1367\",\n",
    "            \"TU Top10% expr,\\nn=257\"],\n",
    "        pic_path='results/',\n",
    "        flip_negative_strand=True,\n",
    "        return_matrix=False\n",
    "    )"
   ]
  },
  {
   "cell_type": "code",
   "execution_count": 26,
   "id": "53a01770-bd66-444a-8bed-933985632c51",
   "metadata": {},
   "outputs": [],
   "source": [
    "# # protein name_rep_strain_GEO\n",
    "# bigwig_list = {#'topo-seq1': ['bw/Un_IP_Mu_1_edt_for_rev_depth.wig.bw', -100, 500, 0, 300],\n",
    "#                #'topo-seq2': ['bw/Un_IP_Mu_2_edt_for_rev_depth.wig.bw',-100, 700, 0, 500],\n",
    "#               'TopoSeqF+Ara-Mock_1_W3110Mu_GSE182473': ['bw/TopoI_Ara_N3E_F_masked_scaled_av_123_mock_subtr.wig.bw',-2,2,-0.5,0.5],\n",
    "#               'TopoSeqR+Ara-Mock_1_W3110Mu_GSE182473': ['bw/TopoI_Ara_N3E_R_masked_scaled_av_123_mock_subtr.wig.bw',-2,2,-0.5,0.5],\n",
    "#               'TopoSeqF+Ara-Mock-noAra_1_W3110Mu_GSE182473': ['bw/TopoI_Ara_N3E_F_masked_scaled_av_123_subtr_mock_subtr_no_Ara.wig.bw', -2,2,-0.5,0.5],\n",
    "#               'TopoSeqR+Ara-Mock-noAra_1_W3110Mu_GSE182473': ['bw/TopoI_Ara_N3E_R_masked_scaled_av_123_subtr_mock_subtr_no_Ara.wig.bw',-2,2,-0.5,0.5],\n",
    "#               # 'TopoSeqFshort_1_W3110Mu_GSE182473': ['bw/TopoI_N3E_F_masked_scaled_av_123_mock_subtr.wig.bw', -2,2,-0.5,0.5],\n",
    "#               # 'TopoSeqRshort_1_W3110Mu_GSE182473': ['bw/TopoI_N3E_R_masked_scaled_av_123_mock_subtr.wig.bw',-2,2,-0.5,0.5],\n",
    "#                 #the same as above, but replics separated.\n",
    "#                 #'topoI+AraDepth_1_W3110Mu_GSE182473': ['bw/GSM5529907_TopoI_Ara_IP_1_depth.wig.bw',0,1600,50,1000],\n",
    "#                 #'topoI+AraF_1_W3110_GSE182473': ['bw/GSM5529907_TopoI_Ara_IP_1_N3E_F.wig.bw', -2,10,-0.5,5],\n",
    "#                 #'topoI+AraR_1_W3110_GSE182473': ['bw/GSM5529907_TopoI_Ara_IP_1_N3E_R.wig.bw', -2,10,-0.5,5],\n",
    "#                 #'topoI+AraDepth_2_W3110Mu_GSE182473': ['bw/GSM5529908_TopoI_Ara_IP_2_depth.wig.bw',0,1600,50,1000],\n",
    "#                 #'topoI+AraF_2_W3110_GSE182473': ['bw/GSM5529908_TopoI_Ara_IP_2_N3E_F.wig.bw', -2,10,-0.5,5],\n",
    "#                 #'topoI+AraR_2_W3110_GSE182473': ['bw/GSM5529908_TopoI_Ara_IP_2_N3E_R.wig.bw', -2,10,-0.5,5],\n",
    "#                 #'topoI+AraDepth_3_W3110Mu_GSE182473': ['bw/GSM5529909_TopoI_Ara_IP_3_depth.wig.bw',0,2600,50,2000],\n",
    "#                 #'topoI+AraF_3_W3110_GSE182473': ['bw/GSM5529909_TopoI_Ara_IP_3_N3E_F.wig.bw', -2,10,-0.5,5],\n",
    "#                 #'topoI+AraR_3_W3110_GSE182473': ['bw/GSM5529909_TopoI_Ara_IP_3_N3E_R.wig.bw', -2,10,-0.5,5],\n",
    "#               # 'topoI_1_DY330_GSE181915': ['bw/EcTopoI_1.25.bw',-5,5,-2,2],\n",
    "#               # 'topoI_2_DY330_GSE181915': ['bw/EcTopoI_2.25.bw',-5,5,-2,2],\n",
    "#               # 'topoI_3_DY330_GSE181915': ['bw/EcTopoI_3.25.bw',-5,5,-2,2],\n",
    "#               # 'topoI+Rif_1_DY330_GSE181915': ['bw/EcTopoI_Rif_1.25.bw',-5,5,-2,2],\n",
    "#               # 'topoI+Rif_2_DY330_GSE181915': ['bw/EcTopoI_Rif_2.25.bw',-5,5,-2,2],\n",
    "#               # 'topoI+Rif_3_DY330_GSE181915': ['bw/EcTopoI_Rif_3.25.bw',-5,5,-2,2],\n",
    "#               # 'Topa_1_MG1655_GSE181767': ['chip_exo/GSM5511076_topa_expo_1.gff.bw',-100, 800, -50, 200],\n",
    "#               # 'Topa_2_MG1655_GSE181767': ['chip_exo/GSM5511077_topa_expo_2.gff.bw',-100, 800, -50, 200],\n",
    "    \n",
    "#               'GyrA_1_MG1655_GSE182079': ['bw/GSM5511056_gyra_expo_1.bw',0,200,-0.5,100],\n",
    "#               'GyrA_2_MG1655_GSE182079': ['bw/GSM5511057_gyra_expo_2.bw',0,200,-0.5,100],\n",
    "#               'GyrB_1_MG1655_GSE182079': ['bw/GSM5511058_gyrb_expo_1.bw',0,400,-0.5,200],\n",
    "#               'GyrB_2_MG1655_GSE182079': ['bw/GSM5511059_gyrb_expo_2.bw',0,400,-0.5,200],\n",
    "#               # 'GyrA+Cfx_1_DY330_GSE117186': ['bw/Cfx_IP_Mu_10mkM_1_edt_for_rev_depth.wig.bw',0,400,50,250],\n",
    "#               # 'GyrA+Cfx_2_DY330_GSE117186': ['bw/Cfx_IP_Mu_10mkM_2_edt_for_rev_depth.wig.bw',0,400,0,200],\n",
    "#               # 'GyrA+Cfx_3_DY330_GSE117186': ['bw/Cfx_IP_10mkM_3_edt_for_rev_depth.wig.bw',0,400,30,230],\n",
    "#               # 'GyrA+Microcin_1_DY330_GSE117186': ['bw/Microcin_IP_Mu_10mkM_1_edt_for_rev_depth.wig.bw',0,400,50,250],\n",
    "#               # 'GyrA+Microcin_2_DY330_GSE117186': ['bw/Microcin_IP_Mu_10mkM_2_edt_for_rev_depth.wig.bw',0,400,0,200],\n",
    "#               # 'GyrA+Oxo_1_DY330_GSE117186': ['bw/Oxo_IP_Mu_120mkM_1_edt_for_rev_depth.wig.bw',0,600,100,350],\n",
    "#               # 'GyrA+Oxo_2_DY330_GSE117186': ['bw/Oxo_IP_Mu_120mkM_2_edt_for_rev_depth.wig.bw',0,400,0,200],\n",
    "#               # 'GyrA+Oxo_3_DY330_GSE117186': ['bw/Oxo_IP_120mkM_3_edt_for_rev_depth.wig.bw',0,600,150,400],\n",
    "#               # 'GyrA+RifCfx_1_DY330_GSE117186': ['bw/RifCfx_IP_Mu_122mkM_10mkM_1_edt_for_rev_depth.wig.bw',0,400,-0.5,200], \n",
    "#               # 'GyrA+RifCfx_2_DY330_GSE117186': ['bw/RifCfx_IP_Mu_122mkM_10mkM_2_edt_for_rev_depth.wig.bw',0,400,-0.5,200], \n",
    "#               # 'GyrA+RifCfx_3_DY330_GSE117186': ['bw/RifCfx_IP_Mu_122mkM_10mkM_3_edt_for_rev_depth.wig.bw',0,400,50,250], \n",
    "              \n",
    "#               # 'HnsA_1_MG1655_E-MTAB-332': ['bw/HnsA.blat.basecount.pruned.bw',0,1600,100,1850], #early-exp\n",
    "#               'HnsB_1_MG1655_E-MTAB-332': ['bw/HnsB.blat.basecount.pruned.bw',0,1600,100,1850], #mid-exp\n",
    "#               # 'HnsC_1_MG1655_E-MTAB-332': ['bw/HnsC.blat.basecount.pruned.bw',0,1600,100,1850], #transition to stationary\n",
    "#               # 'HnsD_1_MG1655_E-MTAB-332': ['bw/HnsD.blat.basecount.pruned.bw',0,4000,100,3000], #stationary\n",
    "#               'H-NS_1_MG1655_GSE157512': ['bw/HNS1_quantNorm.bw',-5,10,-2,4],\n",
    "#               'H-NS_2_MG1655_GSE157512': ['bw/HNS2_quantNorm.bw',-5,10,-2,4],\n",
    "#               # 'H-NS-cov_1_MG1655_GSE157512': 'bw/H-NS1_cov.25.bw',\n",
    "#               # 'H-NS-cov_2_MG1655_GSE157512': 'bw/H-NS2_cov.25.bw', \n",
    "#               'H-NS_1_MG1655_GSE181767': ['chip_exo/GSM5511060_hns_expo_1.gff.bw',-100, 800, -50, 300],\n",
    "#               'H-NS_2_MG1655_GSE181767': ['chip_exo/GSM5511061_hns_expo_2.gff.bw',-100, 800, -50, 300],\n",
    "#               # 'H-NS_r1_prochipDB': ['bw/hns_expo_1.bw',-50,400,-2,200],#the same as above\n",
    "#               # 'H-NS_r2_prochipDB': ['bw/hns_expo_2.bw',-50,400,-2,180],#the same as above\n",
    "#               'Stpa_1_MG1655_GSE181767': ['chip_exo/GSM5511074_stpa_expo_1.gff.bw',-100, 800, -50, 500],\n",
    "#               'Stpa_2_MG1655_GSE181767': ['chip_exo/GSM5511075_stpa_expo_2.gff.bw',-100, 800, -50, 500],\n",
    "#               'StpA50mg_1_MG1655_GSE157512': ['bw/StpA1_50mg_quantNorm.noHeader.bg.bw',-5,5,-2,4],\n",
    "#               'StpA50mg_2_MG1655_GSE157512': ['bw/StpA2_50mg_quantNorm.noHeader.bg.bw',-5,5,-2,4],\n",
    "#               'StpA50mg_3_MG1655_GSE157512': ['bw/StpA3_50mg_quantNorm.noHeader.bg.bw',-5,5,-2,4],\n",
    "#               'StpA100mg_1_MG1655_GSE157512': ['bw/StpA1_100mg_quantNorm.noHeader.bg.bw',-5,5,-2,4],\n",
    "#               'StpA100mg_2_MG1655_GSE157512': ['bw/StpA2_100mg_quantNorm.noHeader.bg.bw',-5,5,-2,4],\n",
    "#               'StpA100mg_3_MG1655_GSE157512': ['bw/StpA3_100mg_quantNorm.noHeader.bg.bw',-5,5,-2,4],\n",
    "#               'H-NS+Rif_1_MG1655_GSE157512': ['bw/HNS1+Rif_quantNorm.noHeader.bg.bw',-5,10,-2,4],\n",
    "#               'H-NS+Rif_2_MG1655_GSE157512': ['bw/HNS1+Rif_quantNorm.noHeader.bg.bw',-5,10,-2,4],\n",
    "    \n",
    "#               # 'FisA_1_MG1655_E-MTAB-332': ['bw/FisA.blat.basecount.pruned.bw',0,600,100,300], #early-exponential\n",
    "#               'FisB_1_MG1655_E-MTAB-332': ['bw/FisB.blat.basecount.pruned.bw',0,600,100,300], #mid-exp\n",
    "#               'Fis_1_MG1655_GSE157512': ['bw/Fis1.bw',-5,5,-2,2],\n",
    "#               'Fis_2_MG1655_GSE157512': ['bw/Fis2.bw',-5,5,-2,2],\n",
    "#               'Fis_3_MG1655_GSE157512': ['bw/Fis3.bw',-5,5,-2,2],\n",
    "#               'Fis_r1': ['bw/GSM5696094_19780_Fis_MHS_i5006_DY330_rep1.gff.MG1655.bg_cov.25.bw',-5,50,-2,20],\n",
    "#               'Fis_r2': ['bw/GSM5696095_20234_Fis_MHS_i5006_DY330_rep1.gff.MG1655.bg_cov.25.bw',-5,50,-2,20],\n",
    "#               'Fis_1_MG1655_GSE181767': ['chip_exo/GSM5511054_fis_expo_1.gff.bw',-100, 300, -50, 100],\n",
    "#               'Fis_2_MG1655_GSE181767': ['chip_exo/GSM5511055_fis_expo_2.gff.bw',-100, 300, -50, 100],\n",
    "#               #'Fis_r1_GSE181767': ['bw/fis_expo_1.bw',-5,80,-2,40], #the same as above\n",
    "#               #'Fis_r2_prochipDB': ['bw/fis_expo_2.bw',-5,80,-2,40], #the same as above\n",
    "    \n",
    "#               # 'SMC_1_MG1655_GSE67221': ['bw/smc.25.bw',-5,10,-2,4],\n",
    "#               'mukb_1_MG1655_GSE181767': ['chip_exo/GSM5511068_mukb_expo_1.gff.bw',-100, 200, -20, 40],\n",
    "#               'mukb_2_MG1655_GSE181767': ['chip_exo/GSM5511069_mukb_expo_2.gff.bw',-100, 200, -20, 40],\n",
    "\n",
    "#               'infa_1_MG1655_GSE181767': ['chip_exo/GSM5511066_infa_expo_1.gff.bw',-100, 300, -50, 100],\n",
    "#               'infa_2_MG1655_GSE181767': ['chip_exo/GSM5511067_infa_expo_2.gff.bw',-100, 300, -50, 100],\n",
    "    \n",
    "#               'hupa_1_MG1655_GSE181767': ['chip_exo/GSM5511062_hupa_expo_1.gff.bw',0, 300, 0, 200],\n",
    "#               'hupa_2_MG1655_GSE181767': ['chip_exo/GSM5511063_hupa_expo_2.gff.bw',0, 300, 0, 200],\n",
    "#               'hupb_1_MG1655_GSE181767': ['chip_exo/GSM5511064_hupb_expo_1.gff.bw',0, 300, 0, 100],\n",
    "#               'hupb_2_MG1655_GSE181767': ['chip_exo/GSM5511065_hupb_expo_2.gff.bw',0, 300, 0, 100],\n",
    "#              # 'data/chip_exo/GSM5511052_dps_expo_1.gff.bw',\n",
    "#              # 'data/chip_exo/GSM5511053_dps_expo_2.gff.bw',\n",
    "#              # 'data/chip_exo/GSM5511070_rdgc_expo_1.gff.bw',\n",
    "#              # 'data/chip_exo/GSM5511071_rdgc_expo_2.gff.bw',\n",
    "#              # 'data/chip_exo/GSM5511078_tus_expo_1.gff.bw',\n",
    "#              # 'data/chip_exo/GSM5511079_tus_expo_2.gff.bw',\n",
    "#              # 'data/chip_exo/GSM5511072_rob_expo_1.gff.bw',\n",
    "#              # 'data/chip_exo/GSM5511073_rob_expo_2.gff.bw',\n",
    "#               # 'GapR_1_MG1655_GSE152880': ['bw/GSM4628311_D19-5504-3883G_norm.wig.bw',-2,2,-0.25,0.25],\n",
    "#               # 'GapR_2_MG1655_GSE152880': ['bw/GSM4628312_D19-11573-4278G_MG1655_norm.wig.bw',-2,2,-0.25,0.25],\n",
    "#               'GapR+FLAG_1_MG1655_GSE152880': ['bw/GSM4628313_D18-11475-3531L_norm.wig.bw',0,1,-0,0.6],\n",
    "#               'GapR+FLAG_2_MG1655_GSE152880': ['bw/GSM4628314_D19-11570-4278G_MG1655_norm.wig.bw',0,1,-0,0.6],\n",
    "#                 'GapR_1_MG1655_GSE213028': ['gapR/GSM6569550_CC_chip16.bw.bigWig',-100, 300, -50, 100],\n",
    "#                 'GapR_2_MG1655_GSE213028': ['gapR/GSM6569551_CC_chip18.bw.bigWig',-100, 300, -50, 100],\n",
    "#                 'GapR_3_MG1655_GSE213028': ['gapR/GSM6569552_CC_chip19.bw.bigWig',-100, 300, -50, 100],\n",
    "#                 'GapR_4_MG1655_GSE213028': ['gapR/GSM6569553_CC_chip20.bw.bigWig',-100, 300, -50, 100],\n",
    "#                 'GapR_5_MG1655_GSE213028': ['gapR/GSM6569554_CC_chip21.bw.bigWig',-100, 300, -50, 100],\n",
    "#                 'GapR_5_MG1655_GSE213028': ['gapR/GSM6569555_CC_chip17.bw.bigWig',-100, 300, -50, 100],\n",
    "    \n",
    "#               'Beta_1_MG1655_GSE157512': ['bw/Beta1_quantNorm.bw',-5,10,-2,2],\n",
    "#               'Beta_2_MG1655_GSE157512': ['bw/Beta2_quantNorm.bw',-5,10,-2,2],\n",
    "#                 'RpoC_1_MG1655_Nudler': ['bw/rpoc.bw',-2,8,-1.5,3],\n",
    "#                 'RapA_1_MG1655_Nudler': ['bw/RapA.bw',-2,32,-8,8],\n",
    "#                 'BetaPrimeNeg_1_DY330_GSE147611': ['bw/GSE147611_betaprime_WT_RNET-seq_rep1_5prime_R1_negative_strand.wig.bw',-5,5,-2,2],\n",
    "#                 'BetaPrimePos_1_DY330_GSE147611': ['bw/GSE147611_betaprime_WT_RNET-seq_rep1_5prime_R1_positive_strand.wig.bw',-5,5,-2,2],\n",
    "#                 'SigmaPos_1_DY330_GSE147611': ['bw/GSE147611_sigma70WT_RNET-seq_rep1_5prime_R1_positive_strand.wig.bw',-5,5,-2,2],\n",
    "#                 'SigmaNeg_1_DY330_GSE147611':['bw/GSE147611_sigma70WT_RNET-seq_rep1_5prime_R1_negative_strand.wig.bw',-5,5,-2,2],\n",
    "    \n",
    "#                 'HimD_1_DY330_GSE189206': ['bw/GSM5696122_20219_HimD_MHS_i5006_DY330_rep1.gff.MG1655.bg_cov.25.bw',-5,30,-2,15],\n",
    "#                 'HimD_2_DY330_GSE189206': ['bw/GSM5696123_20220_HimD_MHS_i5006_DY330_rep2.gff.MG1655.bg_cov.25.bw',-5,30,-2,15],\n",
    "#                 'HimD_3_DY330_GSE189206': ['bw/GSM5696124_21320_HimD_MHS_i5006_DY330_rep3.gff.MG1655.bg_cov.25.bw',-5,30,-2,15],\n",
    "\n",
    "#                 'RpoB_1_DY330_GSE189206': ['bw/GSM5696098_17252_RpoB_MHS_i5006_DY330_rep1.gff.MG1655.bg_cov.25.bw',-5,50,-2,20],\n",
    "#                 'RpoB_2_DY330_GSE189206': ['bw/GSM5696099_17268_RpoB_MHS_i5006_DY330_rep2.gff.MG1655.bg_cov.25.bw',-5,50,-2,20],\n",
    "#                 'RpoB_3_DY330_GSE189206': ['bw/GSM5696100_21315_RpoB_MHS_i5006_DY330_rep3.gff.MG1655.bg_cov.25.bw',-5,50,-2,20],\n",
    "#                 'RpoH_1_DY330_GSE189206': ['bw/GSM5696108_17257_RpoH_MHS_i5006_DY330_rep1.gff.MG1655.bg_cov.25.bw',-5,50,-2,20],\n",
    "#                 'RpoH_2_DY330_GSE189206': ['bw/GSM5696109_17273_RpoH_MHS_i5006_DY330_rep2.gff.MG1655.bg_cov.25.bw',-5,50,-2,20],\n",
    "#                 'RpoH_3_DY330_GSE189206': ['bw/GSM5696110_21305_RpoH_MHS_i5006_DY330_rep3.gff.MG1655.bg_cov.25.bw',-5,50,-2,20],\n",
    "#                 'RpoH_4_DY330_GSE189206': ['bw/GSM5696111_21306_RpoH_MHS_i5006_DY330_rep4.gff.MG1655.bg_cov.25.bw',-5,50,-2,20],\n",
    "#                 'RpoA_1_DY330_GSE189206': ['bw/GSM5696116_19784_RpoA_MHS_i5006_DY330_rep1.gff.MG1655.bg_cov.25.bw',-5,50,-2,20],\n",
    "#                 'RpoA_2_DY330_GSE189206': ['bw/GSM5696117_20236_RpoA_MHS_i5006_DY330_rep2.gff.MG1655.bg_cov.25.bw',-5,50,-2,20],\n",
    "#                 'RpoA_3_DY330_GSE189206': ['bw/GSM5696118_21299_RpoA_MHS_i5006_DY330_rep3.gff.MG1655.bg_cov.25.bw',-5,50,-2,20],\n",
    "#                 'RpoN_1_DY330_GSE189206': ['bw/GSM5696128_20221_RpoN_MHS_i5006_DY330_rep1.gff.MG1655.bg_cov.25.bw',-5,50,-2,20],\n",
    "#                 'RpoN_2_DY330_GSE189206': ['bw/GSM5696129_20222_RpoN_MHS_i5006_DY330_rep2.gff.MG1655.bg_cov.25.bw',-5,50,-2,20],\n",
    "#                 'RpoC_1_DY330_GSE189206': ['bw/GSM5696132_20223_RpoC_MHS_i5006_DY330_rep1.gff.MG1655.bg_cov.25.bw',-5,50,-2,20],\n",
    "#                 'RpoC_2_DY330_GSE189206': ['bw/GSM5696133_20224_RpoC_MHS_i5006_DY330_rep2.gff.MG1655.bg_cov.25.bw',-5,50,-2,20],\n",
    "#                 'RpoC_3_DY330_GSE189206': ['bw/GSM5696134_21316_RpoC_MHS_i5006_DY330_rep3.gff.MG1655.bg_cov.25.bw',-5,50,-2,20],\n",
    "#                 'RpoC_4_DY330_GSE189206': ['bw/GSM5696135_21317_RpoC_MHS_i5006_DY330_rep4.gff.MG1655.bg_cov.25.bw',-5,50,-2,20],\n",
    "#                 'RpoD_1_DY330_GSE189206': ['bw/GSM5696104_17253_RpoD_MHS_i5006_DY330_rep1.gff.MG1655.bg_cov.25.bw',-5,50,-2,20],\n",
    "#                 'RpoD_2_DY330_GSE189206': ['bw/GSM5696105_17269_RpoD_MHS_i5006_DY330_rep2.gff.MG1655.bg_cov.25.bw',-5,50,-2,20],\n",
    "                \n",
    "#                 # 'RpoD_r1_MG1655_GSE41195': ['bw/GSM1010221_Sigma70_IP_ChIP-seq_Aerobic_A_SET.bw',-5,5,-2,2],\n",
    "#                 # 'RpoD_r2_MG1655_GSE41195': ['bw/GSM1072326_Sigma70_IP_ChIP-seq_Aerobic_B_SET.bw',-5,5,-2,2],\n",
    "#                 'RpoD_1_MG1655_GSE182128': ['bw/GSM5519061_rpod_1.bw',-5,400,-2,200],\n",
    "#                 'RpoD_2_MG1655_GSE182128': ['bw/GSM5519062_rpod_2.bw',-5,400,-2,200],\n",
    "#                 'RpoB_1_MG1655_GSE182128': ['bw/GSM5526772_rpob_1.gff.bw',-5,200,-2,100],\n",
    "#                 'RpoB_2_MG1655_GSE182128': ['bw/GSM5526773_rpob_2.gff.bw',-5,200,-2,100],\n",
    "#                 'RpoD_1_MG1655_GSE182128': ['bw/GSM4844461_mg1655_rpoD1.gff.bw',-5,80,-2,50],\n",
    "#                 'RpoD_2_MG1655_GSE182128': ['bw/GSM4844462_mg1655_rpoD2.gff.bw',-5,80,-2,50],\n",
    "#                 'RedC-nacscent_MG1655_Gavrilov': ['redC/wt_merged.rna1.10k.bw.bigWig',0,50,-2,20],\n",
    "#               }\n",
    "# import matplotlib.pyplot as plt\n",
    "# from matplotlib.backends.backend_pdf import PdfPages\n",
    "# import sys\n",
    "# sys.path.append('/home/izhegalova/ecoli_microc/scripts/')\n",
    "# from functions import plot_around_loop, wrapper_stackup\n",
    "# nbins=81\n",
    "# pdf_path = \"results/multipage_plots.pdf\"\n",
    "# with PdfPages(pdf_path) as pdf:   \n",
    "#     for id in bigwig_list.keys(): #337\n",
    "#         print(id)\n",
    "#         fig = plot_around_loop(\n",
    "#             path_bw='data/%s' % bigwig_list[id][0],\n",
    "#             plot_name=id+'.pdf',\n",
    "#             nbins=81, resolution=25,\n",
    "#             chrom_file=df_chromsizes,\n",
    "#             window=500, mode=\"median\",\n",
    "#             vmin=bigwig_list[id][1],\n",
    "#             vmax=bigwig_list[id][2],\n",
    "#             ymin=bigwig_list[id][3],\n",
    "#             ymax=bigwig_list[id][4],\n",
    "#             norm=False,\n",
    "#             fill=True,\n",
    "#             how_far_from_edge=20,\n",
    "#             bed_list=[\n",
    "#                 \"data/hairpins_25.bedpe\",\n",
    "#                 \"data/hTADS_25.bedpe\",\n",
    "#                 \"data/TADS_25.bedpe\",\n",
    "#                 \"data/TU.nascBot25.bed\",\n",
    "#                 'data/TU.average.bed',\n",
    "#                 'data/TU.nascTop10.bed'],\n",
    "#             name_list=[\"Hp\\n(n=250)\",\n",
    "#                 \"HpCD\\n(n=25)\",\n",
    "#                 \"CD\\n(n=68)\",\n",
    "#                 \"TU zero expr.\\n(n=975)\",\n",
    "#                 \"TU, bottom 90%,\\nnot incl. zero expr.\\n(n=1367)\",\n",
    "#                 \"TU Top10% expr\\n(n=257)\"],\n",
    "#             pic_path='results/',\n",
    "#             flip_negative_strand=True,\n",
    "#             return_matrix=False,\n",
    "#             multipage=True\n",
    "#         )\n",
    "#         pdf.savefig(fig, bbox_inches=\"tight\")"
   ]
  },
  {
   "cell_type": "code",
   "execution_count": 5,
   "id": "2c20fe56-e611-43d2-80b4-bf65c6cb7ec9",
   "metadata": {},
   "outputs": [
    {
     "name": "stdout",
     "output_type": "stream",
     "text": [
      "666 data/operons.nascBot25.bed\n",
      "1171 data/operons.average.bed\n",
      "203 data/operons.nascTop10.bed\n"
     ]
    }
   ],
   "source": [
    "!wc -l data/operons.nascBot25.bed\n",
    "!wc -l data/operons.average.bed\n",
    "!wc -l data/operons.nascTop10.bed"
   ]
  },
  {
   "cell_type": "code",
   "execution_count": 6,
   "id": "dc0539ab-8492-4762-99f0-d1d91821e48b",
   "metadata": {},
   "outputs": [
    {
     "name": "stdout",
     "output_type": "stream",
     "text": [
      "TopoI_merged_W3110Mu_GSE182473\n"
     ]
    },
    {
     "data": {
      "image/png": "[encoded data removed]",
      "text/plain": [
       "<Figure size 750x450 with 11 Axes>"
      ]
     },
     "metadata": {},
     "output_type": "display_data"
    }
   ],
   "source": [
    "# protein name_rep_strain_GEO\n",
    "bigwig_list = {\n",
    "#               'GC_MG1655': ['MG1655.GC.50bp.bw.bigWig', 0.2,0.7,0.3,0.6],\n",
    "              'TopoI_merged_W3110Mu_GSE182473': ['bw/TopoI_merged_W3110Mu_GSE182473.bw',-0.6,0.5,-0.3,0.1],\n",
    "        \n",
    "#               'GyrA_merged_MG1655_GSE182079': ['bw/GyrA_merged_MG1655_GSE182079.bw',0,30,0,15],\n",
    "#               'GyrB_merged_MG1655_GSE182079': ['bw/GyrB_merged_MG1655_GSE182079.bw',0,80,-0.5,50],\n",
    "\n",
    "#               'H-NS_1_MG1655_E-MTAB-332': ['bw/HnsB.blat.basecount.pruned.bw',0,1600,100,1600], #mid-exp\n",
    "#               'H-NS_merged_MG1655_GSE157512': ['bw/H-NS_merged_MG1655_GSE157512.bw',-3,5,-2,4],\n",
    "#               'H-NS_merged_MG1655_GSE181767': ['bw/H-NS_merged_MG1655_GSE181767.bw',-10, 800, -50, 300],\n",
    "              # 'H-NS+Rif_1_MG1655_GSE157512': ['bw/H-NS+Rif_1_MG1655_GSE157512.bw',-3, 5, -2, 4],\n",
    "#               'StpA_merged_MG1655_GSE181767': ['bw/StpA_merged_MG1655_GSE181767.bw',-100, 800, -50, 500],\n",
    "#               'StpA_merged_MG1655_GSE157512': ['bw/StpA_merged_MG1655_GSE157512.bw',-2,3,-1,1.5],\n",
    "\n",
    "#               'Fis_1_MG1655_E-MTAB-332': ['bw/FisB.blat.basecount.pruned.bw',0,600,100,300], #mid-exp\n",
    "\n",
    "#               'Mukb_merged_MG1655_GSE181767': ['bw/MukB_merged_MG1655_GSE181767.bw',0, 60, -5, 30],\n",
    "\n",
    "#               'HupA_merged_MG1655_GSE181767': ['bw/HupA_merged_MG1655_GSE181767.bw',0, 160, 30, 130],\n",
    "#               'HupB_merged_MG1655_GSE181767': ['bw/HupB_merged_MG1655_GSE181767.bw',10, 130, 20, 80],\n",
    "#               'GapR+FLAG_MG1655_GSE152880': ['bw/GapR_merged_MG1655_GSE152880.bw',0,0.8,0,0.4],\n",
    "#               'Beta_merged_MG1655_GSE157512': ['bw/RNAPbeta_merged_MG1655_GSE157512.bw',-3,3,-1.5,1.5],\n",
    "#               'RpoC_1_MG1655_Nudler': ['bw/rpoc.bw',0,6,-1.5,3],\n",
    "#               'RapA_1_MG1655_Nudler': ['bw/RapA.bw',-2,8,-4,4],\n",
    "#               'RedC-nacscent_MG1655_Gavrilov': ['redC/wt_merged.rna1.10k.bw.bigWig',0,20,-2,10],\n",
    "              }\n",
    "import matplotlib.pyplot as plt\n",
    "from matplotlib.backends.backend_pdf import PdfPages\n",
    "import sys\n",
    "sys.path.append('/home/izhegalova/ecoli_microc/scripts/')\n",
    "from functions import plot_around_loop, wrapper_stackup\n",
    "nbins=81\n",
    "pdf_path = \"results/pileups_operons_mergedArial.Jul2.pdf\"\n",
    "with PdfPages(pdf_path) as pdf:   \n",
    "    for id in bigwig_list.keys(): #337\n",
    "        print(id)\n",
    "        fig = plot_around_loop(\n",
    "            path_bw='data/%s' % bigwig_list[id][0],\n",
    "            plot_name=id,\n",
    "            nbins=81, resolution=25,\n",
    "            chrom_file=df_chromsizes,\n",
    "            window=500, mode=\"median\",\n",
    "            vmin=bigwig_list[id][1],\n",
    "            vmax=bigwig_list[id][2],\n",
    "            ymin=bigwig_list[id][3],\n",
    "            ymax=bigwig_list[id][4],\n",
    "            norm=False, fill=True,\n",
    "            how_far_from_edge=20,\n",
    "            bed_list=[\n",
    "                \"data/hairpins_25.bedpe\",\n",
    "                \"data/hTADS_25.bedpe\",\n",
    "                \"data/TADS_25.bedpe\",\n",
    "                \"data/operons.nascBot25.bed\",\n",
    "                #'data/operons.average.bed',\n",
    "                'data/operons.nascTop10.bed'],\n",
    "            name_list=[\"Hp\\n(n=250)\",\n",
    "                \"HpCD\\n(n=26)\",\n",
    "                \"CD\\n(n=68)\",\n",
    "                \"Inactive operons\\n(n=666)\",\n",
    "                #\"TU, bottom 90%,\\nnot incl. zero expr.\\n(n=1171)\",\n",
    "                \"Active operons\\n(n=203)\"],\n",
    "            pic_path='results/',\n",
    "            flip_negative_strand=True,\n",
    "            return_matrix=False,\n",
    "            multipage=True\n",
    "        )\n",
    "        pdf.savefig(fig, bbox_inches=\"tight\")"
   ]
  },
  {
   "cell_type": "markdown",
   "id": "9d6e49a2-680e-4874-9825-56d506fa1e63",
   "metadata": {
    "jp-MarkdownHeadingCollapsed": true,
    "tags": []
   },
   "source": [
    "# H-NS peaks intersect with Hp centers"
   ]
  },
  {
   "cell_type": "code",
   "execution_count": 5,
   "id": "390954df-1ecf-4910-b59e-f5660af7c839",
   "metadata": {},
   "outputs": [],
   "source": [
    "%%bash\n",
    "# NC_000913.2 4639675\n",
    "# !wc -l data/h-ns/HnsB.blat.basecount.pruned\n",
    "source ~/.bashrc\n",
    "source activate ecoli_microc;\n",
    "\n",
    "# idr --samples data/h-ns/GSM4769084_NegRif_HNS1_peaks.bed \\\n",
    "# data/h-ns/GSM4769087_NegRif_HNS2_peaks.bed --input-file-type bed \\\n",
    "# --output-file data/h-ns/NegRif_HNS_idr_peaks.bed"
   ]
  },
  {
   "cell_type": "code",
   "execution_count": 15,
   "id": "9f2c6f8d-9ef7-4a4e-8346-8a6d04bfabc4",
   "metadata": {},
   "outputs": [],
   "source": [
    "#bedtools intersect -a data/h-ns/GSM4769084_NegRif_HNS1_peaks.bed \\\n",
    "# -b data/h-ns/GSM4769087_NegRif_HNS2_peaks.bed -wo > data/h-ns/NegRif_HNS_merged_peaks.bed\n",
    "import sys\n",
    "sys.path.append('/home/izhegalova/ecoli_microc/scripts/')\n",
    "from venn_mpl import venn_mpl\n",
    "from pybedtools import BedTool\n",
    "Hns_bed = BedTool('data/h-ns/GSM4769084_NegRif_HNS1_peaks.bed')\n",
    "Hns2_bed = BedTool('data/h-ns/GSM4769087_NegRif_HNS2_peaks.bed')\n",
    "Hp_bed = BedTool('data/hairpins_25.middle.bed')\n",
    "\n",
    "sns.set(style='white', context='poster', rc={'figure.figsize':(10,10)})\n",
    "venn_mpl(Hns_bed, \n",
    "         Hns2_bed,\n",
    "         Hp_bed,\n",
    "         outfn='results/HNS_Hp_venn.pdf', \n",
    "         labels=['H-NS1', 'H-NS2', 'Hp'],)"
   ]
  },
  {
   "cell_type": "code",
   "execution_count": 7,
   "id": "71969ab4-a805-4057-827e-b74c4120d785",
   "metadata": {},
   "outputs": [
    {
     "data": {
      "text/html": [
       "<div>\n",
       "<style scoped>\n",
       "    .dataframe tbody tr th:only-of-type {\n",
       "        vertical-align: middle;\n",
       "    }\n",
       "\n",
       "    .dataframe tbody tr th {\n",
       "        vertical-align: top;\n",
       "    }\n",
       "\n",
       "    .dataframe thead th {\n",
       "        text-align: right;\n",
       "    }\n",
       "</style>\n",
       "<table border=\"1\" class=\"dataframe\">\n",
       "  <thead>\n",
       "    <tr style=\"text-align: right;\">\n",
       "      <th></th>\n",
       "      <th>chrom</th>\n",
       "      <th>start</th>\n",
       "      <th>end</th>\n",
       "      <th>name</th>\n",
       "      <th>score</th>\n",
       "      <th>strand</th>\n",
       "    </tr>\n",
       "  </thead>\n",
       "  <tbody>\n",
       "    <tr>\n",
       "      <th>0</th>\n",
       "      <td>NC_000913.3</td>\n",
       "      <td>58250</td>\n",
       "      <td>59425</td>\n",
       "      <td>NaN</td>\n",
       "      <td>NaN</td>\n",
       "      <td>NaN</td>\n",
       "    </tr>\n",
       "    <tr>\n",
       "      <th>1</th>\n",
       "      <td>NC_000913.3</td>\n",
       "      <td>83450</td>\n",
       "      <td>85875</td>\n",
       "      <td>NaN</td>\n",
       "      <td>NaN</td>\n",
       "      <td>NaN</td>\n",
       "    </tr>\n",
       "    <tr>\n",
       "      <th>2</th>\n",
       "      <td>NC_000913.3</td>\n",
       "      <td>150050</td>\n",
       "      <td>152625</td>\n",
       "      <td>NaN</td>\n",
       "      <td>NaN</td>\n",
       "      <td>NaN</td>\n",
       "    </tr>\n",
       "    <tr>\n",
       "      <th>3</th>\n",
       "      <td>NC_000913.3</td>\n",
       "      <td>150050</td>\n",
       "      <td>153550</td>\n",
       "      <td>NaN</td>\n",
       "      <td>NaN</td>\n",
       "      <td>NaN</td>\n",
       "    </tr>\n",
       "    <tr>\n",
       "      <th>4</th>\n",
       "      <td>NC_000913.3</td>\n",
       "      <td>150050</td>\n",
       "      <td>154625</td>\n",
       "      <td>NaN</td>\n",
       "      <td>NaN</td>\n",
       "      <td>NaN</td>\n",
       "    </tr>\n",
       "  </tbody>\n",
       "</table>\n",
       "</div>"
      ],
      "text/plain": [
       "         chrom   start     end  name  score  strand\n",
       "0  NC_000913.3   58250   59425   NaN    NaN     NaN\n",
       "1  NC_000913.3   83450   85875   NaN    NaN     NaN\n",
       "2  NC_000913.3  150050  152625   NaN    NaN     NaN\n",
       "3  NC_000913.3  150050  153550   NaN    NaN     NaN\n",
       "4  NC_000913.3  150050  154625   NaN    NaN     NaN"
      ]
     },
     "execution_count": 7,
     "metadata": {},
     "output_type": "execute_result"
    }
   ],
   "source": [
    "Hp_df = bf.read_table('data/hairpins_25.bed', schema='bed')\n",
    "Hp_df.head()"
   ]
  },
  {
   "cell_type": "code",
   "execution_count": 16,
   "id": "f8bd0d67-2a00-4a91-a991-3e9a8b6a6008",
   "metadata": {},
   "outputs": [
    {
     "name": "stderr",
     "output_type": "stream",
     "text": [
      "/home/izhegalova/.conda/envs/ecoli_microc/lib/python3.10/site-packages/bioframe/io/fileops.py:74: ParserWarning: Length of header or names does not match length of data. This leads to a loss of data with index_col=False.\n",
      "  df = pd.read_csv(filepath_or, **kwargs)\n"
     ]
    },
    {
     "data": {
      "text/plain": [
       "(151, 3)"
      ]
     },
     "execution_count": 16,
     "metadata": {},
     "output_type": "execute_result"
    }
   ],
   "source": [
    "HNS_merged_peaks = bf.read_table('data/h-ns/NegRif_HNS_merged_peaks.bed', schema='bed')\n",
    "tmp = bf.overlap(Hp_df, HNS_merged_peaks, how='inner', suffixes=['','_peaks'])\n",
    "tmp.loc[:,['chrom_peaks', 'start_peaks', 'end_peaks']].drop_duplicates().shape"
   ]
  },
  {
   "cell_type": "code",
   "execution_count": 9,
   "id": "230946bc-23dc-44b4-8d93-7563dcef18d1",
   "metadata": {},
   "outputs": [
    {
     "name": "stderr",
     "output_type": "stream",
     "text": [
      "/home/izhegalova/.conda/envs/ecoli_microc/lib/python3.10/site-packages/bioframe/io/fileops.py:74: ParserWarning: Length of header or names does not match length of data. This leads to a loss of data with index_col=False.\n",
      "  df = pd.read_csv(filepath_or, **kwargs)\n"
     ]
    },
    {
     "name": "stdout",
     "output_type": "stream",
     "text": [
      "233\n"
     ]
    },
    {
     "data": {
      "image/png": "[encoded data removed]",
      "text/plain": [
       "<Figure size 640x480 with 1 Axes>"
      ]
     },
     "metadata": {},
     "output_type": "display_data"
    }
   ],
   "source": [
    "import sys\n",
    "sys.path.append('/home/izhegalova/ecoli_microc/scripts/')\n",
    "from functions import pValue_featureOccurenceInLoop\n",
    "# for F in [0.01, 0.1, 0.25, 0.5]:\n",
    "pValue_featureOccurenceInLoop(\n",
    "        file_features=\"data/hairpins_25.bed\",\n",
    "        time=None,\n",
    "        mode='whole',\n",
    "        N_shuffle=1_000,\n",
    "        file_loops='data/h-ns/NegRif_HNS_merged_peaks.bed', \n",
    "        name=\"H-NS_Hps\", \n",
    "        genome_file=\"data/genome.chrom.sizes\",\n",
    "        pic_path=\"results\",\n",
    "        resolution=25, fraction=0.01, Fraction=0.1, return_df=False)"
   ]
  },
  {
   "cell_type": "code",
   "execution_count": 18,
   "id": "515006f4-7b49-44c2-b284-65d59f0ae091",
   "metadata": {},
   "outputs": [
    {
     "name": "stdout",
     "output_type": "stream",
     "text": [
      "250 data/hairpins_25.bed\n"
     ]
    }
   ],
   "source": [
    "!wc -l data/hairpins_25.bed"
   ]
  },
  {
   "cell_type": "code",
   "execution_count": 5,
   "id": "18988f24-1b7a-48e7-9a55-88d4ef1b12cf",
   "metadata": {},
   "outputs": [
    {
     "name": "stderr",
     "output_type": "stream",
     "text": [
      "/home/izhegalova/.conda/envs/ecoli_microc/lib/python3.10/site-packages/bioframe/io/fileops.py:74: ParserWarning: Length of header or names does not match length of data. This leads to a loss of data with index_col=False.\n",
      "  df = pd.read_csv(filepath_or, **kwargs)\n"
     ]
    },
    {
     "name": "stdout",
     "output_type": "stream",
     "text": [
      "26\n"
     ]
    },
    {
     "data": {
      "image/png": "[encoded data removed]",
      "text/plain": [
       "<Figure size 640x480 with 1 Axes>"
      ]
     },
     "metadata": {},
     "output_type": "display_data"
    },
    {
     "name": "stderr",
     "output_type": "stream",
     "text": [
      "/home/izhegalova/.conda/envs/ecoli_microc/lib/python3.10/site-packages/bioframe/io/fileops.py:74: ParserWarning: Length of header or names does not match length of data. This leads to a loss of data with index_col=False.\n",
      "  df = pd.read_csv(filepath_or, **kwargs)\n"
     ]
    },
    {
     "name": "stdout",
     "output_type": "stream",
     "text": [
      "26\n"
     ]
    },
    {
     "data": {
      "image/png": "[encoded data removed]",
      "text/plain": [
       "<Figure size 640x480 with 1 Axes>"
      ]
     },
     "metadata": {},
     "output_type": "display_data"
    },
    {
     "name": "stderr",
     "output_type": "stream",
     "text": [
      "/home/izhegalova/.conda/envs/ecoli_microc/lib/python3.10/site-packages/bioframe/io/fileops.py:74: ParserWarning: Length of header or names does not match length of data. This leads to a loss of data with index_col=False.\n",
      "  df = pd.read_csv(filepath_or, **kwargs)\n"
     ]
    },
    {
     "name": "stdout",
     "output_type": "stream",
     "text": [
      "26\n"
     ]
    },
    {
     "data": {
      "image/png": "[encoded data removed]",
      "text/plain": [
       "<Figure size 640x480 with 1 Axes>"
      ]
     },
     "metadata": {},
     "output_type": "display_data"
    },
    {
     "name": "stderr",
     "output_type": "stream",
     "text": [
      "/home/izhegalova/.conda/envs/ecoli_microc/lib/python3.10/site-packages/bioframe/io/fileops.py:74: ParserWarning: Length of header or names does not match length of data. This leads to a loss of data with index_col=False.\n",
      "  df = pd.read_csv(filepath_or, **kwargs)\n"
     ]
    },
    {
     "name": "stdout",
     "output_type": "stream",
     "text": [
      "26\n"
     ]
    },
    {
     "data": {
      "image/png": "[encoded data removed]",
      "text/plain": [
       "<Figure size 640x480 with 1 Axes>"
      ]
     },
     "metadata": {},
     "output_type": "display_data"
    }
   ],
   "source": [
    "import sys\n",
    "sys.path.append('/home/izhegalova/ecoli_microc/scripts/')\n",
    "from functions import pValue_featureOccurenceInLoop\n",
    "for F in [0.01, 0.1, 0.25, 0.5]:\n",
    "    pValue_featureOccurenceInLoop(\n",
    "            file_features=\"data/hTADS_25.bed\",\n",
    "            time=None,\n",
    "            mode='whole',\n",
    "            N_shuffle=10,\n",
    "            file_loops='data/h-ns/NegRif_HNS_merged_peaks.bed', \n",
    "            name=\"H-NS_hTADs\", \n",
    "            genome_file=\"data/genome.chrom.sizes\",\n",
    "            pic_path=\"results\",\n",
    "            resolution=25, fraction=0.01, Fraction=F, return_df=False)"
   ]
  },
  {
   "cell_type": "code",
   "execution_count": 13,
   "id": "23403c88-1981-4094-b336-1367292f4b3f",
   "metadata": {},
   "outputs": [
    {
     "name": "stdout",
     "output_type": "stream",
     "text": [
      "297 data/h-ns/NegRif_HNS_merged_peaks.bed\n",
      "297 data/h-ns/GSM4769084_NegRif_HNS1_peaks.bed\n",
      "304 data/h-ns/GSM4769087_NegRif_HNS2_peaks.bed\n"
     ]
    }
   ],
   "source": [
    "!wc -l data/h-ns/NegRif_HNS_merged_peaks.bed\n",
    "!wc -l data/h-ns/GSM4769084_NegRif_HNS1_peaks.bed\n",
    "!wc -l data/h-ns/GSM4769087_NegRif_HNS2_peaks.bed"
   ]
  },
  {
   "cell_type": "markdown",
   "id": "3a1aed6d-ed65-461d-a071-2b59ec3c9f34",
   "metadata": {},
   "source": [
    "# AT shuffle"
   ]
  },
  {
   "cell_type": "code",
   "execution_count": 26,
   "id": "149bb5a3-ab50-4b85-9e67-d98201c4b17b",
   "metadata": {},
   "outputs": [
    {
     "data": {
      "text/html": [
       "<div>\n",
       "<style scoped>\n",
       "    .dataframe tbody tr th:only-of-type {\n",
       "        vertical-align: middle;\n",
       "    }\n",
       "\n",
       "    .dataframe tbody tr th {\n",
       "        vertical-align: top;\n",
       "    }\n",
       "\n",
       "    .dataframe thead th {\n",
       "        text-align: right;\n",
       "    }\n",
       "</style>\n",
       "<table border=\"1\" class=\"dataframe\">\n",
       "  <thead>\n",
       "    <tr style=\"text-align: right;\">\n",
       "      <th></th>\n",
       "      <th>chrom</th>\n",
       "      <th>start</th>\n",
       "      <th>end</th>\n",
       "    </tr>\n",
       "  </thead>\n",
       "  <tbody>\n",
       "    <tr>\n",
       "      <th>0</th>\n",
       "      <td>NC_000913.3</td>\n",
       "      <td>29400</td>\n",
       "      <td>29450</td>\n",
       "    </tr>\n",
       "    <tr>\n",
       "      <th>1</th>\n",
       "      <td>NC_000913.3</td>\n",
       "      <td>42325</td>\n",
       "      <td>42375</td>\n",
       "    </tr>\n",
       "    <tr>\n",
       "      <th>2</th>\n",
       "      <td>NC_000913.3</td>\n",
       "      <td>75650</td>\n",
       "      <td>75700</td>\n",
       "    </tr>\n",
       "    <tr>\n",
       "      <th>3</th>\n",
       "      <td>NC_000913.3</td>\n",
       "      <td>75900</td>\n",
       "      <td>75950</td>\n",
       "    </tr>\n",
       "    <tr>\n",
       "      <th>4</th>\n",
       "      <td>NC_000913.3</td>\n",
       "      <td>76150</td>\n",
       "      <td>76200</td>\n",
       "    </tr>\n",
       "  </tbody>\n",
       "</table>\n",
       "</div>"
      ],
      "text/plain": [
       "         chrom  start    end\n",
       "0  NC_000913.3  29400  29450\n",
       "1  NC_000913.3  42325  42375\n",
       "2  NC_000913.3  75650  75700\n",
       "3  NC_000913.3  75900  75950\n",
       "4  NC_000913.3  76150  76200"
      ]
     },
     "execution_count": 26,
     "metadata": {},
     "output_type": "execute_result"
    }
   ],
   "source": [
    "from pybedtools import BedTool\n",
    "# df_middleOfShoulders = bf.read_table('data/hairpins_50.middleOfShouldes.bedpe', schema='bedpe')\n",
    "df_middleOfShoulders_bed = BedTool('data/hairpins_50.middleOfShouldes.bed')\n",
    "df_middleOfShoulders = df_middleOfShoulders_bed.to_dataframe()\n",
    "df_middleOfShoulders.head()"
   ]
  },
  {
   "cell_type": "code",
   "execution_count": 58,
   "id": "eaceee8f-40ab-47a2-958f-c5eb093dae38",
   "metadata": {},
   "outputs": [
    {
     "data": {
      "text/plain": [
       "0.5    0.48\n",
       "Name: value, dtype: float64"
      ]
     },
     "execution_count": 58,
     "metadata": {},
     "output_type": "execute_result"
    }
   ],
   "source": [
    "AT_df = bf.read_bigwig('data/MG1655.AT.50bp.bw.bigWig', chrom='NC_000913.3')\n",
    "# AT_df.head()\n",
    "AT_df.value.quantile(q=[0.5])"
   ]
  },
  {
   "cell_type": "markdown",
   "id": "b0842ee9-74c8-4f8d-976c-4fce469b3d61",
   "metadata": {},
   "source": [
    "## Intersect"
   ]
  },
  {
   "cell_type": "code",
   "execution_count": 40,
   "id": "1f3f2103-db1b-4da6-9316-00326c398997",
   "metadata": {},
   "outputs": [],
   "source": [
    "median_obs = bf.overlap(df_middleOfShoulders, AT_df)['value_'].median()"
   ]
  },
  {
   "cell_type": "code",
   "execution_count": 51,
   "id": "78e39209-d4d1-43f5-8220-bb3ed64be6f6",
   "metadata": {},
   "outputs": [
    {
     "data": {
      "text/html": [
       "<div>\n",
       "<style scoped>\n",
       "    .dataframe tbody tr th:only-of-type {\n",
       "        vertical-align: middle;\n",
       "    }\n",
       "\n",
       "    .dataframe tbody tr th {\n",
       "        vertical-align: top;\n",
       "    }\n",
       "\n",
       "    .dataframe thead th {\n",
       "        text-align: right;\n",
       "    }\n",
       "</style>\n",
       "<table border=\"1\" class=\"dataframe\">\n",
       "  <thead>\n",
       "    <tr style=\"text-align: right;\">\n",
       "      <th></th>\n",
       "      <th>Shuffle</th>\n",
       "    </tr>\n",
       "  </thead>\n",
       "  <tbody>\n",
       "    <tr>\n",
       "      <th>0</th>\n",
       "      <td>0.48</td>\n",
       "    </tr>\n",
       "    <tr>\n",
       "      <th>1</th>\n",
       "      <td>0.48</td>\n",
       "    </tr>\n",
       "    <tr>\n",
       "      <th>2</th>\n",
       "      <td>0.50</td>\n",
       "    </tr>\n",
       "    <tr>\n",
       "      <th>3</th>\n",
       "      <td>0.48</td>\n",
       "    </tr>\n",
       "    <tr>\n",
       "      <th>4</th>\n",
       "      <td>0.48</td>\n",
       "    </tr>\n",
       "  </tbody>\n",
       "</table>\n",
       "</div>"
      ],
      "text/plain": [
       "   Shuffle\n",
       "0     0.48\n",
       "1     0.48\n",
       "2     0.50\n",
       "3     0.48\n",
       "4     0.48"
      ]
     },
     "execution_count": 51,
     "metadata": {},
     "output_type": "execute_result"
    }
   ],
   "source": [
    "genome_file=\"data/genome.chrom.sizes\"\n",
    "inter_shuffle_vec = []\n",
    "N_shuffle = 100\n",
    "for i in range(N_shuffle):\n",
    "    df_shuffled_bed = df_middleOfShoulders_bed.shuffle(g=genome_file, chrom=False, seed=i)\n",
    "    df_shuffled = df_shuffled_bed.to_dataframe()\n",
    "    median_shuffle = bf.overlap(df_shuffled, AT_df)['value_'].median()\n",
    "    inter_shuffle_vec.append(median_shuffle)\n",
    "    inter_shuffle_df = pd.DataFrame({\"Shuffle\": inter_shuffle_vec})\n",
    "inter_shuffle_df.head()"
   ]
  },
  {
   "cell_type": "code",
   "execution_count": 50,
   "id": "152b8e24-cc82-4c2f-ab9d-6680fd554ce3",
   "metadata": {},
   "outputs": [
    {
     "data": {
      "image/png": "[encoded data removed]",
      "text/plain": [
       "<Figure size 640x480 with 1 Axes>"
      ]
     },
     "metadata": {},
     "output_type": "display_data"
    }
   ],
   "source": [
    "fig = sns.histplot(\n",
    "            data=inter_shuffle_df, x=\"Shuffle\", kde=True, stat=\"percent\", binwidth=0.01)\n",
    "fig.axvline(median_obs, color=\"red\", lw=3)\n",
    "p_value = np.round(\n",
    "    np.min(\n",
    "        [\n",
    "            len(\n",
    "                inter_shuffle_df[\n",
    "                    inter_shuffle_df[\"Shuffle\"] > median_obs\n",
    "                ]\n",
    "            )\n",
    "            / N_shuffle,\n",
    "            len(\n",
    "                inter_shuffle_df[\n",
    "                    inter_shuffle_df[\"Shuffle\"] < median_obs\n",
    "                ]\n",
    "            )\n",
    "            / N_shuffle,\n",
    "        ]\n",
    "    ),\n",
    "    3,\n",
    ")\n",
    "if p_value == 0:\n",
    "    p_value = 1 / N_shuffle\n",
    "    plt.annotate(\n",
    "        \"p-value < \" + str(p_value),\n",
    "        xy=(0.95, 0.95),\n",
    "        xycoords=\"axes fraction\",\n",
    "        bbox=dict(facecolor=\"pink\", alpha=0.5),\n",
    "        horizontalalignment=\"right\",\n",
    "        fontsize=12,\n",
    "    )\n",
    "else:\n",
    "    plt.annotate(\n",
    "        \"p-value = \" + str(p_value),\n",
    "        xy=(0.95, 0.95),\n",
    "        xycoords=\"axes fraction\",\n",
    "        bbox=dict(facecolor=\"pink\", alpha=0.5),\n",
    "        horizontalalignment=\"right\",\n",
    "        fontsize=12,\n",
    "    )\n",
    "\n",
    "plt.savefig('results/AT_shuffle.pdf', bbox_inches=\"tight\")\n",
    "plt.show()"
   ]
  },
  {
   "cell_type": "markdown",
   "id": "39c31e1f-0c40-40bf-8a9d-70560ee22255",
   "metadata": {},
   "source": [
    "## Peaks"
   ]
  },
  {
   "cell_type": "code",
   "execution_count": 106,
   "id": "6398c31f-bf3a-46ba-8361-5099888abb74",
   "metadata": {},
   "outputs": [
    {
     "data": {
      "text/plain": [
       "0.47999998927116394"
      ]
     },
     "execution_count": 106,
     "metadata": {},
     "output_type": "execute_result"
    }
   ],
   "source": [
    "median_gw = AT_df.value.quantile(q=0.5)\n",
    "median_gw"
   ]
  },
  {
   "cell_type": "code",
   "execution_count": 99,
   "id": "a41f3c43-533e-428a-83ad-0e062098760c",
   "metadata": {},
   "outputs": [
    {
     "data": {
      "text/html": [
       "<div>\n",
       "<style scoped>\n",
       "    .dataframe tbody tr th:only-of-type {\n",
       "        vertical-align: middle;\n",
       "    }\n",
       "\n",
       "    .dataframe tbody tr th {\n",
       "        vertical-align: top;\n",
       "    }\n",
       "\n",
       "    .dataframe thead th {\n",
       "        text-align: right;\n",
       "    }\n",
       "</style>\n",
       "<table border=\"1\" class=\"dataframe\">\n",
       "  <thead>\n",
       "    <tr style=\"text-align: right;\">\n",
       "      <th></th>\n",
       "      <th>chrom</th>\n",
       "      <th>start</th>\n",
       "      <th>end</th>\n",
       "      <th>value</th>\n",
       "    </tr>\n",
       "  </thead>\n",
       "  <tbody>\n",
       "    <tr>\n",
       "      <th>0</th>\n",
       "      <td>NC_000913.3</td>\n",
       "      <td>0</td>\n",
       "      <td>50</td>\n",
       "      <td>0.60</td>\n",
       "    </tr>\n",
       "    <tr>\n",
       "      <th>1</th>\n",
       "      <td>NC_000913.3</td>\n",
       "      <td>50</td>\n",
       "      <td>100</td>\n",
       "      <td>0.56</td>\n",
       "    </tr>\n",
       "    <tr>\n",
       "      <th>2</th>\n",
       "      <td>NC_000913.3</td>\n",
       "      <td>100</td>\n",
       "      <td>150</td>\n",
       "      <td>0.76</td>\n",
       "    </tr>\n",
       "    <tr>\n",
       "      <th>3</th>\n",
       "      <td>NC_000913.3</td>\n",
       "      <td>150</td>\n",
       "      <td>200</td>\n",
       "      <td>0.60</td>\n",
       "    </tr>\n",
       "    <tr>\n",
       "      <th>6</th>\n",
       "      <td>NC_000913.3</td>\n",
       "      <td>300</td>\n",
       "      <td>350</td>\n",
       "      <td>0.60</td>\n",
       "    </tr>\n",
       "  </tbody>\n",
       "</table>\n",
       "</div>"
      ],
      "text/plain": [
       "         chrom  start  end  value\n",
       "0  NC_000913.3      0   50   0.60\n",
       "1  NC_000913.3     50  100   0.56\n",
       "2  NC_000913.3    100  150   0.76\n",
       "3  NC_000913.3    150  200   0.60\n",
       "6  NC_000913.3    300  350   0.60"
      ]
     },
     "execution_count": 99,
     "metadata": {},
     "output_type": "execute_result"
    }
   ],
   "source": [
    "AT_peaks = AT_df.query('value > @median_gw')\n",
    "AT_peaks.head()"
   ]
  },
  {
   "cell_type": "code",
   "execution_count": 100,
   "id": "e7078819-20f0-49e2-a825-2da96f2fee2c",
   "metadata": {},
   "outputs": [],
   "source": [
    "AT_peaks_clusters = bf.merge(AT_peaks, min_dist=1).query('n_intervals > 2')\n",
    "AT_peaks_clusters.head()\n",
    "AT_peaks_clusters.to_csv('data/AT_peaks_clusters.bed', sep='\\t', index=False, header=False) "
   ]
  },
  {
   "cell_type": "code",
   "execution_count": 101,
   "id": "5819eb55-940f-4716-b06d-28855ad20086",
   "metadata": {},
   "outputs": [
    {
     "data": {
      "text/plain": [
       "(1626, 4)"
      ]
     },
     "execution_count": 101,
     "metadata": {},
     "output_type": "execute_result"
    }
   ],
   "source": [
    "AT_peaks_clusters.shape"
   ]
  },
  {
   "cell_type": "code",
   "execution_count": 96,
   "id": "e4374d29-3533-47c5-bf4e-dfcdd5d506e7",
   "metadata": {},
   "outputs": [
    {
     "name": "stdout",
     "output_type": "stream",
     "text": [
      "108\n"
     ]
    },
    {
     "data": {
      "image/png": "[encoded data removed]",
      "text/plain": [
       "<Figure size 640x480 with 1 Axes>"
      ]
     },
     "metadata": {},
     "output_type": "display_data"
    }
   ],
   "source": [
    "import sys\n",
    "sys.path.append('/home/izhegalova/ecoli_microc/scripts/')\n",
    "from functions import pValue_featureOccurenceInLoop\n",
    "pValue_featureOccurenceInLoop(\n",
    "        file_loops=\"data/hairpins_50.middleOfShouldes.bed\", #\"data/hairpins_25.bed\",\n",
    "        time=None,\n",
    "        mode='whole',\n",
    "        N_shuffle=1_000,\n",
    "        file_features='data/AT_peaks_clusters.bed', \n",
    "        name=\"AT_HpsMid.q50\", \n",
    "        genome_file=\"data/genome.chrom.sizes\",\n",
    "        pic_path=\"results\",\n",
    "        resolution=25, fraction=0.1, Fraction=0.1, return_df=False)"
   ]
  }
 ],
 "metadata": {
  "kernelspec": {
   "display_name": "Python [conda env:.conda-ecoli_microc]",
   "language": "python",
   "name": "conda-env-.conda-ecoli_microc-py"
  },
  "language_info": {
   "codemirror_mode": {
    "name": "ipython",
    "version": 3
   },
   "file_extension": ".py",
   "mimetype": "text/x-python",
   "name": "python",
   "nbconvert_exporter": "python",
   "pygments_lexer": "ipython3",
   "version": "3.10.14"
  }
 },
 "nbformat": 4,
 "nbformat_minor": 5
}
