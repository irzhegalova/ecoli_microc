{
 "cells": [
  {
   "cell_type": "code",
   "execution_count": 2,
   "id": "ffff5d22-6598-4d4a-b655-f07c15412c6b",
   "metadata": {},
   "outputs": [
    {
     "name": "stdout",
     "output_type": "stream",
     "text": [
      "\n",
      "\n",
      "Building a new DB, current time: 05/20/2024 14:26:02\n",
      "New DB name:   /home/izhegalova/catcher/data/adapters.fa\n",
      "New DB title:  Catcher adapters\n",
      "Sequence type: Nucleotide\n",
      "Keep MBits: T\n",
      "Maximum file size: 3000000000B\n",
      "Adding sequences from FASTA; added 2 sequences in 0.241227 seconds.\n",
      "\n",
      "\n"
     ]
    }
   ],
   "source": [
    "%%bash\n",
    "source ~/.bashrc\n",
    "source activate catcher;\n",
    "cd data/\n",
    "makeblastdb -in adapters.fa -parse_seqids -blastdb_version 5 \\\n",
    "-title \"Catcher adapters\" -dbtype nucl"
   ]
  },
  {
   "cell_type": "code",
   "execution_count": 53,
   "id": "9773b54a-095e-4ee1-a787-0778bf850bd4",
   "metadata": {},
   "outputs": [
    {
     "name": "stderr",
     "output_type": "stream",
     "text": [
      "java -ea -Xmx256g -Xms256g -cp /home/izhegalova/.conda/envs/catcher/opt/bbmap-39.06-1/current/ jgi.ReformatReads -Xmx256g in=raw_data/Cat-1_S1_L001_R#_001.fastq.gz out=raw_data/Cat-1_S1_L001_R#_001.fasta\n",
      "Executing jgi.ReformatReads [-Xmx256g, in=raw_data/Cat-1_S1_L001_R#_001.fastq.gz, out=raw_data/Cat-1_S1_L001_R#_001.fasta]\n",
      "\n",
      "Set INTERLEAVED to false\n",
      "Input is being processed as paired\n",
      "[W::bgzf_read_block] EOF marker is absent. The input may be truncated\n",
      "[W::bgzf_read_block] EOF marker is absent. The input may be truncated\n",
      "Input:                  \t47788 reads          \t4826588 bases\n",
      "Output:                 \t47788 reads (100.00%) \t4826588 bases (100.00%)\n",
      "\n",
      "Time:                         \t0.165 seconds.\n",
      "Reads Processed:       47788 \t290.04k reads/sec\n",
      "Bases Processed:       4826k \t29.29m bases/sec\n",
      "java -ea -Xmx256g -Xms256g -cp /home/izhegalova/.conda/envs/catcher/opt/bbmap-39.06-1/current/ jgi.ReformatReads -Xmx256g in=raw_data/Cat-2_S2_L001_R#_001.fastq.gz out=raw_data/Cat-2_S2_L001_R#_001.fasta\n",
      "Executing jgi.ReformatReads [-Xmx256g, in=raw_data/Cat-2_S2_L001_R#_001.fastq.gz, out=raw_data/Cat-2_S2_L001_R#_001.fasta]\n",
      "\n",
      "Set INTERLEAVED to false\n",
      "Input is being processed as paired\n",
      "Input:                  \t264750 reads          \t26739750 bases\n",
      "Output:                 \t264750 reads (100.00%) \t26739750 bases (100.00%)\n",
      "\n",
      "Time:                         \t0.282 seconds.\n",
      "Reads Processed:        264k \t937.58k reads/sec\n",
      "Bases Processed:      26739k \t94.70m bases/sec\n",
      "java -ea -Xmx256g -Xms256g -cp /home/izhegalova/.conda/envs/catcher/opt/bbmap-39.06-1/current/ jgi.ReformatReads -Xmx256g in=raw_data/Cat-3_S3_L001_R#_001.fastq.gz out=raw_data/Cat-3_S3_L001_R#_001.fasta\n",
      "Executing jgi.ReformatReads [-Xmx256g, in=raw_data/Cat-3_S3_L001_R#_001.fastq.gz, out=raw_data/Cat-3_S3_L001_R#_001.fasta]\n",
      "\n",
      "Set INTERLEAVED to false\n",
      "Input is being processed as paired\n",
      "Input:                  \t131216 reads          \t13252816 bases\n",
      "Output:                 \t131216 reads (100.00%) \t13252816 bases (100.00%)\n",
      "\n",
      "Time:                         \t0.207 seconds.\n",
      "Reads Processed:        131k \t633.35k reads/sec\n",
      "Bases Processed:      13252k \t63.97m bases/sec\n",
      "java -ea -Xmx256g -Xms256g -cp /home/izhegalova/.conda/envs/catcher/opt/bbmap-39.06-1/current/ jgi.ReformatReads -Xmx256g in=raw_data/Cat-4_S4_L001_R#_001.fastq.gz out=raw_data/Cat-4_S4_L001_R#_001.fasta\n",
      "Executing jgi.ReformatReads [-Xmx256g, in=raw_data/Cat-4_S4_L001_R#_001.fastq.gz, out=raw_data/Cat-4_S4_L001_R#_001.fasta]\n",
      "\n",
      "Set INTERLEAVED to false\n",
      "Input is being processed as paired\n",
      "Input:                  \t526196 reads          \t53145796 bases\n",
      "Output:                 \t526196 reads (100.00%) \t53145796 bases (100.00%)\n",
      "\n",
      "Time:                         \t0.372 seconds.\n",
      "Reads Processed:        526k \t1415.35k reads/sec\n",
      "Bases Processed:      53145k \t142.95m bases/sec\n"
     ]
    }
   ],
   "source": [
    "%%bash\n",
    "source ~/.bashrc\n",
    "source activate catcher;\n",
    "cd data/\n",
    "for i in 1 2 3 4;\n",
    "do reformat.sh -Xmx256g in=raw_data/Cat-${i}_S${i}_L001_R#_001.fastq.gz \\\n",
    "out=raw_data/Cat-${i}_S${i}_L001_R#_001.fasta;\n",
    "done"
   ]
  },
  {
   "cell_type": "code",
   "execution_count": 39,
   "id": "c8c59a9a-42d4-4b12-9f80-bebfbe54c683",
   "metadata": {},
   "outputs": [
    {
     "name": "stderr",
     "output_type": "stream",
     "text": [
      "WARNING: fastp uses up to 16 threads although you specified 32\n",
      "Read1 before filtering:\n",
      "total reads: 23894\n",
      "total bases: 2413294\n",
      "Q20 bases: 2352762(97.4917%)\n",
      "Q30 bases: 2237230(92.7044%)\n",
      "\n",
      "Read2 before filtering:\n",
      "total reads: 23894\n",
      "total bases: 2413294\n",
      "Q20 bases: 2266559(93.9197%)\n",
      "Q30 bases: 2062364(85.4585%)\n",
      "\n",
      "Read1 after filtering:\n",
      "total reads: 23739\n",
      "total bases: 2397538\n",
      "Q20 bases: 2339360(97.5734%)\n",
      "Q30 bases: 2225860(92.8394%)\n",
      "\n",
      "Read2 after filtering:\n",
      "total reads: 23739\n",
      "total bases: 2397555\n",
      "Q20 bases: 2257895(94.1749%)\n",
      "Q30 bases: 2056020(85.7549%)\n",
      "\n",
      "Filtering result:\n",
      "reads passed filter: 47478\n",
      "reads failed due to low quality: 290\n",
      "reads failed due to too many N: 6\n",
      "reads failed due to too short: 14\n",
      "\n",
      "Duplication rate: 2.68268%\n",
      "\n",
      "Insert size peak (evaluated by paired-end reads): 145\n",
      "\n",
      "JSON report: fastp.json\n",
      "HTML report: Cat-1.html\n",
      "\n",
      "fastp -i raw_data/Cat-1_S1_L001_R1_001.fastq.gz -I raw_data/Cat-1_S1_L001_R2_001.fastq.gz --disable_adapter_trimming --thread 32 --html Cat-1.html -o raw_data/Cat-1_S1_L001_R1_001.fastp.fastq.gz -O raw_data/Cat-1_S1_L001_R2_001.fastp.fastq.gz \n",
      "fastp v0.23.4, time used: 2 seconds\n",
      "WARNING: fastp uses up to 16 threads although you specified 32\n",
      "Read1 before filtering:\n",
      "total reads: 132375\n",
      "total bases: 13369875\n",
      "Q20 bases: 12974892(97.0457%)\n",
      "Q30 bases: 12273777(91.8017%)\n",
      "\n",
      "Read2 before filtering:\n",
      "total reads: 132375\n",
      "total bases: 13369875\n",
      "Q20 bases: 12493476(93.445%)\n",
      "Q30 bases: 11395422(85.2321%)\n",
      "\n",
      "Read1 after filtering:\n",
      "total reads: 130727\n",
      "total bases: 13203218\n",
      "Q20 bases: 12838396(97.2369%)\n",
      "Q30 bases: 12161271(92.1084%)\n",
      "\n",
      "Read2 after filtering:\n",
      "total reads: 130727\n",
      "total bases: 13202936\n",
      "Q20 bases: 12401540(93.9302%)\n",
      "Q30 bases: 11328240(85.8009%)\n",
      "\n",
      "Filtering result:\n",
      "reads passed filter: 261454\n",
      "reads failed due to low quality: 3182\n",
      "reads failed due to too many N: 76\n",
      "reads failed due to too short: 38\n",
      "\n",
      "Duplication rate: 7.48026%\n",
      "\n",
      "Insert size peak (evaluated by paired-end reads): 145\n",
      "\n",
      "JSON report: fastp.json\n",
      "HTML report: Cat-2.html\n",
      "\n",
      "fastp -i raw_data/Cat-2_S2_L001_R1_001.fastq.gz -I raw_data/Cat-2_S2_L001_R2_001.fastq.gz --disable_adapter_trimming --thread 32 --html Cat-2.html -o raw_data/Cat-2_S2_L001_R1_001.fastp.fastq.gz -O raw_data/Cat-2_S2_L001_R2_001.fastp.fastq.gz \n",
      "fastp v0.23.4, time used: 1 seconds\n",
      "WARNING: fastp uses up to 16 threads although you specified 32\n",
      "Read1 before filtering:\n",
      "total reads: 65608\n",
      "total bases: 6626408\n",
      "Q20 bases: 6382034(96.3121%)\n",
      "Q30 bases: 5990873(90.4091%)\n",
      "\n",
      "Read2 before filtering:\n",
      "total reads: 65608\n",
      "total bases: 6626408\n",
      "Q20 bases: 6176415(93.2091%)\n",
      "Q30 bases: 5621968(84.8419%)\n",
      "\n",
      "Read1 after filtering:\n",
      "total reads: 64815\n",
      "total bases: 6546270\n",
      "Q20 bases: 6316448(96.4893%)\n",
      "Q30 bases: 5936302(90.6822%)\n",
      "\n",
      "Read2 after filtering:\n",
      "total reads: 64815\n",
      "total bases: 6546153\n",
      "Q20 bases: 6131612(93.6674%)\n",
      "Q30 bases: 5589162(85.3809%)\n",
      "\n",
      "Filtering result:\n",
      "reads passed filter: 129630\n",
      "reads failed due to low quality: 1520\n",
      "reads failed due to too many N: 8\n",
      "reads failed due to too short: 58\n",
      "\n",
      "Duplication rate: 5.28137%\n",
      "\n",
      "Insert size peak (evaluated by paired-end reads): 145\n",
      "\n",
      "JSON report: fastp.json\n",
      "HTML report: Cat-3.html\n",
      "\n",
      "fastp -i raw_data/Cat-3_S3_L001_R1_001.fastq.gz -I raw_data/Cat-3_S3_L001_R2_001.fastq.gz --disable_adapter_trimming --thread 32 --html Cat-3.html -o raw_data/Cat-3_S3_L001_R1_001.fastp.fastq.gz -O raw_data/Cat-3_S3_L001_R2_001.fastp.fastq.gz \n",
      "fastp v0.23.4, time used: 1 seconds\n",
      "WARNING: fastp uses up to 16 threads although you specified 32\n",
      "Read1 before filtering:\n",
      "total reads: 263098\n",
      "total bases: 26572898\n",
      "Q20 bases: 25846062(97.2647%)\n",
      "Q30 bases: 24537944(92.342%)\n",
      "\n",
      "Read2 before filtering:\n",
      "total reads: 263098\n",
      "total bases: 26572898\n",
      "Q20 bases: 25342213(95.3686%)\n",
      "Q30 bases: 23633025(88.9366%)\n",
      "\n",
      "Read1 after filtering:\n",
      "total reads: 260914\n",
      "total bases: 26351736\n",
      "Q20 bases: 25659735(97.374%)\n",
      "Q30 bases: 24381542(92.5235%)\n",
      "\n",
      "Read2 after filtering:\n",
      "total reads: 260914\n",
      "total bases: 26351561\n",
      "Q20 bases: 25221123(95.7102%)\n",
      "Q30 bases: 23544097(89.3461%)\n",
      "\n",
      "Filtering result:\n",
      "reads passed filter: 521828\n",
      "reads failed due to low quality: 4244\n",
      "reads failed due to too many N: 68\n",
      "reads failed due to too short: 56\n",
      "\n",
      "Duplication rate: 16.2616%\n",
      "\n",
      "Insert size peak (evaluated by paired-end reads): 145\n",
      "\n",
      "JSON report: fastp.json\n",
      "HTML report: Cat-4.html\n",
      "\n",
      "fastp -i raw_data/Cat-4_S4_L001_R1_001.fastq.gz -I raw_data/Cat-4_S4_L001_R2_001.fastq.gz --disable_adapter_trimming --thread 32 --html Cat-4.html -o raw_data/Cat-4_S4_L001_R1_001.fastp.fastq.gz -O raw_data/Cat-4_S4_L001_R2_001.fastp.fastq.gz \n",
      "fastp v0.23.4, time used: 1 seconds\n"
     ]
    }
   ],
   "source": [
    "%%bash\n",
    "source ~/.bashrc\n",
    "source activate catcher;\n",
    "cd data/\n",
    "# fastp\n",
    "for i in 1 2 3 4;\n",
    "do\n",
    "fastp -i raw_data/Cat-${i}_S${i}_L001_R1_001.fastq.gz \\\n",
    "-I raw_data/Cat-${i}_S${i}_L001_R2_001.fastq.gz \\\n",
    "--disable_adapter_trimming --thread 32 --html Cat-${i}.html \\\n",
    "-o raw_data/Cat-${i}_S${i}_L001_R1_001.fastp.fastq.gz \\\n",
    "-O raw_data/Cat-${i}_S${i}_L001_R2_001.fastp.fastq.gz;\n",
    "done"
   ]
  },
  {
   "cell_type": "code",
   "execution_count": null,
   "id": "f8bb357c-14e5-4132-9855-576db3d64fbf",
   "metadata": {},
   "outputs": [
    {
     "name": "stdout",
     "output_type": "stream",
     "text": [
      "application/gzip\n",
      "application/gzip\n"
     ]
    },
    {
     "name": "stderr",
     "output_type": "stream",
     "text": [
      "Started analysis of Cat-1_S1_L001_R1_001.fastq.gz\n",
      "Approx 5% complete for Cat-1_S1_L001_R1_001.fastq.gz\n",
      "Approx 10% complete for Cat-1_S1_L001_R1_001.fastq.gz\n",
      "Approx 15% complete for Cat-1_S1_L001_R1_001.fastq.gz\n",
      "Approx 20% complete for Cat-1_S1_L001_R1_001.fastq.gz\n",
      "Approx 25% complete for Cat-1_S1_L001_R1_001.fastq.gz\n",
      "Approx 30% complete for Cat-1_S1_L001_R1_001.fastq.gz\n",
      "Approx 35% complete for Cat-1_S1_L001_R1_001.fastq.gz\n",
      "Approx 40% complete for Cat-1_S1_L001_R1_001.fastq.gz\n",
      "Approx 45% complete for Cat-1_S1_L001_R1_001.fastq.gz\n",
      "Approx 50% complete for Cat-1_S1_L001_R1_001.fastq.gz\n",
      "Approx 55% complete for Cat-1_S1_L001_R1_001.fastq.gz\n",
      "Approx 60% complete for Cat-1_S1_L001_R1_001.fastq.gz\n",
      "Approx 65% complete for Cat-1_S1_L001_R1_001.fastq.gz\n",
      "Approx 70% complete for Cat-1_S1_L001_R1_001.fastq.gz\n",
      "Approx 75% complete for Cat-1_S1_L001_R1_001.fastq.gz\n",
      "Approx 80% complete for Cat-1_S1_L001_R1_001.fastq.gz\n",
      "Approx 85% complete for Cat-1_S1_L001_R1_001.fastq.gz\n",
      "Approx 90% complete for Cat-1_S1_L001_R1_001.fastq.gz\n",
      "Approx 95% complete for Cat-1_S1_L001_R1_001.fastq.gz\n"
     ]
    },
    {
     "name": "stdout",
     "output_type": "stream",
     "text": [
      "Analysis complete for Cat-1_S1_L001_R1_001.fastq.gz\n"
     ]
    },
    {
     "name": "stderr",
     "output_type": "stream",
     "text": [
      "Started analysis of Cat-1_S1_L001_R2_001.fastq.gz\n",
      "Approx 5% complete for Cat-1_S1_L001_R2_001.fastq.gz\n",
      "Approx 10% complete for Cat-1_S1_L001_R2_001.fastq.gz\n",
      "Approx 15% complete for Cat-1_S1_L001_R2_001.fastq.gz\n",
      "Approx 20% complete for Cat-1_S1_L001_R2_001.fastq.gz\n",
      "Approx 25% complete for Cat-1_S1_L001_R2_001.fastq.gz\n",
      "Approx 30% complete for Cat-1_S1_L001_R2_001.fastq.gz\n",
      "Approx 35% complete for Cat-1_S1_L001_R2_001.fastq.gz\n",
      "Approx 40% complete for Cat-1_S1_L001_R2_001.fastq.gz\n",
      "Approx 45% complete for Cat-1_S1_L001_R2_001.fastq.gz\n",
      "Approx 50% complete for Cat-1_S1_L001_R2_001.fastq.gz\n",
      "Approx 55% complete for Cat-1_S1_L001_R2_001.fastq.gz\n",
      "Approx 60% complete for Cat-1_S1_L001_R2_001.fastq.gz\n",
      "Approx 65% complete for Cat-1_S1_L001_R2_001.fastq.gz\n",
      "Approx 70% complete for Cat-1_S1_L001_R2_001.fastq.gz\n",
      "Approx 75% complete for Cat-1_S1_L001_R2_001.fastq.gz\n",
      "Approx 80% complete for Cat-1_S1_L001_R2_001.fastq.gz\n",
      "Approx 85% complete for Cat-1_S1_L001_R2_001.fastq.gz\n",
      "Approx 90% complete for Cat-1_S1_L001_R2_001.fastq.gz\n",
      "Approx 95% complete for Cat-1_S1_L001_R2_001.fastq.gz\n"
     ]
    },
    {
     "name": "stdout",
     "output_type": "stream",
     "text": [
      "Analysis complete for Cat-1_S1_L001_R2_001.fastq.gz\n",
      "application/gzip\n",
      "application/gzip\n"
     ]
    },
    {
     "name": "stderr",
     "output_type": "stream",
     "text": [
      "Started analysis of Cat-2_S2_L001_R1_001.fastq.gz\n",
      "Approx 5% complete for Cat-2_S2_L001_R1_001.fastq.gz\n",
      "Approx 10% complete for Cat-2_S2_L001_R1_001.fastq.gz\n",
      "Approx 15% complete for Cat-2_S2_L001_R1_001.fastq.gz\n",
      "Approx 20% complete for Cat-2_S2_L001_R1_001.fastq.gz\n",
      "Approx 25% complete for Cat-2_S2_L001_R1_001.fastq.gz\n",
      "Approx 30% complete for Cat-2_S2_L001_R1_001.fastq.gz\n",
      "Started analysis of Cat-2_S2_L001_R2_001.fastq.gz\n",
      "Approx 5% complete for Cat-2_S2_L001_R2_001.fastq.gz\n",
      "Approx 35% complete for Cat-2_S2_L001_R1_001.fastq.gz\n",
      "Approx 10% complete for Cat-2_S2_L001_R2_001.fastq.gz\n",
      "Approx 40% complete for Cat-2_S2_L001_R1_001.fastq.gz\n",
      "Approx 15% complete for Cat-2_S2_L001_R2_001.fastq.gz\n",
      "Approx 45% complete for Cat-2_S2_L001_R1_001.fastq.gz\n",
      "Approx 20% complete for Cat-2_S2_L001_R2_001.fastq.gz\n",
      "Approx 50% complete for Cat-2_S2_L001_R1_001.fastq.gz\n",
      "Approx 25% complete for Cat-2_S2_L001_R2_001.fastq.gz\n",
      "Approx 55% complete for Cat-2_S2_L001_R1_001.fastq.gz\n",
      "Approx 30% complete for Cat-2_S2_L001_R2_001.fastq.gz\n",
      "Approx 60% complete for Cat-2_S2_L001_R1_001.fastq.gz\n",
      "Approx 65% complete for Cat-2_S2_L001_R1_001.fastq.gz\n",
      "Approx 35% complete for Cat-2_S2_L001_R2_001.fastq.gz\n",
      "Approx 70% complete for Cat-2_S2_L001_R1_001.fastq.gz\n",
      "Approx 40% complete for Cat-2_S2_L001_R2_001.fastq.gz\n",
      "Approx 75% complete for Cat-2_S2_L001_R1_001.fastq.gz\n",
      "Approx 45% complete for Cat-2_S2_L001_R2_001.fastq.gz\n",
      "Approx 80% complete for Cat-2_S2_L001_R1_001.fastq.gz\n",
      "Approx 50% complete for Cat-2_S2_L001_R2_001.fastq.gz\n",
      "Approx 85% complete for Cat-2_S2_L001_R1_001.fastq.gz\n",
      "Approx 55% complete for Cat-2_S2_L001_R2_001.fastq.gz\n",
      "Approx 90% complete for Cat-2_S2_L001_R1_001.fastq.gz\n",
      "Approx 60% complete for Cat-2_S2_L001_R2_001.fastq.gz\n",
      "Approx 95% complete for Cat-2_S2_L001_R1_001.fastq.gz\n",
      "Approx 65% complete for Cat-2_S2_L001_R2_001.fastq.gz\n"
     ]
    },
    {
     "name": "stdout",
     "output_type": "stream",
     "text": [
      "Analysis complete for Cat-2_S2_L001_R1_001.fastq.gz\n"
     ]
    },
    {
     "name": "stderr",
     "output_type": "stream",
     "text": [
      "Approx 70% complete for Cat-2_S2_L001_R2_001.fastq.gz\n",
      "Approx 75% complete for Cat-2_S2_L001_R2_001.fastq.gz\n",
      "Approx 80% complete for Cat-2_S2_L001_R2_001.fastq.gz\n",
      "Approx 85% complete for Cat-2_S2_L001_R2_001.fastq.gz\n",
      "Approx 90% complete for Cat-2_S2_L001_R2_001.fastq.gz\n",
      "Approx 95% complete for Cat-2_S2_L001_R2_001.fastq.gz\n"
     ]
    },
    {
     "name": "stdout",
     "output_type": "stream",
     "text": [
      "Analysis complete for Cat-2_S2_L001_R2_001.fastq.gz\n",
      "application/gzip\n",
      "application/gzip\n"
     ]
    },
    {
     "name": "stderr",
     "output_type": "stream",
     "text": [
      "Started analysis of Cat-3_S3_L001_R1_001.fastq.gz\n",
      "Approx 5% complete for Cat-3_S3_L001_R1_001.fastq.gz\n",
      "Approx 10% complete for Cat-3_S3_L001_R1_001.fastq.gz\n",
      "Approx 15% complete for Cat-3_S3_L001_R1_001.fastq.gz\n",
      "Approx 20% complete for Cat-3_S3_L001_R1_001.fastq.gz\n",
      "Approx 25% complete for Cat-3_S3_L001_R1_001.fastq.gz\n",
      "Approx 30% complete for Cat-3_S3_L001_R1_001.fastq.gz\n",
      "Approx 35% complete for Cat-3_S3_L001_R1_001.fastq.gz\n",
      "Approx 40% complete for Cat-3_S3_L001_R1_001.fastq.gz\n",
      "Approx 45% complete for Cat-3_S3_L001_R1_001.fastq.gz\n",
      "Approx 50% complete for Cat-3_S3_L001_R1_001.fastq.gz\n",
      "Started analysis of Cat-3_S3_L001_R2_001.fastq.gz\n",
      "Approx 55% complete for Cat-3_S3_L001_R1_001.fastq.gz\n",
      "Approx 5% complete for Cat-3_S3_L001_R2_001.fastq.gz\n",
      "Approx 60% complete for Cat-3_S3_L001_R1_001.fastq.gz\n",
      "Approx 65% complete for Cat-3_S3_L001_R1_001.fastq.gz\n",
      "Approx 10% complete for Cat-3_S3_L001_R2_001.fastq.gz\n",
      "Approx 70% complete for Cat-3_S3_L001_R1_001.fastq.gz\n",
      "Approx 15% complete for Cat-3_S3_L001_R2_001.fastq.gz\n",
      "Approx 75% complete for Cat-3_S3_L001_R1_001.fastq.gz\n",
      "Approx 20% complete for Cat-3_S3_L001_R2_001.fastq.gz\n",
      "Approx 80% complete for Cat-3_S3_L001_R1_001.fastq.gz\n",
      "Approx 25% complete for Cat-3_S3_L001_R2_001.fastq.gz\n",
      "Approx 85% complete for Cat-3_S3_L001_R1_001.fastq.gz\n",
      "Approx 30% complete for Cat-3_S3_L001_R2_001.fastq.gz\n",
      "Approx 90% complete for Cat-3_S3_L001_R1_001.fastq.gz\n",
      "Approx 35% complete for Cat-3_S3_L001_R2_001.fastq.gz\n",
      "Approx 95% complete for Cat-3_S3_L001_R1_001.fastq.gz\n",
      "Approx 40% complete for Cat-3_S3_L001_R2_001.fastq.gz\n"
     ]
    },
    {
     "name": "stdout",
     "output_type": "stream",
     "text": [
      "Analysis complete for Cat-3_S3_L001_R1_001.fastq.gz\n"
     ]
    },
    {
     "name": "stderr",
     "output_type": "stream",
     "text": [
      "Approx 45% complete for Cat-3_S3_L001_R2_001.fastq.gz\n",
      "Approx 50% complete for Cat-3_S3_L001_R2_001.fastq.gz\n",
      "Approx 55% complete for Cat-3_S3_L001_R2_001.fastq.gz\n",
      "Approx 60% complete for Cat-3_S3_L001_R2_001.fastq.gz\n",
      "Approx 65% complete for Cat-3_S3_L001_R2_001.fastq.gz\n",
      "Approx 70% complete for Cat-3_S3_L001_R2_001.fastq.gz\n",
      "Approx 75% complete for Cat-3_S3_L001_R2_001.fastq.gz\n",
      "Approx 80% complete for Cat-3_S3_L001_R2_001.fastq.gz\n",
      "Approx 85% complete for Cat-3_S3_L001_R2_001.fastq.gz\n",
      "Approx 90% complete for Cat-3_S3_L001_R2_001.fastq.gz\n",
      "Approx 95% complete for Cat-3_S3_L001_R2_001.fastq.gz\n"
     ]
    },
    {
     "name": "stdout",
     "output_type": "stream",
     "text": [
      "Analysis complete for Cat-3_S3_L001_R2_001.fastq.gz\n",
      "application/gzip\n",
      "application/gzip\n"
     ]
    },
    {
     "name": "stderr",
     "output_type": "stream",
     "text": [
      "Started analysis of Cat-4_S4_L001_R1_001.fastq.gz\n",
      "Approx 5% complete for Cat-4_S4_L001_R1_001.fastq.gz\n",
      "Approx 10% complete for Cat-4_S4_L001_R1_001.fastq.gz\n",
      "Approx 15% complete for Cat-4_S4_L001_R1_001.fastq.gz\n",
      "Approx 20% complete for Cat-4_S4_L001_R1_001.fastq.gz\n",
      "Started analysis of Cat-4_S4_L001_R2_001.fastq.gz\n",
      "Approx 25% complete for Cat-4_S4_L001_R1_001.fastq.gz\n",
      "Approx 5% complete for Cat-4_S4_L001_R2_001.fastq.gz\n",
      "Approx 30% complete for Cat-4_S4_L001_R1_001.fastq.gz\n",
      "Approx 35% complete for Cat-4_S4_L001_R1_001.fastq.gz\n",
      "Approx 10% complete for Cat-4_S4_L001_R2_001.fastq.gz\n",
      "Approx 40% complete for Cat-4_S4_L001_R1_001.fastq.gz\n",
      "Approx 15% complete for Cat-4_S4_L001_R2_001.fastq.gz\n",
      "Approx 45% complete for Cat-4_S4_L001_R1_001.fastq.gz\n",
      "Approx 20% complete for Cat-4_S4_L001_R2_001.fastq.gz\n",
      "Approx 50% complete for Cat-4_S4_L001_R1_001.fastq.gz\n",
      "Approx 25% complete for Cat-4_S4_L001_R2_001.fastq.gz\n",
      "Approx 55% complete for Cat-4_S4_L001_R1_001.fastq.gz\n",
      "Approx 30% complete for Cat-4_S4_L001_R2_001.fastq.gz\n",
      "Approx 60% complete for Cat-4_S4_L001_R1_001.fastq.gz\n",
      "Approx 65% complete for Cat-4_S4_L001_R1_001.fastq.gz\n",
      "Approx 35% complete for Cat-4_S4_L001_R2_001.fastq.gz\n",
      "Approx 70% complete for Cat-4_S4_L001_R1_001.fastq.gz\n",
      "Approx 40% complete for Cat-4_S4_L001_R2_001.fastq.gz\n",
      "Approx 75% complete for Cat-4_S4_L001_R1_001.fastq.gz\n",
      "Approx 45% complete for Cat-4_S4_L001_R2_001.fastq.gz\n",
      "Approx 80% complete for Cat-4_S4_L001_R1_001.fastq.gz\n",
      "Approx 50% complete for Cat-4_S4_L001_R2_001.fastq.gz\n",
      "Approx 85% complete for Cat-4_S4_L001_R1_001.fastq.gz\n",
      "Approx 55% complete for Cat-4_S4_L001_R2_001.fastq.gz\n",
      "Approx 90% complete for Cat-4_S4_L001_R1_001.fastq.gz\n",
      "Approx 95% complete for Cat-4_S4_L001_R1_001.fastq.gz\n",
      "Approx 60% complete for Cat-4_S4_L001_R2_001.fastq.gz\n"
     ]
    },
    {
     "name": "stdout",
     "output_type": "stream",
     "text": [
      "Analysis complete for Cat-4_S4_L001_R1_001.fastq.gz\n"
     ]
    },
    {
     "name": "stderr",
     "output_type": "stream",
     "text": [
      "Approx 65% complete for Cat-4_S4_L001_R2_001.fastq.gz\n",
      "Approx 70% complete for Cat-4_S4_L001_R2_001.fastq.gz\n",
      "Approx 75% complete for Cat-4_S4_L001_R2_001.fastq.gz\n",
      "Approx 80% complete for Cat-4_S4_L001_R2_001.fastq.gz\n",
      "Approx 85% complete for Cat-4_S4_L001_R2_001.fastq.gz\n",
      "Approx 90% complete for Cat-4_S4_L001_R2_001.fastq.gz\n",
      "Approx 95% complete for Cat-4_S4_L001_R2_001.fastq.gz\n"
     ]
    },
    {
     "name": "stdout",
     "output_type": "stream",
     "text": [
      "Analysis complete for Cat-4_S4_L001_R2_001.fastq.gz\n"
     ]
    }
   ],
   "source": [
    "%%bash\n",
    "source ~/.bashrc\n",
    "source activate catcher;\n",
    "cd data/\n",
    "for i in 1 2 3 4;\n",
    "do\n",
    "fastqc raw_data/Cat-${i}_S${i}_L001_R1_001.fastq.gz \\\n",
    "raw_data/Cat-${i}_S${i}_L001_R2_001.fastq.gz \\\n",
    "-o ./fastqc_cat --threads 4;\n",
    "done"
   ]
  },
  {
   "cell_type": "code",
   "execution_count": 117,
   "id": "f38d7ce2-8d3f-412b-b358-22a73d1999ab",
   "metadata": {},
   "outputs": [],
   "source": [
    "%%bash\n",
    "source ~/.bashrc\n",
    "source activate catcher;\n",
    "cd data/\n",
    "for i in 1 2 3 4;\n",
    "do\n",
    "for r in 1 2;\n",
    "do\n",
    "blastn -db adapters.fa -query raw_data/Cat-${i}_S${i}_L001_R${r}_001.fasta \\\n",
    "-num_threads 32 -outfmt 6 -out Cat-${i}_S${i}_L001_R${r}_001.xml -perc_identity 98;\n",
    "cut -f1 Cat-${i}_S${i}_L001_R${r}_001.xml > Cat-${i}_R${r}.list;\n",
    "done; done"
   ]
  },
  {
   "cell_type": "code",
   "execution_count": 136,
   "id": "3c2e1d4e-51c9-49f3-9b4f-b9f6114aeb1d",
   "metadata": {},
   "outputs": [],
   "source": [
    "%%bash\n",
    "source ~/.bashrc\n",
    "source activate catcher;\n",
    "cd data/\n",
    "for i in 1 2 3 4;\n",
    "do\n",
    "cat Cat-${i}_R1.list Cat-${i}_R2.list | sort -u > Cat-${i}_merged.list\n",
    "for r in 1 2;\n",
    "do\n",
    "seqtk subseq raw_data/Cat-${i}_S${i}_L001_R${r}_001.fastq.gz \\\n",
    "Cat-${i}_merged.list > \\\n",
    "raw_data/Cat-${i}_S${i}_L001_R${r}_001.WithBarcode.fastq;\n",
    "# gzip -1 -f raw_data/Cat-${i}_S${i}_L001_R${r}_001.WithBarcode.fastq;\n",
    "done; done"
   ]
  },
  {
   "cell_type": "code",
   "execution_count": 181,
   "id": "08226070-72fc-4849-9d9b-c4f21430a509",
   "metadata": {},
   "outputs": [
    {
     "name": "stderr",
     "output_type": "stream",
     "text": [
      "index: invalid option -- 'h'\n"
     ]
    },
    {
     "ename": "CalledProcessError",
     "evalue": "Command 'b'source ~/.bashrc\\nsource activate catcher;\\ncd data/\\nbwa index -h\\n'' returned non-zero exit status 1.",
     "output_type": "error",
     "traceback": [
      "\u001b[0;31m---------------------------------------------------------------------------\u001b[0m",
      "\u001b[0;31mCalledProcessError\u001b[0m                        Traceback (most recent call last)",
      "Cell \u001b[0;32mIn[181], line 1\u001b[0m\n\u001b[0;32m----> 1\u001b[0m \u001b[43mget_ipython\u001b[49m\u001b[43m(\u001b[49m\u001b[43m)\u001b[49m\u001b[38;5;241;43m.\u001b[39;49m\u001b[43mrun_cell_magic\u001b[49m\u001b[43m(\u001b[49m\u001b[38;5;124;43m'\u001b[39;49m\u001b[38;5;124;43mbash\u001b[39;49m\u001b[38;5;124;43m'\u001b[39;49m\u001b[43m,\u001b[49m\u001b[43m \u001b[49m\u001b[38;5;124;43m'\u001b[39;49m\u001b[38;5;124;43m'\u001b[39;49m\u001b[43m,\u001b[49m\u001b[43m \u001b[49m\u001b[38;5;124;43m'\u001b[39;49m\u001b[38;5;124;43msource ~/.bashrc\u001b[39;49m\u001b[38;5;130;43;01m\\n\u001b[39;49;00m\u001b[38;5;124;43msource activate catcher;\u001b[39;49m\u001b[38;5;130;43;01m\\n\u001b[39;49;00m\u001b[38;5;124;43mcd data/\u001b[39;49m\u001b[38;5;130;43;01m\\n\u001b[39;49;00m\u001b[38;5;124;43mbwa index -h\u001b[39;49m\u001b[38;5;130;43;01m\\n\u001b[39;49;00m\u001b[38;5;124;43m'\u001b[39;49m\u001b[43m)\u001b[49m\n",
      "File \u001b[0;32m~/.conda/envs/catcher/lib/python3.10/site-packages/IPython/core/interactiveshell.py:2541\u001b[0m, in \u001b[0;36mInteractiveShell.run_cell_magic\u001b[0;34m(self, magic_name, line, cell)\u001b[0m\n\u001b[1;32m   2539\u001b[0m \u001b[38;5;28;01mwith\u001b[39;00m \u001b[38;5;28mself\u001b[39m\u001b[38;5;241m.\u001b[39mbuiltin_trap:\n\u001b[1;32m   2540\u001b[0m     args \u001b[38;5;241m=\u001b[39m (magic_arg_s, cell)\n\u001b[0;32m-> 2541\u001b[0m     result \u001b[38;5;241m=\u001b[39m \u001b[43mfn\u001b[49m\u001b[43m(\u001b[49m\u001b[38;5;241;43m*\u001b[39;49m\u001b[43margs\u001b[49m\u001b[43m,\u001b[49m\u001b[43m \u001b[49m\u001b[38;5;241;43m*\u001b[39;49m\u001b[38;5;241;43m*\u001b[39;49m\u001b[43mkwargs\u001b[49m\u001b[43m)\u001b[49m\n\u001b[1;32m   2543\u001b[0m \u001b[38;5;66;03m# The code below prevents the output from being displayed\u001b[39;00m\n\u001b[1;32m   2544\u001b[0m \u001b[38;5;66;03m# when using magics with decorator @output_can_be_silenced\u001b[39;00m\n\u001b[1;32m   2545\u001b[0m \u001b[38;5;66;03m# when the last Python token in the expression is a ';'.\u001b[39;00m\n\u001b[1;32m   2546\u001b[0m \u001b[38;5;28;01mif\u001b[39;00m \u001b[38;5;28mgetattr\u001b[39m(fn, magic\u001b[38;5;241m.\u001b[39mMAGIC_OUTPUT_CAN_BE_SILENCED, \u001b[38;5;28;01mFalse\u001b[39;00m):\n",
      "File \u001b[0;32m~/.conda/envs/catcher/lib/python3.10/site-packages/IPython/core/magics/script.py:155\u001b[0m, in \u001b[0;36mScriptMagics._make_script_magic.<locals>.named_script_magic\u001b[0;34m(line, cell)\u001b[0m\n\u001b[1;32m    153\u001b[0m \u001b[38;5;28;01melse\u001b[39;00m:\n\u001b[1;32m    154\u001b[0m     line \u001b[38;5;241m=\u001b[39m script\n\u001b[0;32m--> 155\u001b[0m \u001b[38;5;28;01mreturn\u001b[39;00m \u001b[38;5;28;43mself\u001b[39;49m\u001b[38;5;241;43m.\u001b[39;49m\u001b[43mshebang\u001b[49m\u001b[43m(\u001b[49m\u001b[43mline\u001b[49m\u001b[43m,\u001b[49m\u001b[43m \u001b[49m\u001b[43mcell\u001b[49m\u001b[43m)\u001b[49m\n",
      "File \u001b[0;32m~/.conda/envs/catcher/lib/python3.10/site-packages/IPython/core/magics/script.py:315\u001b[0m, in \u001b[0;36mScriptMagics.shebang\u001b[0;34m(self, line, cell)\u001b[0m\n\u001b[1;32m    310\u001b[0m \u001b[38;5;28;01mif\u001b[39;00m args\u001b[38;5;241m.\u001b[39mraise_error \u001b[38;5;129;01mand\u001b[39;00m p\u001b[38;5;241m.\u001b[39mreturncode \u001b[38;5;241m!=\u001b[39m \u001b[38;5;241m0\u001b[39m:\n\u001b[1;32m    311\u001b[0m     \u001b[38;5;66;03m# If we get here and p.returncode is still None, we must have\u001b[39;00m\n\u001b[1;32m    312\u001b[0m     \u001b[38;5;66;03m# killed it but not yet seen its return code. We don't wait for it,\u001b[39;00m\n\u001b[1;32m    313\u001b[0m     \u001b[38;5;66;03m# in case it's stuck in uninterruptible sleep. -9 = SIGKILL\u001b[39;00m\n\u001b[1;32m    314\u001b[0m     rc \u001b[38;5;241m=\u001b[39m p\u001b[38;5;241m.\u001b[39mreturncode \u001b[38;5;129;01mor\u001b[39;00m \u001b[38;5;241m-\u001b[39m\u001b[38;5;241m9\u001b[39m\n\u001b[0;32m--> 315\u001b[0m     \u001b[38;5;28;01mraise\u001b[39;00m CalledProcessError(rc, cell)\n",
      "\u001b[0;31mCalledProcessError\u001b[0m: Command 'b'source ~/.bashrc\\nsource activate catcher;\\ncd data/\\nbwa index -h\\n'' returned non-zero exit status 1."
     ]
    }
   ],
   "source": [
    "%%bash\n",
    "source ~/.bashrc\n",
    "source activate catcher;\n",
    "cd data/\n",
    "bwa index -h"
   ]
  },
  {
   "cell_type": "code",
   "execution_count": 142,
   "id": "7ae16bc2-4c39-4d80-b2ed-e2015c06e1bb",
   "metadata": {},
   "outputs": [
    {
     "name": "stderr",
     "output_type": "stream",
     "text": [
      "Path to Cutadapt set as: 'cutadapt' (default)\n",
      "Cutadapt seems to be working fine (tested command 'cutadapt --version')\n",
      "Cutadapt version: 4.8\n",
      "Could not detect version of Python used by Cutadapt from the first line of Cutadapt (but found this: >>>#!/bin/sh<<<)\n",
      "Letting the (modified) Cutadapt deal with the Python version instead\n"
     ]
    },
    {
     "name": "stdout",
     "output_type": "stream",
     "text": [
      "pigz 2.8\n"
     ]
    },
    {
     "name": "stderr",
     "output_type": "stream",
     "text": [
      "Parallel gzip (pigz) detected. Proceeding with multicore (de)compression using 8 cores\n",
      "\n"
     ]
    },
    {
     "name": "stdout",
     "output_type": "stream",
     "text": [
      "igzip command line interface 2.31.0\n"
     ]
    },
    {
     "name": "stderr",
     "output_type": "stream",
     "text": [
      "igzip detected. Using igzip for decompressing\n",
      "\n",
      "No quality encoding type selected. Assuming that the data provided uses Sanger encoded Phred scores (default)\n",
      "\n",
      "Adapter sequence must contain DNA characters only (A,C,T,G or N)!\n",
      "Path to Cutadapt set as: 'cutadapt' (default)\n",
      "Cutadapt seems to be working fine (tested command 'cutadapt --version')\n",
      "Cutadapt version: 4.8\n",
      "Could not detect version of Python used by Cutadapt from the first line of Cutadapt (but found this: >>>#!/bin/sh<<<)\n",
      "Letting the (modified) Cutadapt deal with the Python version instead\n"
     ]
    },
    {
     "name": "stdout",
     "output_type": "stream",
     "text": [
      "pigz 2.8\n"
     ]
    },
    {
     "name": "stderr",
     "output_type": "stream",
     "text": [
      "Parallel gzip (pigz) detected. Proceeding with multicore (de)compression using 8 cores\n",
      "\n"
     ]
    },
    {
     "name": "stdout",
     "output_type": "stream",
     "text": [
      "igzip command line interface 2.31.0\n"
     ]
    },
    {
     "name": "stderr",
     "output_type": "stream",
     "text": [
      "igzip detected. Using igzip for decompressing\n",
      "\n",
      "No quality encoding type selected. Assuming that the data provided uses Sanger encoded Phred scores (default)\n",
      "\n",
      "Adapter sequence must contain DNA characters only (A,C,T,G or N)!\n",
      "Path to Cutadapt set as: 'cutadapt' (default)\n",
      "Cutadapt seems to be working fine (tested command 'cutadapt --version')\n",
      "Cutadapt version: 4.8\n",
      "Could not detect version of Python used by Cutadapt from the first line of Cutadapt (but found this: >>>#!/bin/sh<<<)\n",
      "Letting the (modified) Cutadapt deal with the Python version instead\n"
     ]
    },
    {
     "name": "stdout",
     "output_type": "stream",
     "text": [
      "pigz 2.8\n"
     ]
    },
    {
     "name": "stderr",
     "output_type": "stream",
     "text": [
      "Parallel gzip (pigz) detected. Proceeding with multicore (de)compression using 8 cores\n",
      "\n"
     ]
    },
    {
     "name": "stdout",
     "output_type": "stream",
     "text": [
      "igzip command line interface 2.31.0\n"
     ]
    },
    {
     "name": "stderr",
     "output_type": "stream",
     "text": [
      "igzip detected. Using igzip for decompressing\n",
      "\n",
      "No quality encoding type selected. Assuming that the data provided uses Sanger encoded Phred scores (default)\n",
      "\n",
      "Adapter sequence must contain DNA characters only (A,C,T,G or N)!\n",
      "Path to Cutadapt set as: 'cutadapt' (default)\n",
      "Cutadapt seems to be working fine (tested command 'cutadapt --version')\n",
      "Cutadapt version: 4.8\n",
      "Could not detect version of Python used by Cutadapt from the first line of Cutadapt (but found this: >>>#!/bin/sh<<<)\n",
      "Letting the (modified) Cutadapt deal with the Python version instead\n"
     ]
    },
    {
     "name": "stdout",
     "output_type": "stream",
     "text": [
      "pigz 2.8\n"
     ]
    },
    {
     "name": "stderr",
     "output_type": "stream",
     "text": [
      "Parallel gzip (pigz) detected. Proceeding with multicore (de)compression using 8 cores\n",
      "\n"
     ]
    },
    {
     "name": "stdout",
     "output_type": "stream",
     "text": [
      "igzip command line interface 2.31.0\n"
     ]
    },
    {
     "name": "stderr",
     "output_type": "stream",
     "text": [
      "igzip detected. Using igzip for decompressing\n",
      "\n",
      "No quality encoding type selected. Assuming that the data provided uses Sanger encoded Phred scores (default)\n",
      "\n",
      "Adapter sequence must contain DNA characters only (A,C,T,G or N)!\n"
     ]
    },
    {
     "ename": "CalledProcessError",
     "evalue": "Command 'b'source ~/.bashrc\\nsource activate catcher;\\ncd data/\\nfor i in 1 2 3 4;\\ndo\\ntrim_galore raw_data/Cat-${i}_S${i}_L001_R$1_001.WithBarcode.fastq.gz raw_data/Cat-${i}_S${i}_L001_R2_001.WithBarcode.fastq.gz \\\\\\n--fastqc --cores 8 -a adapters.fa --length 0 --paired;\\ndone\\n'' returned non-zero exit status 25.",
     "output_type": "error",
     "traceback": [
      "\u001b[0;31m---------------------------------------------------------------------------\u001b[0m",
      "\u001b[0;31mCalledProcessError\u001b[0m                        Traceback (most recent call last)",
      "Cell \u001b[0;32mIn[142], line 1\u001b[0m\n\u001b[0;32m----> 1\u001b[0m \u001b[43mget_ipython\u001b[49m\u001b[43m(\u001b[49m\u001b[43m)\u001b[49m\u001b[38;5;241;43m.\u001b[39;49m\u001b[43mrun_cell_magic\u001b[49m\u001b[43m(\u001b[49m\u001b[38;5;124;43m'\u001b[39;49m\u001b[38;5;124;43mbash\u001b[39;49m\u001b[38;5;124;43m'\u001b[39;49m\u001b[43m,\u001b[49m\u001b[43m \u001b[49m\u001b[38;5;124;43m'\u001b[39;49m\u001b[38;5;124;43m'\u001b[39;49m\u001b[43m,\u001b[49m\u001b[43m \u001b[49m\u001b[38;5;124;43m'\u001b[39;49m\u001b[38;5;124;43msource ~/.bashrc\u001b[39;49m\u001b[38;5;130;43;01m\\n\u001b[39;49;00m\u001b[38;5;124;43msource activate catcher;\u001b[39;49m\u001b[38;5;130;43;01m\\n\u001b[39;49;00m\u001b[38;5;124;43mcd data/\u001b[39;49m\u001b[38;5;130;43;01m\\n\u001b[39;49;00m\u001b[38;5;124;43mfor i in 1 2 3 4;\u001b[39;49m\u001b[38;5;130;43;01m\\n\u001b[39;49;00m\u001b[38;5;124;43mdo\u001b[39;49m\u001b[38;5;130;43;01m\\n\u001b[39;49;00m\u001b[38;5;124;43mtrim_galore raw_data/Cat-$\u001b[39;49m\u001b[38;5;132;43;01m{i}\u001b[39;49;00m\u001b[38;5;124;43m_S$\u001b[39;49m\u001b[38;5;132;43;01m{i}\u001b[39;49;00m\u001b[38;5;124;43m_L001_R$1_001.WithBarcode.fastq.gz raw_data/Cat-$\u001b[39;49m\u001b[38;5;132;43;01m{i}\u001b[39;49;00m\u001b[38;5;124;43m_S$\u001b[39;49m\u001b[38;5;132;43;01m{i}\u001b[39;49;00m\u001b[38;5;124;43m_L001_R2_001.WithBarcode.fastq.gz \u001b[39;49m\u001b[38;5;130;43;01m\\\\\u001b[39;49;00m\u001b[38;5;130;43;01m\\n\u001b[39;49;00m\u001b[38;5;124;43m--fastqc --cores 8 -a adapters.fa --length 0 --paired;\u001b[39;49m\u001b[38;5;130;43;01m\\n\u001b[39;49;00m\u001b[38;5;124;43mdone\u001b[39;49m\u001b[38;5;130;43;01m\\n\u001b[39;49;00m\u001b[38;5;124;43m'\u001b[39;49m\u001b[43m)\u001b[49m\n",
      "File \u001b[0;32m~/.conda/envs/catcher/lib/python3.10/site-packages/IPython/core/interactiveshell.py:2541\u001b[0m, in \u001b[0;36mInteractiveShell.run_cell_magic\u001b[0;34m(self, magic_name, line, cell)\u001b[0m\n\u001b[1;32m   2539\u001b[0m \u001b[38;5;28;01mwith\u001b[39;00m \u001b[38;5;28mself\u001b[39m\u001b[38;5;241m.\u001b[39mbuiltin_trap:\n\u001b[1;32m   2540\u001b[0m     args \u001b[38;5;241m=\u001b[39m (magic_arg_s, cell)\n\u001b[0;32m-> 2541\u001b[0m     result \u001b[38;5;241m=\u001b[39m \u001b[43mfn\u001b[49m\u001b[43m(\u001b[49m\u001b[38;5;241;43m*\u001b[39;49m\u001b[43margs\u001b[49m\u001b[43m,\u001b[49m\u001b[43m \u001b[49m\u001b[38;5;241;43m*\u001b[39;49m\u001b[38;5;241;43m*\u001b[39;49m\u001b[43mkwargs\u001b[49m\u001b[43m)\u001b[49m\n\u001b[1;32m   2543\u001b[0m \u001b[38;5;66;03m# The code below prevents the output from being displayed\u001b[39;00m\n\u001b[1;32m   2544\u001b[0m \u001b[38;5;66;03m# when using magics with decorator @output_can_be_silenced\u001b[39;00m\n\u001b[1;32m   2545\u001b[0m \u001b[38;5;66;03m# when the last Python token in the expression is a ';'.\u001b[39;00m\n\u001b[1;32m   2546\u001b[0m \u001b[38;5;28;01mif\u001b[39;00m \u001b[38;5;28mgetattr\u001b[39m(fn, magic\u001b[38;5;241m.\u001b[39mMAGIC_OUTPUT_CAN_BE_SILENCED, \u001b[38;5;28;01mFalse\u001b[39;00m):\n",
      "File \u001b[0;32m~/.conda/envs/catcher/lib/python3.10/site-packages/IPython/core/magics/script.py:155\u001b[0m, in \u001b[0;36mScriptMagics._make_script_magic.<locals>.named_script_magic\u001b[0;34m(line, cell)\u001b[0m\n\u001b[1;32m    153\u001b[0m \u001b[38;5;28;01melse\u001b[39;00m:\n\u001b[1;32m    154\u001b[0m     line \u001b[38;5;241m=\u001b[39m script\n\u001b[0;32m--> 155\u001b[0m \u001b[38;5;28;01mreturn\u001b[39;00m \u001b[38;5;28;43mself\u001b[39;49m\u001b[38;5;241;43m.\u001b[39;49m\u001b[43mshebang\u001b[49m\u001b[43m(\u001b[49m\u001b[43mline\u001b[49m\u001b[43m,\u001b[49m\u001b[43m \u001b[49m\u001b[43mcell\u001b[49m\u001b[43m)\u001b[49m\n",
      "File \u001b[0;32m~/.conda/envs/catcher/lib/python3.10/site-packages/IPython/core/magics/script.py:315\u001b[0m, in \u001b[0;36mScriptMagics.shebang\u001b[0;34m(self, line, cell)\u001b[0m\n\u001b[1;32m    310\u001b[0m \u001b[38;5;28;01mif\u001b[39;00m args\u001b[38;5;241m.\u001b[39mraise_error \u001b[38;5;129;01mand\u001b[39;00m p\u001b[38;5;241m.\u001b[39mreturncode \u001b[38;5;241m!=\u001b[39m \u001b[38;5;241m0\u001b[39m:\n\u001b[1;32m    311\u001b[0m     \u001b[38;5;66;03m# If we get here and p.returncode is still None, we must have\u001b[39;00m\n\u001b[1;32m    312\u001b[0m     \u001b[38;5;66;03m# killed it but not yet seen its return code. We don't wait for it,\u001b[39;00m\n\u001b[1;32m    313\u001b[0m     \u001b[38;5;66;03m# in case it's stuck in uninterruptible sleep. -9 = SIGKILL\u001b[39;00m\n\u001b[1;32m    314\u001b[0m     rc \u001b[38;5;241m=\u001b[39m p\u001b[38;5;241m.\u001b[39mreturncode \u001b[38;5;129;01mor\u001b[39;00m \u001b[38;5;241m-\u001b[39m\u001b[38;5;241m9\u001b[39m\n\u001b[0;32m--> 315\u001b[0m     \u001b[38;5;28;01mraise\u001b[39;00m CalledProcessError(rc, cell)\n",
      "\u001b[0;31mCalledProcessError\u001b[0m: Command 'b'source ~/.bashrc\\nsource activate catcher;\\ncd data/\\nfor i in 1 2 3 4;\\ndo\\ntrim_galore raw_data/Cat-${i}_S${i}_L001_R$1_001.WithBarcode.fastq.gz raw_data/Cat-${i}_S${i}_L001_R2_001.WithBarcode.fastq.gz \\\\\\n--fastqc --cores 8 -a adapters.fa --length 0 --paired;\\ndone\\n'' returned non-zero exit status 25."
     ]
    }
   ],
   "source": [
    "%%bash\n",
    "source ~/.bashrc\n",
    "source activate catcher;\n",
    "cd data/\n",
    "for i in 1 2 3 4;\n",
    "do\n",
    "trim_galore raw_data/Cat-${i}_S${i}_L001_R$1_001.WithBarcode.fastq.gz \\\n",
    "raw_data/Cat-${i}_S${i}_L001_R2_001.WithBarcode.fastq.gz \\\n",
    "--fastqc --cores 8 -a adapters.fa --length 0 --paired;\n",
    "done"
   ]
  },
  {
   "cell_type": "code",
   "execution_count": 203,
   "id": "07b821df-bd64-41ce-ac82-3a032d8d333b",
   "metadata": {},
   "outputs": [
    {
     "name": "stderr",
     "output_type": "stream",
     "text": [
      "Multicore support not enabled. Proceeding with single-core trimming.\n",
      "Path to Cutadapt set as: 'cutadapt' (default)\n",
      "Cutadapt seems to be working fine (tested command 'cutadapt --version')\n",
      "Cutadapt version: 4.8\n",
      "single-core operation.\n"
     ]
    },
    {
     "name": "stdout",
     "output_type": "stream",
     "text": [
      "igzip command line interface 2.31.0\n"
     ]
    },
    {
     "name": "stderr",
     "output_type": "stream",
     "text": [
      "igzip detected. Using igzip for decompressing\n",
      "\n",
      "No quality encoding type selected. Assuming that the data provided uses Sanger encoded Phred scores (default)\n",
      "\n",
      "\n",
      "Please provide the filename(s) of one or more FastQ file(s) to launch Trim Galore!\n",
      "\n",
      "USAGE:  'trim_galore [options] <filename(s)>'    or    'trim_galore --help'    for more options\n",
      "\n"
     ]
    },
    {
     "name": "stdout",
     "output_type": "stream",
     "text": [
      "This is cutadapt 4.8 with Python 3.10.8\n",
      "Command line parameters: -g ACTAGTTCTGGGAGATTTTCTACCACTAGATGGTGCCAATTGCAAAGCCAATACT -G GGCGCGCCTAAGCCGCACCTAGATACTCCACCAGGGGGCAGGGTTGAGGCAGCCAATACT --cores 32 --errors 0.05 -o raw_data/Cat-1_S1_L001_R1_001.trimmed.fastq.gz -p raw_data/Cat-1_S1_L001_R2_001.trimmed.fastq.gz raw_data/Cat-1_S1_L001_R1_001.fastq.gz raw_data/Cat-1_S1_L001_R2_001.fastq.gz\n",
      "Processing paired-end reads on 32 cores ...\n",
      "Finished in 0.673 s (28.154 µs/read; 2.13 M reads/minute).\n",
      "\n",
      "=== Summary ===\n",
      "\n",
      "Total read pairs processed:             23,894\n",
      "  Read 1 with adapter:                  23,879 (99.9%)\n",
      "  Read 2 with adapter:                  23,182 (97.0%)\n",
      "Pairs written (passing filters):        23,894 (100.0%)\n",
      "\n",
      "Total basepairs processed:     4,826,588 bp\n",
      "  Read 1:     2,413,294 bp\n",
      "  Read 2:     2,413,294 bp\n",
      "Total written (filtered):      2,125,477 bp (44.0%)\n",
      "  Read 1:     1,103,018 bp\n",
      "  Read 2:     1,022,459 bp\n",
      "\n",
      "=== First read: Adapter 1 ===\n",
      "\n",
      "Sequence: ACTAGTTCTGGGAGATTTTCTACCACTAGATGGTGCCAATTGCAAAGCCAATACT; Type: regular 5'; Length: 55; Trimmed: 23879 times\n",
      "\n",
      "Minimum overlap: 3\n",
      "No. of allowed errors:\n",
      "1-19 bp: 0; 20-39 bp: 1; 40-55 bp: 2\n",
      "\n",
      "Overview of removed sequences\n",
      "length\tcount\texpect\tmax.err\terror counts\n",
      "3\t59\t373.3\t0\t59\n",
      "54\t2\t0.0\t2\t0 2\n",
      "55\t23817\t0.0\t2\t22883 798 136\n",
      "56\t1\t0.0\t2\t0 0 1\n",
      "\n",
      "\n",
      "=== Second read: Adapter 2 ===\n",
      "\n",
      "Sequence: GGCGCGCCTAAGCCGCACCTAGATACTCCACCAGGGGGCAGGGTTGAGGCAGCCAATACT; Type: regular 5'; Length: 60; Trimmed: 23182 times\n",
      "\n",
      "Minimum overlap: 3\n",
      "No. of allowed errors:\n",
      "1-19 bp: 0; 20-39 bp: 1; 40-59 bp: 2; 60 bp: 3\n",
      "\n",
      "Overview of removed sequences\n",
      "length\tcount\texpect\tmax.err\terror counts\n",
      "4\t1\t93.3\t0\t1\n",
      "59\t30\t0.0\t2\t0 28 2\n",
      "60\t23150\t0.0\t3\t19674 2478 668 330\n",
      "61\t1\t0.0\t3\t0 1\n"
     ]
    },
    {
     "name": "stderr",
     "output_type": "stream",
     "text": [
      "Multicore support not enabled. Proceeding with single-core trimming.\n",
      "Path to Cutadapt set as: 'cutadapt' (default)\n",
      "Cutadapt seems to be working fine (tested command 'cutadapt --version')\n",
      "Cutadapt version: 4.8\n",
      "single-core operation.\n"
     ]
    },
    {
     "name": "stdout",
     "output_type": "stream",
     "text": [
      "igzip command line interface 2.31.0\n"
     ]
    },
    {
     "name": "stderr",
     "output_type": "stream",
     "text": [
      "igzip detected. Using igzip for decompressing\n",
      "\n",
      "No quality encoding type selected. Assuming that the data provided uses Sanger encoded Phred scores (default)\n",
      "\n",
      "\n",
      "Please provide the filename(s) of one or more FastQ file(s) to launch Trim Galore!\n",
      "\n",
      "USAGE:  'trim_galore [options] <filename(s)>'    or    'trim_galore --help'    for more options\n",
      "\n"
     ]
    },
    {
     "name": "stdout",
     "output_type": "stream",
     "text": [
      "This is cutadapt 4.8 with Python 3.10.8\n",
      "Command line parameters: -g ACTAGTTCTGGGAGATTTTCTACCACTAGATGGTGCCAATTGCAAAGCCAATACT -G GGCGCGCCTAAGCCGCACCTAGATACTCCACCAGGGGGCAGGGTTGAGGCAGCCAATACT --cores 32 --errors 0.05 -o raw_data/Cat-2_S2_L001_R1_001.trimmed.fastq.gz -p raw_data/Cat-2_S2_L001_R2_001.trimmed.fastq.gz raw_data/Cat-2_S2_L001_R1_001.fastq.gz raw_data/Cat-2_S2_L001_R2_001.fastq.gz\n",
      "Processing paired-end reads on 32 cores ...\n",
      "Finished in 1.128 s (8.521 µs/read; 7.04 M reads/minute).\n",
      "\n",
      "=== Summary ===\n",
      "\n",
      "Total read pairs processed:            132,375\n",
      "  Read 1 with adapter:                 132,167 (99.8%)\n",
      "  Read 2 with adapter:                 126,189 (95.3%)\n",
      "Pairs written (passing filters):       132,375 (100.0%)\n",
      "\n",
      "Total basepairs processed:    26,739,750 bp\n",
      "  Read 1:    13,369,875 bp\n",
      "  Read 2:    13,369,875 bp\n",
      "Total written (filtered):     11,931,551 bp (44.6%)\n",
      "  Read 1:     6,132,596 bp\n",
      "  Read 2:     5,798,955 bp\n",
      "\n",
      "=== First read: Adapter 1 ===\n",
      "\n",
      "Sequence: ACTAGTTCTGGGAGATTTTCTACCACTAGATGGTGCCAATTGCAAAGCCAATACT; Type: regular 5'; Length: 55; Trimmed: 132167 times\n",
      "\n",
      "Minimum overlap: 3\n",
      "No. of allowed errors:\n",
      "1-19 bp: 0; 20-39 bp: 1; 40-55 bp: 2\n",
      "\n",
      "Overview of removed sequences\n",
      "length\tcount\texpect\tmax.err\terror counts\n",
      "3\t613\t2068.4\t0\t613\n",
      "52\t1\t0.0\t2\t0 1\n",
      "53\t2\t0.0\t2\t0 0 2\n",
      "54\t25\t0.0\t2\t0 21 4\n",
      "55\t131524\t0.0\t2\t125032 5417 1075\n",
      "56\t2\t0.0\t2\t0 2\n",
      "\n",
      "\n",
      "=== Second read: Adapter 2 ===\n",
      "\n",
      "Sequence: GGCGCGCCTAAGCCGCACCTAGATACTCCACCAGGGGGCAGGGTTGAGGCAGCCAATACT; Type: regular 5'; Length: 60; Trimmed: 126189 times\n",
      "\n",
      "Minimum overlap: 3\n",
      "No. of allowed errors:\n",
      "1-19 bp: 0; 20-39 bp: 1; 40-59 bp: 2; 60 bp: 3\n",
      "\n",
      "Overview of removed sequences\n",
      "length\tcount\texpect\tmax.err\terror counts\n",
      "3\t1\t2068.4\t0\t1\n",
      "4\t4\t517.1\t0\t4\n",
      "58\t3\t0.0\t2\t0 0 2 1\n",
      "59\t156\t0.0\t2\t0 131 13 12\n",
      "60\t126002\t0.0\t3\t107497 12266 4020 2219\n",
      "61\t23\t0.0\t3\t0 18 4 1\n"
     ]
    },
    {
     "name": "stderr",
     "output_type": "stream",
     "text": [
      "Multicore support not enabled. Proceeding with single-core trimming.\n",
      "Path to Cutadapt set as: 'cutadapt' (default)\n",
      "Cutadapt seems to be working fine (tested command 'cutadapt --version')\n",
      "Cutadapt version: 4.8\n",
      "single-core operation.\n"
     ]
    },
    {
     "name": "stdout",
     "output_type": "stream",
     "text": [
      "igzip command line interface 2.31.0\n"
     ]
    },
    {
     "name": "stderr",
     "output_type": "stream",
     "text": [
      "igzip detected. Using igzip for decompressing\n",
      "\n",
      "No quality encoding type selected. Assuming that the data provided uses Sanger encoded Phred scores (default)\n",
      "\n",
      "\n",
      "Please provide the filename(s) of one or more FastQ file(s) to launch Trim Galore!\n",
      "\n",
      "USAGE:  'trim_galore [options] <filename(s)>'    or    'trim_galore --help'    for more options\n",
      "\n"
     ]
    },
    {
     "name": "stdout",
     "output_type": "stream",
     "text": [
      "This is cutadapt 4.8 with Python 3.10.8\n",
      "Command line parameters: -g ACTAGTTCTGGGAGATTTTCTACCACTAGATGGTGCCAATTGCAAAGCCAATACT -G GGCGCGCCTAAGCCGCACCTAGATACTCCACCAGGGGGCAGGGTTGAGGCAGCCAATACT --cores 32 --errors 0.05 -o raw_data/Cat-3_S3_L001_R1_001.trimmed.fastq.gz -p raw_data/Cat-3_S3_L001_R2_001.trimmed.fastq.gz raw_data/Cat-3_S3_L001_R1_001.fastq.gz raw_data/Cat-3_S3_L001_R2_001.fastq.gz\n",
      "Processing paired-end reads on 32 cores ...\n",
      "Finished in 0.896 s (13.658 µs/read; 4.39 M reads/minute).\n",
      "\n",
      "=== Summary ===\n",
      "\n",
      "Total read pairs processed:             65,608\n",
      "  Read 1 with adapter:                  65,512 (99.9%)\n",
      "  Read 2 with adapter:                  62,411 (95.1%)\n",
      "Pairs written (passing filters):        65,608 (100.0%)\n",
      "\n",
      "Total basepairs processed:    13,252,816 bp\n",
      "  Read 1:     6,626,408 bp\n",
      "  Read 2:     6,626,408 bp\n",
      "Total written (filtered):      5,924,102 bp (44.7%)\n",
      "  Read 1:     3,041,868 bp\n",
      "  Read 2:     2,882,234 bp\n",
      "\n",
      "=== First read: Adapter 1 ===\n",
      "\n",
      "Sequence: ACTAGTTCTGGGAGATTTTCTACCACTAGATGGTGCCAATTGCAAAGCCAATACT; Type: regular 5'; Length: 55; Trimmed: 65512 times\n",
      "\n",
      "Minimum overlap: 3\n",
      "No. of allowed errors:\n",
      "1-19 bp: 0; 20-39 bp: 1; 40-55 bp: 2\n",
      "\n",
      "Overview of removed sequences\n",
      "length\tcount\texpect\tmax.err\terror counts\n",
      "3\t357\t1025.1\t0\t357\n",
      "6\t1\t16.0\t0\t1\n",
      "54\t9\t0.0\t2\t0 7 2\n",
      "55\t65143\t0.0\t2\t61213 3272 658\n",
      "56\t2\t0.0\t2\t0 2\n",
      "\n",
      "\n",
      "=== Second read: Adapter 2 ===\n",
      "\n",
      "Sequence: GGCGCGCCTAAGCCGCACCTAGATACTCCACCAGGGGGCAGGGTTGAGGCAGCCAATACT; Type: regular 5'; Length: 60; Trimmed: 62411 times\n",
      "\n",
      "Minimum overlap: 3\n",
      "No. of allowed errors:\n",
      "1-19 bp: 0; 20-39 bp: 1; 40-59 bp: 2; 60 bp: 3\n",
      "\n",
      "Overview of removed sequences\n",
      "length\tcount\texpect\tmax.err\terror counts\n",
      "3\t1\t1025.1\t0\t1\n",
      "4\t6\t256.3\t0\t6\n",
      "58\t2\t0.0\t2\t0 0 0 2\n",
      "59\t106\t0.0\t2\t1 87 12 6\n",
      "60\t62279\t0.0\t3\t52295 6536 2263 1185\n",
      "61\t17\t0.0\t3\t0 15 1 1\n"
     ]
    },
    {
     "name": "stderr",
     "output_type": "stream",
     "text": [
      "Multicore support not enabled. Proceeding with single-core trimming.\n",
      "Path to Cutadapt set as: 'cutadapt' (default)\n",
      "Cutadapt seems to be working fine (tested command 'cutadapt --version')\n",
      "Cutadapt version: 4.8\n",
      "single-core operation.\n"
     ]
    },
    {
     "name": "stdout",
     "output_type": "stream",
     "text": [
      "igzip command line interface 2.31.0\n"
     ]
    },
    {
     "name": "stderr",
     "output_type": "stream",
     "text": [
      "igzip detected. Using igzip for decompressing\n",
      "\n",
      "No quality encoding type selected. Assuming that the data provided uses Sanger encoded Phred scores (default)\n",
      "\n",
      "\n",
      "Please provide the filename(s) of one or more FastQ file(s) to launch Trim Galore!\n",
      "\n",
      "USAGE:  'trim_galore [options] <filename(s)>'    or    'trim_galore --help'    for more options\n",
      "\n"
     ]
    },
    {
     "name": "stdout",
     "output_type": "stream",
     "text": [
      "This is cutadapt 4.8 with Python 3.10.8\n",
      "Command line parameters: -g ACTAGTTCTGGGAGATTTTCTACCACTAGATGGTGCCAATTGCAAAGCCAATACT -G GGCGCGCCTAAGCCGCACCTAGATACTCCACCAGGGGGCAGGGTTGAGGCAGCCAATACT --cores 32 --errors 0.05 -o raw_data/Cat-4_S4_L001_R1_001.trimmed.fastq.gz -p raw_data/Cat-4_S4_L001_R2_001.trimmed.fastq.gz raw_data/Cat-4_S4_L001_R1_001.fastq.gz raw_data/Cat-4_S4_L001_R2_001.fastq.gz\n",
      "Processing paired-end reads on 32 cores ...\n",
      "Finished in 1.472 s (5.595 µs/read; 10.72 M reads/minute).\n",
      "\n",
      "=== Summary ===\n",
      "\n",
      "Total read pairs processed:            263,098\n",
      "  Read 1 with adapter:                 262,913 (99.9%)\n",
      "  Read 2 with adapter:                 254,861 (96.9%)\n",
      "Pairs written (passing filters):       263,098 (100.0%)\n",
      "\n",
      "Total basepairs processed:    53,145,796 bp\n",
      "  Read 1:    26,572,898 bp\n",
      "  Read 2:    26,572,898 bp\n",
      "Total written (filtered):     23,437,686 bp (44.1%)\n",
      "  Read 1:    12,154,368 bp\n",
      "  Read 2:    11,283,318 bp\n",
      "\n",
      "=== First read: Adapter 1 ===\n",
      "\n",
      "Sequence: ACTAGTTCTGGGAGATTTTCTACCACTAGATGGTGCCAATTGCAAAGCCAATACT; Type: regular 5'; Length: 55; Trimmed: 262913 times\n",
      "\n",
      "Minimum overlap: 3\n",
      "No. of allowed errors:\n",
      "1-19 bp: 0; 20-39 bp: 1; 40-55 bp: 2\n",
      "\n",
      "Overview of removed sequences\n",
      "length\tcount\texpect\tmax.err\terror counts\n",
      "3\t800\t4110.9\t0\t800\n",
      "6\t1\t64.2\t0\t1\n",
      "53\t3\t0.0\t2\t0 0 3\n",
      "54\t34\t0.0\t2\t6 25 3\n",
      "55\t262071\t0.0\t2\t250968 9538 1565\n",
      "56\t4\t0.0\t2\t0 3 1\n",
      "\n",
      "\n",
      "=== Second read: Adapter 2 ===\n",
      "\n",
      "Sequence: GGCGCGCCTAAGCCGCACCTAGATACTCCACCAGGGGGCAGGGTTGAGGCAGCCAATACT; Type: regular 5'; Length: 60; Trimmed: 254861 times\n",
      "\n",
      "Minimum overlap: 3\n",
      "No. of allowed errors:\n",
      "1-19 bp: 0; 20-39 bp: 1; 40-59 bp: 2; 60 bp: 3\n",
      "\n",
      "Overview of removed sequences\n",
      "length\tcount\texpect\tmax.err\terror counts\n",
      "3\t8\t4110.9\t0\t8\n",
      "4\t24\t1027.7\t0\t24\n",
      "57\t2\t0.0\t2\t0 0 0 2\n",
      "58\t3\t0.0\t2\t0 0 3\n",
      "59\t340\t0.0\t2\t1 299 29 11\n",
      "60\t254412\t0.0\t3\t227964 18178 5444 2826\n",
      "61\t72\t0.0\t3\t0 62 7 3\n"
     ]
    }
   ],
   "source": [
    "%%bash\n",
    "source ~/.bashrc\n",
    "source activate catcher;\n",
    "cd data/\n",
    "# trim_galore --help #raw_data/Cat-1_S1_L001_R1_001.fastq.gz \\\n",
    "# raw_data/Cat-1_S1_L001_R2_001.fastq.gz \\\n",
    "# --fastqc --cores 8 --adapter2 \"file:./adapters_old.fa\" --length 0 --paired \\\n",
    "# --basename Cat-1_trim -o test_trim -e 0 --hardtrim3 45 --consider_already_trimmed 0\n",
    "\n",
    "# cutadapt --help\n",
    "for i in 1 2 3 4;\n",
    "do\n",
    "trim_galore \n",
    "cutadapt -g ACTAGTTCTGGGAGATTTTCTACCACTAGATGGTGCCAATTGCAAAGCCAATACT \\\n",
    "-G GGCGCGCCTAAGCCGCACCTAGATACTCCACCAGGGGGCAGGGTTGAGGCAGCCAATACT --cores 32 --errors 0.05 \\\n",
    "-o raw_data/Cat-${i}_S${i}_L001_R1_001.trimmed.fastq.gz \\\n",
    "-p raw_data/Cat-${i}_S${i}_L001_R2_001.trimmed.fastq.gz \\\n",
    "raw_data/Cat-${i}_S${i}_L001_R1_001.fastq.gz  \\\n",
    "raw_data/Cat-${i}_S${i}_L001_R2_001.fastq.gz;\n",
    "done"
   ]
  },
  {
   "cell_type": "code",
   "execution_count": 198,
   "id": "7a52cb07-42ac-4f70-a37f-d4f13e82b41c",
   "metadata": {},
   "outputs": [],
   "source": [
    "%%bash\n",
    "source ~/.bashrc\n",
    "source activate catcher;\n",
    "cd data/\n",
    "# --adapter_fasta adapters.fa --dedup\n",
    "# fastp\n",
    "# for i in 1 2 3 4;\n",
    "# do\n",
    "# fastp -i raw_data/Cat-${i}_S${i}_L001_R1_001.WithBarcode.fastq.gz \\\n",
    "# -I raw_data/Cat-${i}_S${i}_L001_R2_001.WithBarcode.fastq.gz \\\n",
    "# --adapter_fasta adapters.fa --thread 32 --html Cat-${i}.noBar.html \\\n",
    "# --length_required 5 \\\n",
    "# -o raw_data/Cat-${i}_S${i}_L001_R1_001.fastp.fastq.gz \\\n",
    "# -O raw_data/Cat-${i}_S${i}_L001_R2_001.fastp.fastq.gz;\n",
    "# done"
   ]
  },
  {
   "cell_type": "markdown",
   "id": "5925af4c-5c03-4912-9855-31f7231650a4",
   "metadata": {},
   "source": [
    "# Alignment"
   ]
  },
  {
   "cell_type": "code",
   "execution_count": 165,
   "id": "2ee4bc6c-8ab2-4175-94ff-dd7af6cf42ad",
   "metadata": {},
   "outputs": [],
   "source": [
    "%%bash\n",
    "cd data/\n",
    "#wget http://hgdownload.soe.ucsc.edu/goldenPath/hg38/bigZips/hg38.fa.gz"
   ]
  },
  {
   "cell_type": "code",
   "execution_count": 204,
   "id": "dc361e11-69d3-4ab0-a7cd-b5faed0018e1",
   "metadata": {},
   "outputs": [
    {
     "name": "stderr",
     "output_type": "stream",
     "text": [
      "[M::bwa_idx_load_from_disk] read 0 ALT contigs\n",
      "[M::process] read 47788 sequences (2125477 bp)...\n",
      "[M::mem_pestat] # candidate unique pairs for (FF, FR, RF, RR): (1, 12301, 2, 1)\n",
      "[M::mem_pestat] skip orientation FF as there are not enough pairs\n",
      "[M::mem_pestat] analyzing insert size distribution for orientation FR...\n",
      "[M::mem_pestat] (25, 50, 75) percentile: (370, 426, 486)\n",
      "[M::mem_pestat] low and high boundaries for computing mean and std.dev: (138, 718)\n",
      "[M::mem_pestat] mean and std.dev: (430.23, 81.78)\n",
      "[M::mem_pestat] low and high boundaries for proper pairs: (22, 834)\n",
      "[M::mem_pestat] skip orientation RF as there are not enough pairs\n",
      "[M::mem_pestat] skip orientation RR as there are not enough pairs\n",
      "[M::mem_process_seqs] Processed 47788 reads in 28.185 CPU sec, 0.895 real sec\n",
      "[main] Version: 0.7.18-r1243-dirty\n",
      "[main] CMD: bwa mem -t 32 hg38.fa raw_data/Cat-1_S1_L001_R1_001.trimmed.fastq.gz raw_data/Cat-1_S1_L001_R2_001.trimmed.fastq.gz\n",
      "[main] Real time: 4.478 sec; CPU: 31.226 sec\n",
      "[M::bwa_idx_load_from_disk] read 0 ALT contigs\n",
      "[M::process] read 264750 sequences (11931551 bp)...\n",
      "[M::mem_pestat] # candidate unique pairs for (FF, FR, RF, RR): (7, 68080, 26, 1)\n",
      "[M::mem_pestat] skip orientation FF as there are not enough pairs\n",
      "[M::mem_pestat] analyzing insert size distribution for orientation FR...\n",
      "[M::mem_pestat] (25, 50, 75) percentile: (363, 423, 491)\n",
      "[M::mem_pestat] low and high boundaries for computing mean and std.dev: (107, 747)\n",
      "[M::mem_pestat] mean and std.dev: (430.97, 90.89)\n",
      "[M::mem_pestat] low and high boundaries for proper pairs: (1, 875)\n",
      "[M::mem_pestat] analyzing insert size distribution for orientation RF...\n",
      "[M::mem_pestat] (25, 50, 75) percentile: (6317, 6319, 6319)\n",
      "[M::mem_pestat] low and high boundaries for computing mean and std.dev: (6313, 6323)\n",
      "[M::mem_pestat] mean and std.dev: (6319.35, 1.45)\n",
      "[M::mem_pestat] low and high boundaries for proper pairs: (6311, 6325)\n",
      "[M::mem_pestat] skip orientation RR as there are not enough pairs\n",
      "[M::mem_pestat] skip orientation RF\n",
      "[M::mem_process_seqs] Processed 264750 reads in 182.253 CPU sec, 5.775 real sec\n",
      "[main] Version: 0.7.18-r1243-dirty\n",
      "[main] CMD: bwa mem -t 32 hg38.fa raw_data/Cat-2_S2_L001_R1_001.trimmed.fastq.gz raw_data/Cat-2_S2_L001_R2_001.trimmed.fastq.gz\n",
      "[main] Real time: 9.883 sec; CPU: 185.580 sec\n",
      "[M::bwa_idx_load_from_disk] read 0 ALT contigs\n",
      "[M::process] read 131216 sequences (5924102 bp)...\n",
      "[M::mem_pestat] # candidate unique pairs for (FF, FR, RF, RR): (3, 31989, 26, 8)\n",
      "[M::mem_pestat] skip orientation FF as there are not enough pairs\n",
      "[M::mem_pestat] analyzing insert size distribution for orientation FR...\n",
      "[M::mem_pestat] (25, 50, 75) percentile: (338, 395, 468)\n",
      "[M::mem_pestat] low and high boundaries for computing mean and std.dev: (78, 728)\n",
      "[M::mem_pestat] mean and std.dev: (408.29, 94.65)\n",
      "[M::mem_pestat] low and high boundaries for proper pairs: (1, 858)\n",
      "[M::mem_pestat] analyzing insert size distribution for orientation RF...\n",
      "[M::mem_pestat] (25, 50, 75) percentile: (6319, 6319, 6322)\n",
      "[M::mem_pestat] low and high boundaries for computing mean and std.dev: (6313, 6328)\n",
      "[M::mem_pestat] mean and std.dev: (6320.65, 2.33)\n",
      "[M::mem_pestat] low and high boundaries for proper pairs: (6310, 6331)\n",
      "[M::mem_pestat] skip orientation RR as there are not enough pairs\n",
      "[M::mem_pestat] skip orientation RF\n",
      "[M::mem_process_seqs] Processed 131216 reads in 94.443 CPU sec, 2.996 real sec\n",
      "[main] Version: 0.7.18-r1243-dirty\n",
      "[main] CMD: bwa mem -t 32 hg38.fa raw_data/Cat-3_S3_L001_R1_001.trimmed.fastq.gz raw_data/Cat-3_S3_L001_R2_001.trimmed.fastq.gz\n",
      "[main] Real time: 6.503 sec; CPU: 97.559 sec\n",
      "[M::bwa_idx_load_from_disk] read 0 ALT contigs\n",
      "[M::process] read 526196 sequences (23437686 bp)...\n",
      "[M::mem_pestat] # candidate unique pairs for (FF, FR, RF, RR): (17, 136155, 53, 19)\n",
      "[M::mem_pestat] analyzing insert size distribution for orientation FF...\n",
      "[M::mem_pestat] (25, 50, 75) percentile: (206, 330, 3085)\n",
      "[M::mem_pestat] low and high boundaries for computing mean and std.dev: (1, 8843)\n",
      "[M::mem_pestat] mean and std.dev: (1263.35, 1764.67)\n",
      "[M::mem_pestat] low and high boundaries for proper pairs: (1, 11722)\n",
      "[M::mem_pestat] analyzing insert size distribution for orientation FR...\n",
      "[M::mem_pestat] (25, 50, 75) percentile: (350, 410, 484)\n",
      "[M::mem_pestat] low and high boundaries for computing mean and std.dev: (82, 752)\n",
      "[M::mem_pestat] mean and std.dev: (421.88, 97.19)\n",
      "[M::mem_pestat] low and high boundaries for proper pairs: (1, 886)\n",
      "[M::mem_pestat] analyzing insert size distribution for orientation RF...\n",
      "[M::mem_pestat] (25, 50, 75) percentile: (4561, 6319, 6320)\n",
      "[M::mem_pestat] low and high boundaries for computing mean and std.dev: (1043, 9838)\n",
      "[M::mem_pestat] mean and std.dev: (5600.33, 1077.70)\n",
      "[M::mem_pestat] low and high boundaries for proper pairs: (1, 11597)\n",
      "[M::mem_pestat] analyzing insert size distribution for orientation RR...\n",
      "[M::mem_pestat] (25, 50, 75) percentile: (105, 189, 434)\n",
      "[M::mem_pestat] low and high boundaries for computing mean and std.dev: (1, 1092)\n",
      "[M::mem_pestat] mean and std.dev: (158.07, 107.91)\n",
      "[M::mem_pestat] low and high boundaries for proper pairs: (1, 1421)\n",
      "[M::mem_pestat] skip orientation FF\n",
      "[M::mem_pestat] skip orientation RF\n",
      "[M::mem_pestat] skip orientation RR\n",
      "[M::mem_process_seqs] Processed 526196 reads in 396.228 CPU sec, 12.522 real sec\n",
      "[main] Version: 0.7.18-r1243-dirty\n",
      "[main] CMD: bwa mem -t 32 hg38.fa raw_data/Cat-4_S4_L001_R1_001.trimmed.fastq.gz raw_data/Cat-4_S4_L001_R2_001.trimmed.fastq.gz\n",
      "[main] Real time: 17.800 sec; CPU: 400.004 sec\n"
     ]
    }
   ],
   "source": [
    "%%bash\n",
    "source ~/.bashrc\n",
    "source activate catcher;\n",
    "cd data/\n",
    "for i in 1 2 3 4;\n",
    "do\n",
    "bwa mem \\\n",
    "  -t 32 \\\n",
    "  hg38.fa \\\n",
    "  raw_data/Cat-${i}_S${i}_L001_R1_001.trimmed.fastq.gz \\\n",
    "  raw_data/Cat-${i}_S${i}_L001_R2_001.trimmed.fastq.gz \\\n",
    "  | samtools view -h -b - -o Cat-${i}.bam;\n",
    "done"
   ]
  },
  {
   "cell_type": "code",
   "execution_count": null,
   "id": "6c3c2f5d-5d0a-41aa-a3c8-b78441dace7a",
   "metadata": {},
   "outputs": [
    {
     "name": "stderr",
     "output_type": "stream",
     "text": [
      "[bam_sort_core] merging from 0 files and 32 in-memory blocks...\n",
      "normalization: CPM\n"
     ]
    },
    {
     "name": "stdout",
     "output_type": "stream",
     "text": [
      "There are 232569 alignments, of which 300 are completely within a blacklist region.\n"
     ]
    },
    {
     "name": "stderr",
     "output_type": "stream",
     "text": [
      "bamFilesList: ['Cat-2.sort.bam']\n",
      "binLength: 50\n",
      "numberOfSamples: None\n",
      "blackListFileName: ['blacklist.v2.bed']\n",
      "skipZeroOverZero: False\n",
      "bed_and_bin: False\n",
      "genomeChunkSize: None\n",
      "defaultFragmentLength: 432\n",
      "numberOfProcessors: 32\n",
      "verbose: False\n",
      "region: None\n",
      "bedFile: None\n",
      "minMappingQuality: None\n",
      "ignoreDuplicates: True\n",
      "chrsToSkip: []\n",
      "stepSize: 50\n",
      "center_read: False\n",
      "samFlag_include: None\n",
      "samFlag_exclude: None\n",
      "minFragmentLength: 0\n",
      "maxFragmentLength: 0\n",
      "zerosToNans: False\n",
      "smoothLength: 100\n",
      "save_data: False\n",
      "out_file_for_raw_data: None\n",
      "maxPairedFragmentLength: 1728\n",
      "normalization: CPM\n",
      "bamFilesList: ['Cat-2.sort.bam']\n",
      "binLength: 50\n",
      "numberOfSamples: None\n",
      "blackListFileName: ['blacklist.v2.bed']\n",
      "skipZeroOverZero: False\n",
      "bed_and_bin: False\n",
      "genomeChunkSize: None\n",
      "defaultFragmentLength: read length\n",
      "numberOfProcessors: 32\n",
      "verbose: False\n",
      "region: None\n",
      "bedFile: None\n",
      "minMappingQuality: None\n",
      "ignoreDuplicates: True\n",
      "chrsToSkip: []\n",
      "stepSize: 50\n",
      "center_read: True\n",
      "samFlag_include: None\n",
      "samFlag_exclude: None\n",
      "minFragmentLength: 0\n",
      "maxFragmentLength: 0\n",
      "zerosToNans: False\n",
      "smoothLength: 100\n",
      "save_data: False\n",
      "out_file_for_raw_data: None\n",
      "maxPairedFragmentLength: 1000\n"
     ]
    },
    {
     "name": "stdout",
     "output_type": "stream",
     "text": [
      "There are 232569 alignments, of which 300 are completely within a blacklist region.\n"
     ]
    },
    {
     "name": "stderr",
     "output_type": "stream",
     "text": [
      "normalization: CPM\n",
      "bamFilesList: ['Cat-2.sort.bam']\n",
      "binLength: 50\n",
      "numberOfSamples: None\n",
      "blackListFileName: ['blacklist.v2.bed']\n",
      "skipZeroOverZero: False\n",
      "bed_and_bin: False\n",
      "genomeChunkSize: None\n",
      "defaultFragmentLength: read length\n",
      "numberOfProcessors: 32\n",
      "verbose: False\n",
      "region: None\n",
      "bedFile: None\n",
      "minMappingQuality: None\n",
      "ignoreDuplicates: True\n",
      "chrsToSkip: []\n",
      "stepSize: 50\n",
      "center_read: False\n",
      "samFlag_include: None\n",
      "samFlag_exclude: None\n",
      "minFragmentLength: 0\n",
      "maxFragmentLength: 0\n",
      "zerosToNans: False\n",
      "smoothLength: 100\n",
      "save_data: False\n",
      "out_file_for_raw_data: None\n",
      "maxPairedFragmentLength: 1000\n"
     ]
    },
    {
     "name": "stdout",
     "output_type": "stream",
     "text": [
      "There are 232569 alignments, of which 300 are completely within a blacklist region.\n"
     ]
    },
    {
     "name": "stderr",
     "output_type": "stream",
     "text": [
      "[bam_sort_core] merging from 0 files and 32 in-memory blocks...\n",
      "normalization: CPM\n"
     ]
    },
    {
     "name": "stdout",
     "output_type": "stream",
     "text": [
      "There are 112662 alignments, of which 195 are completely within a blacklist region.\n"
     ]
    },
    {
     "name": "stderr",
     "output_type": "stream",
     "text": [
      "bamFilesList: ['Cat-3.sort.bam']\n",
      "binLength: 50\n",
      "numberOfSamples: None\n",
      "blackListFileName: ['blacklist.v2.bed']\n",
      "skipZeroOverZero: False\n",
      "bed_and_bin: False\n",
      "genomeChunkSize: None\n",
      "defaultFragmentLength: 404\n",
      "numberOfProcessors: 32\n",
      "verbose: False\n",
      "region: None\n",
      "bedFile: None\n",
      "minMappingQuality: None\n",
      "ignoreDuplicates: True\n",
      "chrsToSkip: []\n",
      "stepSize: 50\n",
      "center_read: False\n",
      "samFlag_include: None\n",
      "samFlag_exclude: None\n",
      "minFragmentLength: 0\n",
      "maxFragmentLength: 0\n",
      "zerosToNans: False\n",
      "smoothLength: 100\n",
      "save_data: False\n",
      "out_file_for_raw_data: None\n",
      "maxPairedFragmentLength: 1616\n"
     ]
    }
   ],
   "source": [
    "%%bash\n",
    "source ~/.bashrc\n",
    "source activate catcher;\n",
    "cd data/\n",
    "for i in 2 3 4;\n",
    "do\n",
    "samtools sort -@ 32 Cat-${i}.bam -o Cat-${i}.sort.bam \n",
    "samtools index Cat-${i}.sort.bam\n",
    "bamCoverage --bam Cat-${i}.sort.bam -bs 50 -bl blacklist.v2.bed -p 32 \\\n",
    "--normalizeUsing CPM --smoothLength 100 \\\n",
    "--extendReads --ignoreDuplicates -o Cat${i}.fullFrag.bw\n",
    "\n",
    "bamCoverage --bam Cat-${i}.sort.bam -bs 50 -bl blacklist.v2.bed -p 32 \\\n",
    "--normalizeUsing CPM --smoothLength 100 \\\n",
    "--centerReads --ignoreDuplicates -o Cat${i}.CenterReads.bw\n",
    "\n",
    "bamCoverage --bam Cat-${i}.sort.bam -bs 50 -bl blacklist.v2.bed -p 32 \\\n",
    "--normalizeUsing CPM --smoothLength 100 \\\n",
    "--ignoreDuplicates -o Cat${i}.CutSites.bw;\n",
    "done"
   ]
  }
 ],
 "metadata": {
  "kernelspec": {
   "display_name": "Python [conda env:.conda-catcher]",
   "language": "python",
   "name": "conda-env-.conda-catcher-py"
  },
  "language_info": {
   "codemirror_mode": {
    "name": "ipython",
    "version": 3
   },
   "file_extension": ".py",
   "mimetype": "text/x-python",
   "name": "python",
   "nbconvert_exporter": "python",
   "pygments_lexer": "ipython3",
   "version": "3.10.8"
  }
 },
 "nbformat": 4,
 "nbformat_minor": 5
}
